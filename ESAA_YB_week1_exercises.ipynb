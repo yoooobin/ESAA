{
  "nbformat": 4,
  "nbformat_minor": 0,
  "metadata": {
    "colab": {
      "provenance": []
    },
    "kernelspec": {
      "name": "python3",
      "display_name": "Python 3"
    },
    "language_info": {
      "name": "python"
    }
  },
  "cells": [
    {
      "cell_type": "markdown",
      "source": [
        "# Numpy exercises\n",
        "This is a collection of exercises that have been collected in the numpy mailing list, on stack overflow and in the numpy documentation. The goal of this collection is to offer a quick reference for both old and new users but also to provide a set of exercises for those who teach.\n",
        "\n",
        "If you find an error or think you've a better way to solve some of them, feel free to open an issue at https://github.com/rougier/numpy-100.\n",
        "\n"
      ],
      "metadata": {
        "id": "j8JA9gE8YuUl"
      }
    },
    {
      "cell_type": "markdown",
      "source": [
        "File automatically generated. See the documentation to update questions/answers/hints programmatically."
      ],
      "metadata": {
        "id": "uU9mNfDFbvN3"
      }
    },
    {
      "cell_type": "markdown",
      "source": [
        "#### 1. Import the numpy package under the name `np` (★☆☆)"
      ],
      "metadata": {
        "id": "FyaAXsQBa-ro"
      }
    },
    {
      "cell_type": "code",
      "source": [
        "import numpy as np"
      ],
      "metadata": {
        "id": "JgPiMT1WbWf_"
      },
      "execution_count": null,
      "outputs": []
    },
    {
      "cell_type": "markdown",
      "source": [
        "#### 2. Print the numpy version and the configuration (★☆☆)"
      ],
      "metadata": {
        "id": "tFGkqFeWbwhn"
      }
    },
    {
      "cell_type": "code",
      "source": [
        "print(np.version)\n",
        "print(np.show_config())"
      ],
      "metadata": {
        "colab": {
          "base_uri": "https://localhost:8080/"
        },
        "id": "YhYDEbjhbd_i",
        "outputId": "abbf0a73-bbbf-45b8-b6f7-b7ae44f92cea"
      },
      "execution_count": null,
      "outputs": [
        {
          "output_type": "stream",
          "name": "stdout",
          "text": [
            "<module 'numpy.version' from '/usr/local/lib/python3.10/dist-packages/numpy/version.py'>\n",
            "Build Dependencies:\n",
            "  blas:\n",
            "    detection method: pkgconfig\n",
            "    found: true\n",
            "    include directory: /usr/local/include\n",
            "    lib directory: /usr/local/lib\n",
            "    name: openblas64\n",
            "    openblas configuration: USE_64BITINT=1 DYNAMIC_ARCH=1 DYNAMIC_OLDER= NO_CBLAS=\n",
            "      NO_LAPACK= NO_LAPACKE= NO_AFFINITY=1 USE_OPENMP= HASWELL MAX_THREADS=2\n",
            "    pc file directory: /usr/local/lib/pkgconfig\n",
            "    version: 0.3.23.dev\n",
            "  lapack:\n",
            "    detection method: internal\n",
            "    found: true\n",
            "    include directory: unknown\n",
            "    lib directory: unknown\n",
            "    name: dep139863411681952\n",
            "    openblas configuration: unknown\n",
            "    pc file directory: unknown\n",
            "    version: 1.26.4\n",
            "Compilers:\n",
            "  c:\n",
            "    args: -fno-strict-aliasing\n",
            "    commands: cc\n",
            "    linker: ld.bfd\n",
            "    linker args: -Wl,--strip-debug, -fno-strict-aliasing\n",
            "    name: gcc\n",
            "    version: 10.2.1\n",
            "  c++:\n",
            "    commands: c++\n",
            "    linker: ld.bfd\n",
            "    linker args: -Wl,--strip-debug\n",
            "    name: gcc\n",
            "    version: 10.2.1\n",
            "  cython:\n",
            "    commands: cython\n",
            "    linker: cython\n",
            "    name: cython\n",
            "    version: 3.0.8\n",
            "Machine Information:\n",
            "  build:\n",
            "    cpu: x86_64\n",
            "    endian: little\n",
            "    family: x86_64\n",
            "    system: linux\n",
            "  host:\n",
            "    cpu: x86_64\n",
            "    endian: little\n",
            "    family: x86_64\n",
            "    system: linux\n",
            "Python Information:\n",
            "  path: /opt/python/cp310-cp310/bin/python\n",
            "  version: '3.10'\n",
            "SIMD Extensions:\n",
            "  baseline:\n",
            "  - SSE\n",
            "  - SSE2\n",
            "  - SSE3\n",
            "  found:\n",
            "  - SSSE3\n",
            "  - SSE41\n",
            "  - POPCNT\n",
            "  - SSE42\n",
            "  - AVX\n",
            "  - F16C\n",
            "  - FMA3\n",
            "  - AVX2\n",
            "  not found:\n",
            "  - AVX512F\n",
            "  - AVX512CD\n",
            "  - AVX512_KNL\n",
            "  - AVX512_KNM\n",
            "  - AVX512_SKX\n",
            "  - AVX512_CLX\n",
            "  - AVX512_CNL\n",
            "  - AVX512_ICL\n",
            "\n",
            "None\n"
          ]
        }
      ]
    },
    {
      "cell_type": "markdown",
      "source": [
        "#### 3. Create a null vector of size 10 (★☆☆)"
      ],
      "metadata": {
        "id": "vo9r86o5cWs0"
      }
    },
    {
      "cell_type": "code",
      "source": [
        "null_vector = np.zeros(10)\n",
        "print(null_vector)"
      ],
      "metadata": {
        "colab": {
          "base_uri": "https://localhost:8080/"
        },
        "id": "oGbYG_ZQcUgi",
        "outputId": "ac049d29-a802-42c5-aea7-15d0027c17b3"
      },
      "execution_count": null,
      "outputs": [
        {
          "output_type": "stream",
          "name": "stdout",
          "text": [
            "[0. 0. 0. 0. 0. 0. 0. 0. 0. 0.]\n"
          ]
        }
      ]
    },
    {
      "cell_type": "markdown",
      "source": [
        "#### 4. How to find the memory size of any array (★☆☆)"
      ],
      "metadata": {
        "id": "2Vp8KNabcs6t"
      }
    },
    {
      "cell_type": "code",
      "source": [
        "null_vector_memory_size = null_vector.nbytes\n",
        "print(null_vector_memory_size)"
      ],
      "metadata": {
        "colab": {
          "base_uri": "https://localhost:8080/"
        },
        "id": "5Y1405ZucchA",
        "outputId": "14e9dbe4-0a4c-4e10-f06d-a176a0be0d4f"
      },
      "execution_count": null,
      "outputs": [
        {
          "output_type": "stream",
          "name": "stdout",
          "text": [
            "80\n"
          ]
        }
      ]
    },
    {
      "cell_type": "markdown",
      "source": [
        "#### 5. Create a null vector of size 10 but the fifth value which is 1 (★☆☆)"
      ],
      "metadata": {
        "id": "tvXp8o5Ufn8Z"
      }
    },
    {
      "cell_type": "code",
      "source": [
        "null_vector[4] = 1\n",
        "print(null_vector)"
      ],
      "metadata": {
        "colab": {
          "base_uri": "https://localhost:8080/"
        },
        "id": "bfOfk_Vufm9V",
        "outputId": "bb57cb18-b8d5-42f7-c7dd-51f4d45d8119"
      },
      "execution_count": null,
      "outputs": [
        {
          "output_type": "stream",
          "name": "stdout",
          "text": [
            "[0. 0. 0. 0. 1. 0. 0. 0. 0. 0.]\n"
          ]
        }
      ]
    },
    {
      "cell_type": "markdown",
      "source": [
        "#### 6. Create a vector with values ranging from 10 to 49 (★☆☆)"
      ],
      "metadata": {
        "id": "16fu_1sQgZpt"
      }
    },
    {
      "cell_type": "code",
      "source": [
        "vector6 = np.arange(start=10, stop=50)\n",
        "print(vector6)"
      ],
      "metadata": {
        "colab": {
          "base_uri": "https://localhost:8080/"
        },
        "id": "7L5J7nL6gXr1",
        "outputId": "1cea2dd6-6df2-4dea-a1dd-955f6de72fe9"
      },
      "execution_count": null,
      "outputs": [
        {
          "output_type": "stream",
          "name": "stdout",
          "text": [
            "[10 11 12 13 14 15 16 17 18 19 20 21 22 23 24 25 26 27 28 29 30 31 32 33\n",
            " 34 35 36 37 38 39 40 41 42 43 44 45 46 47 48 49]\n"
          ]
        }
      ]
    },
    {
      "cell_type": "markdown",
      "source": [
        "#### 7. Reverse a vector (first element becomes last) (★☆☆)"
      ],
      "metadata": {
        "id": "2YzI3KqdjbE5"
      }
    },
    {
      "cell_type": "code",
      "source": [
        "vector7 = np.sort(vector6)[::-1]\n",
        "print(vector7)"
      ],
      "metadata": {
        "colab": {
          "base_uri": "https://localhost:8080/"
        },
        "id": "p52W4aRZjT1C",
        "outputId": "69a3d960-1e4f-4a36-e7f1-0d43e211c84a"
      },
      "execution_count": null,
      "outputs": [
        {
          "output_type": "stream",
          "name": "stdout",
          "text": [
            "[49 48 47 46 45 44 43 42 41 40 39 38 37 36 35 34 33 32 31 30 29 28 27 26\n",
            " 25 24 23 22 21 20 19 18 17 16 15 14 13 12 11 10]\n"
          ]
        }
      ]
    },
    {
      "cell_type": "markdown",
      "source": [
        "#### 8. Create a 3x3 matrix with values ranging from 0 to 8 (★☆☆)"
      ],
      "metadata": {
        "id": "UFpVCnHNkxCP"
      }
    },
    {
      "cell_type": "code",
      "source": [
        "matrix8 = np.arange(0,9).reshape(3,3)\n",
        "print(matrix8)"
      ],
      "metadata": {
        "colab": {
          "base_uri": "https://localhost:8080/"
        },
        "id": "X_faNkiLk1UN",
        "outputId": "87fecb67-5cb3-48f4-c5cc-125fa2ea2350"
      },
      "execution_count": null,
      "outputs": [
        {
          "output_type": "stream",
          "name": "stdout",
          "text": [
            "[[0 1 2]\n",
            " [3 4 5]\n",
            " [6 7 8]]\n"
          ]
        }
      ]
    },
    {
      "cell_type": "markdown",
      "source": [
        "#### 9. Find indices of non-zero elements from [1,2,0,0,4,0] (★☆☆)"
      ],
      "metadata": {
        "id": "zvWElpvEl3_w"
      }
    },
    {
      "cell_type": "code",
      "source": [
        "array = np.array([1, 2, 0, 0, 4, 0])\n",
        "indices = np.nonzero(array)[0]\n",
        "print(indices)"
      ],
      "metadata": {
        "colab": {
          "base_uri": "https://localhost:8080/"
        },
        "id": "r-_v_2agl1fS",
        "outputId": "4bd41c07-9e97-4e0d-dc50-98b114418602"
      },
      "execution_count": null,
      "outputs": [
        {
          "output_type": "stream",
          "name": "stdout",
          "text": [
            "[0 1 4]\n"
          ]
        }
      ]
    },
    {
      "cell_type": "markdown",
      "source": [
        "#### 10. Create a 3x3 identity matrix (★☆☆)\n",
        "Hint : identity & eye, try to use 'help' to learn how to use two functions of numpy"
      ],
      "metadata": {
        "id": "EE-ZKJIYodc5"
      }
    },
    {
      "cell_type": "code",
      "source": [
        "matrix10 = np.identity(3)\n",
        "print(matrix10)"
      ],
      "metadata": {
        "colab": {
          "base_uri": "https://localhost:8080/"
        },
        "id": "W4GuS0beoWtr",
        "outputId": "efa414db-1e1a-4c99-e1f0-4ff2d182d6ff"
      },
      "execution_count": null,
      "outputs": [
        {
          "output_type": "stream",
          "name": "stdout",
          "text": [
            "[[1. 0. 0.]\n",
            " [0. 1. 0.]\n",
            " [0. 0. 1.]]\n"
          ]
        }
      ]
    },
    {
      "cell_type": "markdown",
      "source": [
        "#### 11. Create a 3x3x3 array with random values (★☆☆)\n",
        "Hint : numpy.random.random"
      ],
      "metadata": {
        "id": "2Us05au8owVH"
      }
    },
    {
      "cell_type": "code",
      "source": [
        "matrix11 = np.random.random((3,3,3))\n",
        "print(matrix11)"
      ],
      "metadata": {
        "colab": {
          "base_uri": "https://localhost:8080/"
        },
        "id": "hXZUTdh4ovbD",
        "outputId": "33ebc339-3593-4ab6-f8fa-57ee261eb73e"
      },
      "execution_count": null,
      "outputs": [
        {
          "output_type": "stream",
          "name": "stdout",
          "text": [
            "[[[0.65253101 0.45424753 0.48286417]\n",
            "  [0.33871946 0.88069906 0.65084038]\n",
            "  [0.67913716 0.05109124 0.68495928]]\n",
            "\n",
            " [[0.75742246 0.22698942 0.16463019]\n",
            "  [0.87356608 0.25581612 0.68629608]\n",
            "  [0.26531347 0.25576787 0.74783309]]\n",
            "\n",
            " [[0.01138919 0.94960096 0.57409845]\n",
            "  [0.51702319 0.67566258 0.94066697]\n",
            "  [0.54650423 0.50399298 0.87734216]]]\n"
          ]
        }
      ]
    },
    {
      "cell_type": "markdown",
      "source": [
        "#### 12. Create a 10x10 array with random values and find the **min**imum and **max**imum values (★☆☆)"
      ],
      "metadata": {
        "id": "SxblDOoYpGYz"
      }
    },
    {
      "cell_type": "code",
      "source": [
        "array12 = np.random.random((10,10))\n",
        "print(array12)\n",
        "print('min value:\\n', array12.min())\n",
        "print('max value:\\n', array12.max())"
      ],
      "metadata": {
        "colab": {
          "base_uri": "https://localhost:8080/"
        },
        "id": "LTa57axBo5OR",
        "outputId": "c3acac31-6973-411e-d0a4-fd056d6ca1fa"
      },
      "execution_count": null,
      "outputs": [
        {
          "output_type": "stream",
          "name": "stdout",
          "text": [
            "[[7.18741666e-01 7.09632231e-01 9.34311553e-01 2.46053956e-01\n",
            "  5.28665341e-01 2.24007624e-02 3.77487505e-01 3.03700489e-01\n",
            "  8.30418112e-01 2.08990957e-01]\n",
            " [5.58757772e-01 9.54037769e-02 4.39417547e-01 4.97398737e-01\n",
            "  6.90418511e-01 6.88523217e-01 6.08212662e-01 9.23731551e-01\n",
            "  4.76803695e-01 4.14068321e-01]\n",
            " [7.89810933e-01 1.54176751e-01 1.12104701e-01 5.44220124e-01\n",
            "  4.29863459e-01 2.34750994e-01 9.82173931e-01 7.47187572e-01\n",
            "  3.05879129e-01 6.95430535e-01]\n",
            " [4.72905304e-01 1.40425672e-01 4.21687792e-01 2.95500192e-01\n",
            "  3.86376687e-02 2.79242411e-01 1.04691969e-01 9.74417280e-02\n",
            "  2.63495648e-01 7.48813342e-01]\n",
            " [1.22004323e-01 5.59378038e-01 2.46923573e-01 2.09252162e-01\n",
            "  7.29117523e-01 4.70075563e-01 4.70458028e-01 4.34045159e-01\n",
            "  8.85959071e-01 4.43331399e-01]\n",
            " [1.02790635e-01 2.14753593e-01 8.69794027e-01 6.85834846e-01\n",
            "  7.02964220e-02 4.46556834e-02 3.14073051e-01 4.60866870e-01\n",
            "  3.90451599e-01 6.65168155e-01]\n",
            " [8.47435081e-01 6.99509253e-02 3.51867865e-01 3.00398644e-01\n",
            "  3.74133659e-01 5.35247908e-01 9.53499106e-01 5.96247275e-01\n",
            "  9.18080844e-01 6.37143738e-01]\n",
            " [2.16760555e-01 3.71415744e-01 3.11926262e-01 7.02288435e-04\n",
            "  9.19255819e-01 9.69497470e-01 8.14326730e-01 1.42052603e-01\n",
            "  1.06593424e-02 2.69578582e-01]\n",
            " [1.61190801e-02 6.99683003e-01 5.35486254e-01 4.93277681e-01\n",
            "  1.04856839e-01 5.72001932e-01 3.78915980e-01 3.64804147e-01\n",
            "  1.89473234e-01 2.61180134e-01]\n",
            " [6.18931273e-01 9.70045268e-01 1.90549891e-01 2.58552462e-01\n",
            "  3.10042394e-01 4.25036698e-01 8.68064051e-02 5.79650646e-01\n",
            "  1.80306110e-01 8.93947261e-01]]\n",
            "min value:\n",
            " 0.000702288435155185\n",
            "max value:\n",
            " 0.9821739310656115\n"
          ]
        }
      ]
    },
    {
      "cell_type": "markdown",
      "source": [
        "#### 13. Create a random vector of size 30 and find the **mean** value (★☆☆)"
      ],
      "metadata": {
        "id": "BwtgdQzCphzT"
      }
    },
    {
      "cell_type": "code",
      "source": [
        "array13 = np.random.random(30)\n",
        "print(array13)\n",
        "print('mean value:\\n', array13.mean())"
      ],
      "metadata": {
        "colab": {
          "base_uri": "https://localhost:8080/"
        },
        "id": "KXvIEkgtphW6",
        "outputId": "abf9d6c9-1cdb-4965-e44e-d11af137f0a0"
      },
      "execution_count": null,
      "outputs": [
        {
          "output_type": "stream",
          "name": "stdout",
          "text": [
            "[0.80761731 0.58712602 0.32384393 0.80047888 0.40624702 0.70070228\n",
            " 0.82894214 0.94651806 0.90493858 0.71089554 0.3167719  0.94466243\n",
            " 0.04334827 0.7601002  0.37117013 0.88468466 0.5843804  0.74383755\n",
            " 0.25817095 0.03613876 0.26491496 0.49687807 0.65361467 0.88630685\n",
            " 0.28139646 0.51371266 0.93622455 0.79679797 0.11731111 0.2546685 ]\n",
            "mean value:\n",
            " 0.5720800277612874\n"
          ]
        }
      ]
    },
    {
      "cell_type": "markdown",
      "source": [
        "#### 14. Create a 2d array with 1 on the border and 0 inside (★☆☆)"
      ],
      "metadata": {
        "id": "a4Zj16xap_LO"
      }
    },
    {
      "cell_type": "code",
      "source": [
        "array14 = np.zeros((5,5))\n",
        "array14[0, :] = 1\n",
        "array14[:, 0] = 1\n",
        "array14[4, :] = 1\n",
        "array14[:, 4] = 1\n",
        "print(array14)"
      ],
      "metadata": {
        "colab": {
          "base_uri": "https://localhost:8080/"
        },
        "id": "IBuMijxZp6XK",
        "outputId": "36ae1a1b-9c39-4bba-ccc0-39ad8c48592a"
      },
      "execution_count": null,
      "outputs": [
        {
          "output_type": "stream",
          "name": "stdout",
          "text": [
            "[[1. 1. 1. 1. 1.]\n",
            " [1. 0. 0. 0. 1.]\n",
            " [1. 0. 0. 0. 1.]\n",
            " [1. 0. 0. 0. 1.]\n",
            " [1. 1. 1. 1. 1.]]\n"
          ]
        }
      ]
    },
    {
      "cell_type": "markdown",
      "source": [
        "#### 15. What is the result of the following expression? (★☆☆)\n",
        "```python\n",
        "0 * np.nan\n",
        "np.nan == np.nan\n",
        "np.inf > np.nan\n",
        "np.nan - np.nan\n",
        "np.nan in set([np.nan])\n",
        "0.3 == 3 * 0.1\n",
        "```"
      ],
      "metadata": {
        "id": "xlEnuLr9qcl1"
      }
    },
    {
      "cell_type": "markdown",
      "source": [
        "nan\n",
        "\n",
        "False\n",
        "\n",
        "False\n",
        "\n",
        "nan\n",
        "\n",
        "False\n",
        "\n",
        "False"
      ],
      "metadata": {
        "id": "GwhseWXRqq6P"
      }
    },
    {
      "cell_type": "markdown",
      "source": [
        "#### 16. Create a 5x5 matrix with values 1,2,3,4 just below the **diag**onal (★☆☆)"
      ],
      "metadata": {
        "id": "nrjcy6PrquSd"
      }
    },
    {
      "cell_type": "code",
      "source": [
        "matrix16 = np.zeros((5,5))\n",
        "matrix16[1, 0] = 1\n",
        "matrix16[2, 1] = 2\n",
        "matrix16[3, 2] = 3\n",
        "matrix16[4, 3] = 4\n",
        "print(matrix16)"
      ],
      "metadata": {
        "colab": {
          "base_uri": "https://localhost:8080/"
        },
        "id": "EU242SeLqROh",
        "outputId": "8d10582a-ad6c-41a5-cfe2-5ca3e1643b41"
      },
      "execution_count": null,
      "outputs": [
        {
          "output_type": "stream",
          "name": "stdout",
          "text": [
            "[[0. 0. 0. 0. 0.]\n",
            " [1. 0. 0. 0. 0.]\n",
            " [0. 2. 0. 0. 0.]\n",
            " [0. 0. 3. 0. 0.]\n",
            " [0. 0. 0. 4. 0.]]\n"
          ]
        }
      ]
    },
    {
      "cell_type": "markdown",
      "source": [
        "#### 17. Create a 8x8 matrix and fill it with a checkerboard pattern (★☆☆)"
      ],
      "metadata": {
        "id": "9wzP_R7Yrcoq"
      }
    },
    {
      "cell_type": "code",
      "source": [
        "matrix17 = np.zeros((8, 8))\n",
        "matrix17[::2, ::2] = 1\n",
        "matrix17[1::2, 1::2] = 1\n",
        "print(matrix17)"
      ],
      "metadata": {
        "colab": {
          "base_uri": "https://localhost:8080/"
        },
        "id": "BPMZkmvBreqd",
        "outputId": "024c2343-e284-46f6-d0c1-82c11b5f70af"
      },
      "execution_count": null,
      "outputs": [
        {
          "output_type": "stream",
          "name": "stdout",
          "text": [
            "[[1. 0. 1. 0. 1. 0. 1. 0.]\n",
            " [0. 1. 0. 1. 0. 1. 0. 1.]\n",
            " [1. 0. 1. 0. 1. 0. 1. 0.]\n",
            " [0. 1. 0. 1. 0. 1. 0. 1.]\n",
            " [1. 0. 1. 0. 1. 0. 1. 0.]\n",
            " [0. 1. 0. 1. 0. 1. 0. 1.]\n",
            " [1. 0. 1. 0. 1. 0. 1. 0.]\n",
            " [0. 1. 0. 1. 0. 1. 0. 1.]]\n"
          ]
        }
      ]
    },
    {
      "cell_type": "markdown",
      "source": [
        "#### 18. Consider a (6,7,8) shape array, what is the index (x,y,z) of the 100th element? (★☆☆)\n",
        "Hint : use 'numpy.unravel_index(value, (x, y, z))"
      ],
      "metadata": {
        "id": "YtEERy88r1dI"
      }
    },
    {
      "cell_type": "code",
      "source": [
        "np.unravel_index(100, (6, 7, 8))"
      ],
      "metadata": {
        "colab": {
          "base_uri": "https://localhost:8080/"
        },
        "id": "zL75ZMVur0S3",
        "outputId": "08e8acc9-f5d1-419f-bb0d-b012cdf7d7c0"
      },
      "execution_count": null,
      "outputs": [
        {
          "output_type": "execute_result",
          "data": {
            "text/plain": [
              "(1, 5, 4)"
            ]
          },
          "metadata": {},
          "execution_count": 19
        }
      ]
    },
    {
      "cell_type": "markdown",
      "source": [
        "#### 19. Normalize a 5x5 random matrix (★☆☆)\n",
        "Hint : $Z = \\frac{X - \\overline{X}}{S}$"
      ],
      "metadata": {
        "id": "AKL35pw9sE0u"
      }
    },
    {
      "cell_type": "code",
      "source": [
        "random_matrix = np.random.random((5,5))\n",
        "Xbar = random_matrix.mean()\n",
        "Std = random_matrix.std()\n",
        "normalize_matrix = (random_matrix-Xbar)/Std\n",
        "print(normalize_matrix)"
      ],
      "metadata": {
        "colab": {
          "base_uri": "https://localhost:8080/"
        },
        "id": "_ro9UOxIsCGy",
        "outputId": "dda4c35a-f3a4-4d94-a424-c21166191be1"
      },
      "execution_count": null,
      "outputs": [
        {
          "output_type": "stream",
          "name": "stdout",
          "text": [
            "[[ 0.5491856  -1.60911418  0.48864033  1.13336285 -0.49044939]\n",
            " [-0.6123796   0.23869093  0.62339405 -1.21163212 -0.34781608]\n",
            " [ 0.0532711  -0.4878615   0.50447644 -1.51074033  0.99453987]\n",
            " [ 1.57680847  0.51291243  1.60186891  0.77947211 -1.57381785]\n",
            " [-1.60751148 -0.49987356  0.72094423 -1.0086849   1.18231368]]\n"
          ]
        }
      ]
    },
    {
      "cell_type": "markdown",
      "source": [
        "#### 20. Create a custom dtype that describes a color as four unsigned bytes (RGBA) (★☆☆)\n",
        "Hint : modify the code below\n",
        "```python\n",
        "numpy.dtype([(value, numpy.ubyte), … , (value, numpy.ubyte)])\n",
        "```"
      ],
      "metadata": {
        "id": "klC9O52_xfV9"
      }
    },
    {
      "cell_type": "code",
      "source": [
        "RGBA_dtype = np.dtype([('Red', np.ubyte), ('Green', np.ubyte), ('Blue', np.ubyte), ('Alpha', np.ubyte)])\n",
        "print(RGBA_dtype)"
      ],
      "metadata": {
        "colab": {
          "base_uri": "https://localhost:8080/"
        },
        "id": "P6H1HuqJxZ9c",
        "outputId": "6abb6eb2-d889-4f09-b2dc-beebed3f5597"
      },
      "execution_count": null,
      "outputs": [
        {
          "output_type": "stream",
          "name": "stdout",
          "text": [
            "[('Red', 'u1'), ('Green', 'u1'), ('Blue', 'u1'), ('Alpha', 'u1')]\n"
          ]
        }
      ]
    }
  ]
}