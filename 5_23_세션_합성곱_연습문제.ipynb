{
  "nbformat": 4,
  "nbformat_minor": 0,
  "metadata": {
    "colab": {
      "provenance": [],
      "include_colab_link": true
    },
    "kernelspec": {
      "name": "python3",
      "display_name": "Python 3"
    },
    "language_info": {
      "name": "python"
    }
  },
  "cells": [
    {
      "cell_type": "markdown",
      "metadata": {
        "id": "view-in-github",
        "colab_type": "text"
      },
      "source": [
        "<a href=\"https://colab.research.google.com/github/yoooobin/ESAA/blob/main/5_23_%EC%84%B8%EC%85%98_%ED%95%A9%EC%84%B1%EA%B3%B1_%EC%97%B0%EC%8A%B5%EB%AC%B8%EC%A0%9C.ipynb\" target=\"_parent\"><img src=\"https://colab.research.google.com/assets/colab-badge.svg\" alt=\"Open In Colab\"/></a>"
      ]
    },
    {
      "cell_type": "markdown",
      "source": [
        "## 1. CIFAR-10 데이터셋을 이용한 CNN 모델"
      ],
      "metadata": {
        "id": "5KQ4Ly0Fl5xn"
      }
    },
    {
      "cell_type": "markdown",
      "source": [
        "## Step 1. 필요한 라이브러리 임포트"
      ],
      "metadata": {
        "id": "eR6HscVwmibX"
      }
    },
    {
      "cell_type": "code",
      "source": [
        "# 필요한 라이브러리 불러오기\n",
        "import torch\n",
        "import torch.nn as nn\n",
        "import torch.nn.functional as F\n",
        "import torchvision\n",
        "import torchvision.transforms as transforms\n",
        "from torch.utils.data import DataLoader\n",
        "from torch.autograd import Variable"
      ],
      "metadata": {
        "id": "6mH-Vy4imibb"
      },
      "execution_count": 1,
      "outputs": []
    },
    {
      "cell_type": "code",
      "source": [
        "# 디바이스 설정 (GPU 사용 가능하면 GPU, 없으면 CPU)\n",
        "device = torch.device(\"cuda\" if torch.cuda.is_available() else \"cpu\")"
      ],
      "metadata": {
        "id": "mNWYU24Wmibc"
      },
      "execution_count": 14,
      "outputs": []
    },
    {
      "cell_type": "markdown",
      "source": [
        "## Step 2. CIFAR-10 데이터셋 다운로드"
      ],
      "metadata": {
        "id": "752mnx4Rmibd"
      }
    },
    {
      "cell_type": "code",
      "source": [
        "transform = transforms.Compose([\n",
        "    transforms.ToTensor(),\n",
        "    transforms.Normalize((0.5, 0.5, 0.5), (0.5, 0.5, 0.5))  # 정규화 추가\n",
        "])\n",
        "\n",
        "# 데이터셋 로드\n",
        "train_dataset = torchvision.datasets.CIFAR10(root='./data', train=True, transform=transform, download=True)\n",
        "test_dataset = torchvision.datasets.CIFAR10(root='./data', train=False, transform=transform, download=True)\n"
      ],
      "metadata": {
        "id": "yVAQm3YDmibd",
        "colab": {
          "base_uri": "https://localhost:8080/"
        },
        "outputId": "e862dba3-24f5-4c55-e921-2f904b3e316d"
      },
      "execution_count": 15,
      "outputs": [
        {
          "output_type": "stream",
          "name": "stderr",
          "text": [
            "100%|██████████| 170M/170M [00:03<00:00, 48.3MB/s]\n"
          ]
        }
      ]
    },
    {
      "cell_type": "markdown",
      "source": [
        "##Step 3. DataLoader 설정"
      ],
      "metadata": {
        "id": "J3bAh-Pnmibe"
      }
    },
    {
      "cell_type": "code",
      "source": [
        "# DataLoader를 사용하여 배치 크기 64로 데이터를 로드하세요.\n",
        "train_loader = DataLoader(dataset=train_dataset, batch_size=64, shuffle=True)\n",
        "test_loader = DataLoader(dataset=test_dataset, batch_size=64, shuffle=False)"
      ],
      "metadata": {
        "id": "wWfXeICBmibf"
      },
      "execution_count": 21,
      "outputs": []
    },
    {
      "cell_type": "markdown",
      "source": [
        "## Step 4. CNN 모델 정의"
      ],
      "metadata": {
        "id": "W8iMVxm0mibf"
      }
    },
    {
      "cell_type": "code",
      "source": [
        "# CNN 모델 정의\n",
        "\n",
        "class CIFAR10_CNN(nn.Module):\n",
        "    def __init__(self):\n",
        "        super(CIFAR10_CNN, self).__init__()\n",
        "\n",
        "        # 첫 번째 합성곱 층\n",
        "        self.conv1 = nn.Conv2d(in_channels=3, out_channels=32, kernel_size=3, padding=1)\n",
        "        self.bn1 = nn.BatchNorm2d(32)  # 배치 정규화 채널 수 입력\n",
        "\n",
        "        # 두 번째 합성곱 층\n",
        "        self.conv2 = nn.Conv2d(in_channels=32, out_channels=64, kernel_size=3)\n",
        "        self.bn2 = nn.BatchNorm2d(64)\n",
        "\n",
        "        # 세 번째 합성곱 층\n",
        "        self.conv3 = nn.Conv2d(in_channels=64, out_channels=128, kernel_size=3)\n",
        "        self.bn3 = nn.BatchNorm2d(128)\n",
        "\n",
        "        # 풀링 층 (MaxPooling)\n",
        "        self.pool = nn.MaxPool2d(kernel_size=2, stride=2)\n",
        "\n",
        "        # Fully Connected Layer\n",
        "        self.fc1 = nn.Linear(128*2*2, 512)  # CIFAR-10은 32x32 크기\n",
        "        self.fc2 = nn.Linear(512, 256)\n",
        "        self.fc3 = nn.Linear(256, 10)\n",
        "        self.dropout = nn.Dropout(0.25)\n",
        "\n",
        "    def forward(self, x):\n",
        "        # 활성화 함수 적용\n",
        "        x = self.pool(F.relu(self.bn1(self.conv1(x))))\n",
        "        x = self.pool(F.relu(self.bn2(self.conv2(x))))\n",
        "        x = self.pool(F.relu(self.bn3(self.conv3(x))))\n",
        "\n",
        "        x = x.view(x.size(0), -1)  # Flatten\n",
        "\n",
        "        x = F.relu(self.fc1(x))  # Fully Connected 활성화 함수 추가\n",
        "        x = self.dropout(x)\n",
        "        x = F.relu(self.fc2(x))\n",
        "        x = self.fc3(x)\n",
        "        return x\n"
      ],
      "metadata": {
        "id": "ncMgMGBAmibg"
      },
      "execution_count": 22,
      "outputs": []
    },
    {
      "cell_type": "markdown",
      "source": [
        "## Step 5. 모델 학습 설정"
      ],
      "metadata": {
        "id": "-YrsY8phmibh"
      }
    },
    {
      "cell_type": "code",
      "source": [
        "# 모델을 초기화하세요.\n",
        "model = CIFAR10_CNN();\n",
        "model.to(device)\n",
        "\n",
        "# 손실 함수로 CrossEntropyLoss를 사용하고 옵티마이저는 Adam을 사용하세요.\n",
        "criterion = nn.CrossEntropyLoss()\n",
        "optimizer = torch.optim.Adam(model.parameters(), lr=0.001)"
      ],
      "metadata": {
        "id": "MSF_avcImibh"
      },
      "execution_count": 23,
      "outputs": []
    },
    {
      "cell_type": "markdown",
      "source": [
        "## Step 6. 모델 학습 루프"
      ],
      "metadata": {
        "id": "TRYIKHDHmibi"
      }
    },
    {
      "cell_type": "code",
      "source": [
        "# 모델 학습을 위한 루프를 작성하세요. 에폭 수는 3로 설정합니다.\n",
        "# 런타임 약 5분\n",
        "num_epochs = 3\n",
        "for epoch in range(num_epochs):\n",
        "   for images, labels in train_loader:\n",
        "        images, labels = images.to(device), labels.to(device)\n",
        "\n",
        "        # 모델을 통해 예측값을 계산\n",
        "        outputs = model(images)\n",
        "\n",
        "        # 손실 계산\n",
        "        loss = criterion(outputs, labels)\n",
        "\n",
        "        # 경사 초기화\n",
        "        optimizer.zero_grad()\n",
        "\n",
        "        # 역전파\n",
        "        loss.backward()\n",
        "\n",
        "        # 최적화\n",
        "        optimizer.step()\n",
        "\n",
        "   print(f\"Epoch [{epoch+1}/{num_epochs}], Loss: {loss.item():.4f}\")"
      ],
      "metadata": {
        "id": "DzYLLWfKmibi",
        "colab": {
          "base_uri": "https://localhost:8080/"
        },
        "outputId": "c71a0e61-3e38-499a-f499-4b8dfa7d0cf5"
      },
      "execution_count": 24,
      "outputs": [
        {
          "output_type": "stream",
          "name": "stdout",
          "text": [
            "Epoch [1/3], Loss: 1.1445\n",
            "Epoch [2/3], Loss: 0.5780\n",
            "Epoch [3/3], Loss: 0.7592\n"
          ]
        }
      ]
    },
    {
      "cell_type": "markdown",
      "source": [
        "## Step 7. 테스트 정확도 평가"
      ],
      "metadata": {
        "id": "J0r0WxOwmibj"
      }
    },
    {
      "cell_type": "code",
      "source": [
        "# 모델의 성능 평가\n",
        "\n",
        "model.eval()\n",
        "\n",
        "correct = 0\n",
        "total = 0\n",
        "with torch.no_grad():\n",
        "    for images, labels in test_loader:\n",
        "        images, labels = images.to(device), labels.to(device)\n",
        "        outputs = model(images)\n",
        "        _, predicted = torch.max(outputs.data, 1)\n",
        "\n",
        "        total += labels.size(0)\n",
        "        correct += (predicted == labels).sum().item()\n",
        "\n",
        "print(f\"Test Accuracy: {100 * correct / total:.2f}%\")"
      ],
      "metadata": {
        "id": "cmhKrVFsmibk",
        "colab": {
          "base_uri": "https://localhost:8080/"
        },
        "outputId": "62f447fe-332c-432a-963e-2d0cc90ba298"
      },
      "execution_count": 25,
      "outputs": [
        {
          "output_type": "stream",
          "name": "stdout",
          "text": [
            "Test Accuracy: 72.61%\n"
          ]
        }
      ]
    },
    {
      "cell_type": "markdown",
      "source": [
        "# 2. MNIST 데이터셋 분류 모델\n",
        "\n",
        "\n"
      ],
      "metadata": {
        "id": "vi2mlIYBxwPZ"
      }
    },
    {
      "cell_type": "markdown",
      "source": [
        "## Step 1. 필요한 라이브러리 임포트"
      ],
      "metadata": {
        "id": "4eEeFeqRxpZe"
      }
    },
    {
      "cell_type": "code",
      "source": [
        "# 필요한 라이브러리 불러오기\n",
        "import torch\n",
        "import torch.nn as nn\n",
        "import torch.nn.functional as F\n",
        "import torchvision\n",
        "import torchvision.transforms as transforms\n",
        "from torch.utils.data import DataLoader\n",
        "from torch.autograd import Variable"
      ],
      "metadata": {
        "id": "d_mjMExqx575"
      },
      "execution_count": 2,
      "outputs": []
    },
    {
      "cell_type": "code",
      "source": [
        "# 디바이스 설정 (GPU 사용 가능하면 GPU, 없으면 CPU)\n",
        "device = torch.device(\"cuda\" if torch.cuda.is_available() else \"cpu\")"
      ],
      "metadata": {
        "id": "6gHgBz3ngYwg"
      },
      "execution_count": 3,
      "outputs": []
    },
    {
      "cell_type": "markdown",
      "source": [
        "## Step 2. MNIST 데이터셋 다운로드"
      ],
      "metadata": {
        "id": "8fbK_yAYx_Kp"
      }
    },
    {
      "cell_type": "code",
      "source": [
        "# MNIST 데이터셋을 다운로드하고, 텐서로 변환할 수 있도록 필요한 전처리 함수를 추가하세요.\n",
        "transform = transforms.Compose([transforms.ToTensor()])\n",
        "\n",
        "train_dataset = torchvision.datasets.MNIST(root='./data', train=True, transform=transform, download=True)\n",
        "test_dataset = torchvision.datasets.MNIST(root='./data', train=False, transform=transform, download=True)\n"
      ],
      "metadata": {
        "id": "24j1CT8GyCBK",
        "colab": {
          "base_uri": "https://localhost:8080/"
        },
        "outputId": "bfee3645-4651-4ea6-9323-85451d075bd2"
      },
      "execution_count": 4,
      "outputs": [
        {
          "output_type": "stream",
          "name": "stderr",
          "text": [
            "100%|██████████| 9.91M/9.91M [00:00<00:00, 15.9MB/s]\n",
            "100%|██████████| 28.9k/28.9k [00:00<00:00, 482kB/s]\n",
            "100%|██████████| 1.65M/1.65M [00:00<00:00, 4.41MB/s]\n",
            "100%|██████████| 4.54k/4.54k [00:00<00:00, 5.28MB/s]\n"
          ]
        }
      ]
    },
    {
      "cell_type": "markdown",
      "source": [
        "##Step 3. DataLoader 설정"
      ],
      "metadata": {
        "id": "LQM7ovBpyHHh"
      }
    },
    {
      "cell_type": "code",
      "source": [
        "# DataLoader를 사용하여 배치 크기 64로 데이터를 로드하세요.\n",
        "train_loader = DataLoader(dataset=train_dataset, batch_size=64, shuffle=True)\n",
        "test_loader = DataLoader(dataset=test_dataset, batch_size=64, shuffle=False)"
      ],
      "metadata": {
        "id": "JUq8sDovyKCE"
      },
      "execution_count": 5,
      "outputs": []
    },
    {
      "cell_type": "markdown",
      "source": [
        "## Step 4. CNN 모델 정의"
      ],
      "metadata": {
        "id": "4RL3vxfCyH5k"
      }
    },
    {
      "cell_type": "code",
      "source": [
        "# CNN 모델 정의\n",
        "class MNISTCNN(nn.Module):\n",
        "    def __init__(self):\n",
        "        super(MNISTCNN, self).__init__()\n",
        "\n",
        "        # 첫 번째 합성곱 블록\n",
        "        self.layer1 = nn.Sequential(\n",
        "            nn.Conv2d(in_channels=1, out_channels=32, kernel_size=3, padding=1),  # [1,28,28] -> [32,28,28]\n",
        "            nn.BatchNorm2d(32),\n",
        "            nn.ReLU(),\n",
        "            nn.MaxPool2d(kernel_size=2, stride=2)  # [32,28,28] -> [32,14,14]\n",
        "        )\n",
        "\n",
        "        # 두 번째 합성곱 블록\n",
        "        self.layer2 = nn.Sequential(\n",
        "            nn.Conv2d(in_channels=32, out_channels=64, kernel_size=3),  # [32,14,14] -> [64,12,12]\n",
        "            nn.BatchNorm2d(64),\n",
        "            nn.ReLU(),\n",
        "            nn.MaxPool2d(kernel_size=2)  # [64,12,12] -> [64,6,6]\n",
        "        )\n",
        "\n",
        "        # 완전연결층\n",
        "        self.fc1 = nn.Linear(in_features=64 * 6 * 6, out_features=600)\n",
        "        self.drop = nn.Dropout(0.25)  # Dropout2d 대신 Dropout 사용\n",
        "        self.fc2 = nn.Linear(in_features=600, out_features=120)\n",
        "        self.fc3 = nn.Linear(in_features=120, out_features=10)  # 10개 클래스\n",
        "\n",
        "    def forward(self, x):\n",
        "        out = self.layer1(x)             # [batch, 32, 14, 14]\n",
        "        out = self.layer2(out)           # [batch, 64, 6, 6]\n",
        "        out = out.view(out.size(0), -1)  # Flatten [batch, 2304]\n",
        "        out = self.fc1(out)\n",
        "        out = self.drop(out)\n",
        "        out = self.fc2(out)\n",
        "        out = self.fc3(out)\n",
        "        return out"
      ],
      "metadata": {
        "id": "zp3QPP1ayO4b"
      },
      "execution_count": 6,
      "outputs": []
    },
    {
      "cell_type": "markdown",
      "source": [
        "## Step 5. 모델 학습 설정"
      ],
      "metadata": {
        "id": "ncD61g8LyRvB"
      }
    },
    {
      "cell_type": "code",
      "source": [
        "# 모델을 초기화하세요.\n",
        "model = MNISTCNN();\n",
        "model.to(device)\n",
        "\n",
        "# 손실 함수로 CrossEntropyLoss를 사용하고 옵티마이저는 Adam을 사용하세요.\n",
        "criterion = nn.CrossEntropyLoss()\n",
        "optimizer = torch.optim.Adam(model.parameters(), lr=0.001)"
      ],
      "metadata": {
        "id": "E7DmYJgKyThh"
      },
      "execution_count": 7,
      "outputs": []
    },
    {
      "cell_type": "markdown",
      "source": [
        "## Step 6. 모델 학습 루프"
      ],
      "metadata": {
        "id": "eLtbtBNlyVI1"
      }
    },
    {
      "cell_type": "code",
      "source": [
        "# 모델 학습을 위한 루프를 작성하세요. 에폭 수는 3로 설정합니다.\n",
        "# 런타임 약 5분\n",
        "\n",
        "num_epochs = 3  # 에폭 수 3\n",
        "count = 0\n",
        "loss_list = []\n",
        "iteration_list = []\n",
        "accuracy_list = []\n",
        "predictions_list = []\n",
        "labels_list = []\n",
        "\n",
        "for epoch in range(num_epochs):\n",
        "    for images, labels in train_loader:\n",
        "        images, labels = images.to(device), labels.to(device)\n",
        "\n",
        "        train = Variable(images)\n",
        "        labels = Variable(labels)\n",
        "\n",
        "        outputs = model(train)\n",
        "        loss = criterion(outputs, labels)\n",
        "        optimizer.zero_grad()\n",
        "        loss.backward()\n",
        "        optimizer.step()\n",
        "        count += 1\n",
        "\n",
        "        if not (count % 50):\n",
        "            total = 0\n",
        "            correct = 0\n",
        "            with torch.no_grad():  # 평가 시 no_grad() 사용\n",
        "                for images, labels in test_loader:\n",
        "                    images, labels = images.to(device), labels.to(device)\n",
        "                    test = Variable(images)\n",
        "                    outputs = model(test)\n",
        "                    predictions = torch.max(outputs, 1)[1]\n",
        "                    correct += (predictions == labels).sum().item()\n",
        "                    total += labels.size(0)\n",
        "\n",
        "            accuracy = 100 * correct / total\n",
        "            loss_list.append(loss.item())\n",
        "            iteration_list.append(count)\n",
        "            accuracy_list.append(accuracy)\n",
        "\n",
        "        if not (count % 500):\n",
        "            print(\"Iteration: {}, Loss: {:.4f}, Accuracy: {:.2f}%\".format(\n",
        "                count, loss.item(), accuracy))"
      ],
      "metadata": {
        "id": "z5YMgX7myX3_",
        "colab": {
          "base_uri": "https://localhost:8080/"
        },
        "outputId": "0019f0fc-a59a-4821-af84-6b0a8615bf5d"
      },
      "execution_count": 8,
      "outputs": [
        {
          "output_type": "stream",
          "name": "stdout",
          "text": [
            "Iteration: 500, Loss: 0.0203, Accuracy: 97.21%\n",
            "Iteration: 1000, Loss: 0.2322, Accuracy: 97.45%\n",
            "Iteration: 1500, Loss: 0.0337, Accuracy: 98.46%\n",
            "Iteration: 2000, Loss: 0.0231, Accuracy: 98.71%\n",
            "Iteration: 2500, Loss: 0.0044, Accuracy: 98.51%\n"
          ]
        }
      ]
    },
    {
      "cell_type": "markdown",
      "source": [
        "## Step 7. 테스트 정확도 평가"
      ],
      "metadata": {
        "id": "_5wuHvXFiBMQ"
      }
    },
    {
      "cell_type": "code",
      "source": [
        "# 모델의 성능 평가\n",
        "\n",
        "model.eval()\n",
        "\n",
        "correct = 0\n",
        "total = 0\n",
        "with torch.no_grad():\n",
        "    for images, labels in test_loader:\n",
        "        images, labels = images.to(device), labels.to(device)\n",
        "        outputs = model(images)\n",
        "        _, predicted = torch.max(outputs.data, 1)\n",
        "\n",
        "        total += labels.size(0)\n",
        "        correct += (predicted == labels).sum().item()\n",
        "\n",
        "print(f\"Test Accuracy: {100 * correct / total:.2f}%\")"
      ],
      "metadata": {
        "id": "s09XCrajiBMR",
        "colab": {
          "base_uri": "https://localhost:8080/"
        },
        "outputId": "3fd9adfa-29d2-4cc5-909c-e7d7f7b9ac0f"
      },
      "execution_count": 13,
      "outputs": [
        {
          "output_type": "stream",
          "name": "stdout",
          "text": [
            "Test Accuracy: 98.42%\n"
          ]
        }
      ]
    }
  ]
}