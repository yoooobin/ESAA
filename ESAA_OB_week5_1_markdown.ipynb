{
  "nbformat": 4,
  "nbformat_minor": 0,
  "metadata": {
    "colab": {
      "provenance": [],
      "authorship_tag": "ABX9TyMJZfok7eHvmy3WNi4ujKjz",
      "include_colab_link": true
    },
    "kernelspec": {
      "name": "python3",
      "display_name": "Python 3"
    },
    "language_info": {
      "name": "python"
    }
  },
  "cells": [
    {
      "cell_type": "markdown",
      "metadata": {
        "id": "view-in-github",
        "colab_type": "text"
      },
      "source": [
        "<a href=\"https://colab.research.google.com/github/yoooobin/ESAA/blob/main/ESAA_OB_week5_1_markdown.ipynb\" target=\"_parent\"><img src=\"https://colab.research.google.com/assets/colab-badge.svg\" alt=\"Open In Colab\"/></a>"
      ]
    },
    {
      "cell_type": "markdown",
      "source": [
        "#### 06 토픽 모델링(Topic Modeling) - 20 뉴스그룹\n",
        "\n",
        "- **토픽 모델링(Topic Modeling)**: 문서 집합에 숨어 있는 주제를 찾아내는 것 => 머신러닝 기반으로 숨겨진 주제를 효과적으로 표현할 수 있는 중심 단어를 함축적으로 추출\n",
        "- LSA(Latent Semantic Analysis)\n",
        "- LDA(Latent Dirichlet Allocation)"
      ],
      "metadata": {
        "id": "YYVyd96oM5CQ"
      }
    },
    {
      "cell_type": "code",
      "source": [
        "from sklearn.datasets import fetch_20newsgroups\n",
        "from sklearn.feature_extraction.text import CountVectorizer\n",
        "from sklearn.decomposition import LatentDirichletAllocation\n",
        "\n",
        "# 모터사이클, 야구, 그래픽스, 윈도우즈, 중동, 기독교, 전자공학, 의학 8개 주제를 추출.\n",
        "cats = ['rec.motorcycles', 'rec.sport.baseball', 'comp.graphics', 'comp.windows.x',\n",
        "        'talk.politics.mideast', 'soc.religion.christian', 'sci.electronics', 'sci.med']\n",
        "\n",
        "# 위에서 cats 변수로 기재된 카테고리만 추출. fetch_20newsgroups( )의 categories에 cats 입력\n",
        "news_df = fetch_20newsgroups(subset='all', remove=('headers', 'footers', 'quotes'),\n",
        "                             categories=cats, random_state=0)\n",
        "\n",
        "# LDA는 Count 기반의 벡터화만 적용합니다.\n",
        "count_vect = CountVectorizer(max_df=0.95, max_features=1000, min_df=2, stop_words='english',\n",
        "                             ngram_range=(1, 2))\n",
        "feat_vect = count_vect.fit_transform(news_df.data)\n",
        "print('CountVectorizer Shape:', feat_vect.shape)"
      ],
      "metadata": {
        "colab": {
          "base_uri": "https://localhost:8080/"
        },
        "id": "vqKHk29lNawk",
        "outputId": "e9d4967d-d3c0-4dc6-ab2e-f61dab1f12ae"
      },
      "execution_count": 1,
      "outputs": [
        {
          "output_type": "stream",
          "name": "stdout",
          "text": [
            "CountVectorizer Shape: (7862, 1000)\n"
          ]
        }
      ]
    },
    {
      "cell_type": "code",
      "source": [
        "lda = LatentDirichletAllocation(n_components=8, random_state=0)\n",
        "lda.fit(feat_vect)"
      ],
      "metadata": {
        "colab": {
          "base_uri": "https://localhost:8080/",
          "height": 80
        },
        "id": "D4Am6Ej_PG3v",
        "outputId": "0e74cffd-ce9b-46fa-af83-e8a55acfbefa"
      },
      "execution_count": 2,
      "outputs": [
        {
          "output_type": "execute_result",
          "data": {
            "text/plain": [
              "LatentDirichletAllocation(n_components=8, random_state=0)"
            ],
            "text/html": [
              "<style>#sk-container-id-1 {\n",
              "  /* Definition of color scheme common for light and dark mode */\n",
              "  --sklearn-color-text: #000;\n",
              "  --sklearn-color-text-muted: #666;\n",
              "  --sklearn-color-line: gray;\n",
              "  /* Definition of color scheme for unfitted estimators */\n",
              "  --sklearn-color-unfitted-level-0: #fff5e6;\n",
              "  --sklearn-color-unfitted-level-1: #f6e4d2;\n",
              "  --sklearn-color-unfitted-level-2: #ffe0b3;\n",
              "  --sklearn-color-unfitted-level-3: chocolate;\n",
              "  /* Definition of color scheme for fitted estimators */\n",
              "  --sklearn-color-fitted-level-0: #f0f8ff;\n",
              "  --sklearn-color-fitted-level-1: #d4ebff;\n",
              "  --sklearn-color-fitted-level-2: #b3dbfd;\n",
              "  --sklearn-color-fitted-level-3: cornflowerblue;\n",
              "\n",
              "  /* Specific color for light theme */\n",
              "  --sklearn-color-text-on-default-background: var(--sg-text-color, var(--theme-code-foreground, var(--jp-content-font-color1, black)));\n",
              "  --sklearn-color-background: var(--sg-background-color, var(--theme-background, var(--jp-layout-color0, white)));\n",
              "  --sklearn-color-border-box: var(--sg-text-color, var(--theme-code-foreground, var(--jp-content-font-color1, black)));\n",
              "  --sklearn-color-icon: #696969;\n",
              "\n",
              "  @media (prefers-color-scheme: dark) {\n",
              "    /* Redefinition of color scheme for dark theme */\n",
              "    --sklearn-color-text-on-default-background: var(--sg-text-color, var(--theme-code-foreground, var(--jp-content-font-color1, white)));\n",
              "    --sklearn-color-background: var(--sg-background-color, var(--theme-background, var(--jp-layout-color0, #111)));\n",
              "    --sklearn-color-border-box: var(--sg-text-color, var(--theme-code-foreground, var(--jp-content-font-color1, white)));\n",
              "    --sklearn-color-icon: #878787;\n",
              "  }\n",
              "}\n",
              "\n",
              "#sk-container-id-1 {\n",
              "  color: var(--sklearn-color-text);\n",
              "}\n",
              "\n",
              "#sk-container-id-1 pre {\n",
              "  padding: 0;\n",
              "}\n",
              "\n",
              "#sk-container-id-1 input.sk-hidden--visually {\n",
              "  border: 0;\n",
              "  clip: rect(1px 1px 1px 1px);\n",
              "  clip: rect(1px, 1px, 1px, 1px);\n",
              "  height: 1px;\n",
              "  margin: -1px;\n",
              "  overflow: hidden;\n",
              "  padding: 0;\n",
              "  position: absolute;\n",
              "  width: 1px;\n",
              "}\n",
              "\n",
              "#sk-container-id-1 div.sk-dashed-wrapped {\n",
              "  border: 1px dashed var(--sklearn-color-line);\n",
              "  margin: 0 0.4em 0.5em 0.4em;\n",
              "  box-sizing: border-box;\n",
              "  padding-bottom: 0.4em;\n",
              "  background-color: var(--sklearn-color-background);\n",
              "}\n",
              "\n",
              "#sk-container-id-1 div.sk-container {\n",
              "  /* jupyter's `normalize.less` sets `[hidden] { display: none; }`\n",
              "     but bootstrap.min.css set `[hidden] { display: none !important; }`\n",
              "     so we also need the `!important` here to be able to override the\n",
              "     default hidden behavior on the sphinx rendered scikit-learn.org.\n",
              "     See: https://github.com/scikit-learn/scikit-learn/issues/21755 */\n",
              "  display: inline-block !important;\n",
              "  position: relative;\n",
              "}\n",
              "\n",
              "#sk-container-id-1 div.sk-text-repr-fallback {\n",
              "  display: none;\n",
              "}\n",
              "\n",
              "div.sk-parallel-item,\n",
              "div.sk-serial,\n",
              "div.sk-item {\n",
              "  /* draw centered vertical line to link estimators */\n",
              "  background-image: linear-gradient(var(--sklearn-color-text-on-default-background), var(--sklearn-color-text-on-default-background));\n",
              "  background-size: 2px 100%;\n",
              "  background-repeat: no-repeat;\n",
              "  background-position: center center;\n",
              "}\n",
              "\n",
              "/* Parallel-specific style estimator block */\n",
              "\n",
              "#sk-container-id-1 div.sk-parallel-item::after {\n",
              "  content: \"\";\n",
              "  width: 100%;\n",
              "  border-bottom: 2px solid var(--sklearn-color-text-on-default-background);\n",
              "  flex-grow: 1;\n",
              "}\n",
              "\n",
              "#sk-container-id-1 div.sk-parallel {\n",
              "  display: flex;\n",
              "  align-items: stretch;\n",
              "  justify-content: center;\n",
              "  background-color: var(--sklearn-color-background);\n",
              "  position: relative;\n",
              "}\n",
              "\n",
              "#sk-container-id-1 div.sk-parallel-item {\n",
              "  display: flex;\n",
              "  flex-direction: column;\n",
              "}\n",
              "\n",
              "#sk-container-id-1 div.sk-parallel-item:first-child::after {\n",
              "  align-self: flex-end;\n",
              "  width: 50%;\n",
              "}\n",
              "\n",
              "#sk-container-id-1 div.sk-parallel-item:last-child::after {\n",
              "  align-self: flex-start;\n",
              "  width: 50%;\n",
              "}\n",
              "\n",
              "#sk-container-id-1 div.sk-parallel-item:only-child::after {\n",
              "  width: 0;\n",
              "}\n",
              "\n",
              "/* Serial-specific style estimator block */\n",
              "\n",
              "#sk-container-id-1 div.sk-serial {\n",
              "  display: flex;\n",
              "  flex-direction: column;\n",
              "  align-items: center;\n",
              "  background-color: var(--sklearn-color-background);\n",
              "  padding-right: 1em;\n",
              "  padding-left: 1em;\n",
              "}\n",
              "\n",
              "\n",
              "/* Toggleable style: style used for estimator/Pipeline/ColumnTransformer box that is\n",
              "clickable and can be expanded/collapsed.\n",
              "- Pipeline and ColumnTransformer use this feature and define the default style\n",
              "- Estimators will overwrite some part of the style using the `sk-estimator` class\n",
              "*/\n",
              "\n",
              "/* Pipeline and ColumnTransformer style (default) */\n",
              "\n",
              "#sk-container-id-1 div.sk-toggleable {\n",
              "  /* Default theme specific background. It is overwritten whether we have a\n",
              "  specific estimator or a Pipeline/ColumnTransformer */\n",
              "  background-color: var(--sklearn-color-background);\n",
              "}\n",
              "\n",
              "/* Toggleable label */\n",
              "#sk-container-id-1 label.sk-toggleable__label {\n",
              "  cursor: pointer;\n",
              "  display: flex;\n",
              "  width: 100%;\n",
              "  margin-bottom: 0;\n",
              "  padding: 0.5em;\n",
              "  box-sizing: border-box;\n",
              "  text-align: center;\n",
              "  align-items: start;\n",
              "  justify-content: space-between;\n",
              "  gap: 0.5em;\n",
              "}\n",
              "\n",
              "#sk-container-id-1 label.sk-toggleable__label .caption {\n",
              "  font-size: 0.6rem;\n",
              "  font-weight: lighter;\n",
              "  color: var(--sklearn-color-text-muted);\n",
              "}\n",
              "\n",
              "#sk-container-id-1 label.sk-toggleable__label-arrow:before {\n",
              "  /* Arrow on the left of the label */\n",
              "  content: \"▸\";\n",
              "  float: left;\n",
              "  margin-right: 0.25em;\n",
              "  color: var(--sklearn-color-icon);\n",
              "}\n",
              "\n",
              "#sk-container-id-1 label.sk-toggleable__label-arrow:hover:before {\n",
              "  color: var(--sklearn-color-text);\n",
              "}\n",
              "\n",
              "/* Toggleable content - dropdown */\n",
              "\n",
              "#sk-container-id-1 div.sk-toggleable__content {\n",
              "  max-height: 0;\n",
              "  max-width: 0;\n",
              "  overflow: hidden;\n",
              "  text-align: left;\n",
              "  /* unfitted */\n",
              "  background-color: var(--sklearn-color-unfitted-level-0);\n",
              "}\n",
              "\n",
              "#sk-container-id-1 div.sk-toggleable__content.fitted {\n",
              "  /* fitted */\n",
              "  background-color: var(--sklearn-color-fitted-level-0);\n",
              "}\n",
              "\n",
              "#sk-container-id-1 div.sk-toggleable__content pre {\n",
              "  margin: 0.2em;\n",
              "  border-radius: 0.25em;\n",
              "  color: var(--sklearn-color-text);\n",
              "  /* unfitted */\n",
              "  background-color: var(--sklearn-color-unfitted-level-0);\n",
              "}\n",
              "\n",
              "#sk-container-id-1 div.sk-toggleable__content.fitted pre {\n",
              "  /* unfitted */\n",
              "  background-color: var(--sklearn-color-fitted-level-0);\n",
              "}\n",
              "\n",
              "#sk-container-id-1 input.sk-toggleable__control:checked~div.sk-toggleable__content {\n",
              "  /* Expand drop-down */\n",
              "  max-height: 200px;\n",
              "  max-width: 100%;\n",
              "  overflow: auto;\n",
              "}\n",
              "\n",
              "#sk-container-id-1 input.sk-toggleable__control:checked~label.sk-toggleable__label-arrow:before {\n",
              "  content: \"▾\";\n",
              "}\n",
              "\n",
              "/* Pipeline/ColumnTransformer-specific style */\n",
              "\n",
              "#sk-container-id-1 div.sk-label input.sk-toggleable__control:checked~label.sk-toggleable__label {\n",
              "  color: var(--sklearn-color-text);\n",
              "  background-color: var(--sklearn-color-unfitted-level-2);\n",
              "}\n",
              "\n",
              "#sk-container-id-1 div.sk-label.fitted input.sk-toggleable__control:checked~label.sk-toggleable__label {\n",
              "  background-color: var(--sklearn-color-fitted-level-2);\n",
              "}\n",
              "\n",
              "/* Estimator-specific style */\n",
              "\n",
              "/* Colorize estimator box */\n",
              "#sk-container-id-1 div.sk-estimator input.sk-toggleable__control:checked~label.sk-toggleable__label {\n",
              "  /* unfitted */\n",
              "  background-color: var(--sklearn-color-unfitted-level-2);\n",
              "}\n",
              "\n",
              "#sk-container-id-1 div.sk-estimator.fitted input.sk-toggleable__control:checked~label.sk-toggleable__label {\n",
              "  /* fitted */\n",
              "  background-color: var(--sklearn-color-fitted-level-2);\n",
              "}\n",
              "\n",
              "#sk-container-id-1 div.sk-label label.sk-toggleable__label,\n",
              "#sk-container-id-1 div.sk-label label {\n",
              "  /* The background is the default theme color */\n",
              "  color: var(--sklearn-color-text-on-default-background);\n",
              "}\n",
              "\n",
              "/* On hover, darken the color of the background */\n",
              "#sk-container-id-1 div.sk-label:hover label.sk-toggleable__label {\n",
              "  color: var(--sklearn-color-text);\n",
              "  background-color: var(--sklearn-color-unfitted-level-2);\n",
              "}\n",
              "\n",
              "/* Label box, darken color on hover, fitted */\n",
              "#sk-container-id-1 div.sk-label.fitted:hover label.sk-toggleable__label.fitted {\n",
              "  color: var(--sklearn-color-text);\n",
              "  background-color: var(--sklearn-color-fitted-level-2);\n",
              "}\n",
              "\n",
              "/* Estimator label */\n",
              "\n",
              "#sk-container-id-1 div.sk-label label {\n",
              "  font-family: monospace;\n",
              "  font-weight: bold;\n",
              "  display: inline-block;\n",
              "  line-height: 1.2em;\n",
              "}\n",
              "\n",
              "#sk-container-id-1 div.sk-label-container {\n",
              "  text-align: center;\n",
              "}\n",
              "\n",
              "/* Estimator-specific */\n",
              "#sk-container-id-1 div.sk-estimator {\n",
              "  font-family: monospace;\n",
              "  border: 1px dotted var(--sklearn-color-border-box);\n",
              "  border-radius: 0.25em;\n",
              "  box-sizing: border-box;\n",
              "  margin-bottom: 0.5em;\n",
              "  /* unfitted */\n",
              "  background-color: var(--sklearn-color-unfitted-level-0);\n",
              "}\n",
              "\n",
              "#sk-container-id-1 div.sk-estimator.fitted {\n",
              "  /* fitted */\n",
              "  background-color: var(--sklearn-color-fitted-level-0);\n",
              "}\n",
              "\n",
              "/* on hover */\n",
              "#sk-container-id-1 div.sk-estimator:hover {\n",
              "  /* unfitted */\n",
              "  background-color: var(--sklearn-color-unfitted-level-2);\n",
              "}\n",
              "\n",
              "#sk-container-id-1 div.sk-estimator.fitted:hover {\n",
              "  /* fitted */\n",
              "  background-color: var(--sklearn-color-fitted-level-2);\n",
              "}\n",
              "\n",
              "/* Specification for estimator info (e.g. \"i\" and \"?\") */\n",
              "\n",
              "/* Common style for \"i\" and \"?\" */\n",
              "\n",
              ".sk-estimator-doc-link,\n",
              "a:link.sk-estimator-doc-link,\n",
              "a:visited.sk-estimator-doc-link {\n",
              "  float: right;\n",
              "  font-size: smaller;\n",
              "  line-height: 1em;\n",
              "  font-family: monospace;\n",
              "  background-color: var(--sklearn-color-background);\n",
              "  border-radius: 1em;\n",
              "  height: 1em;\n",
              "  width: 1em;\n",
              "  text-decoration: none !important;\n",
              "  margin-left: 0.5em;\n",
              "  text-align: center;\n",
              "  /* unfitted */\n",
              "  border: var(--sklearn-color-unfitted-level-1) 1pt solid;\n",
              "  color: var(--sklearn-color-unfitted-level-1);\n",
              "}\n",
              "\n",
              ".sk-estimator-doc-link.fitted,\n",
              "a:link.sk-estimator-doc-link.fitted,\n",
              "a:visited.sk-estimator-doc-link.fitted {\n",
              "  /* fitted */\n",
              "  border: var(--sklearn-color-fitted-level-1) 1pt solid;\n",
              "  color: var(--sklearn-color-fitted-level-1);\n",
              "}\n",
              "\n",
              "/* On hover */\n",
              "div.sk-estimator:hover .sk-estimator-doc-link:hover,\n",
              ".sk-estimator-doc-link:hover,\n",
              "div.sk-label-container:hover .sk-estimator-doc-link:hover,\n",
              ".sk-estimator-doc-link:hover {\n",
              "  /* unfitted */\n",
              "  background-color: var(--sklearn-color-unfitted-level-3);\n",
              "  color: var(--sklearn-color-background);\n",
              "  text-decoration: none;\n",
              "}\n",
              "\n",
              "div.sk-estimator.fitted:hover .sk-estimator-doc-link.fitted:hover,\n",
              ".sk-estimator-doc-link.fitted:hover,\n",
              "div.sk-label-container:hover .sk-estimator-doc-link.fitted:hover,\n",
              ".sk-estimator-doc-link.fitted:hover {\n",
              "  /* fitted */\n",
              "  background-color: var(--sklearn-color-fitted-level-3);\n",
              "  color: var(--sklearn-color-background);\n",
              "  text-decoration: none;\n",
              "}\n",
              "\n",
              "/* Span, style for the box shown on hovering the info icon */\n",
              ".sk-estimator-doc-link span {\n",
              "  display: none;\n",
              "  z-index: 9999;\n",
              "  position: relative;\n",
              "  font-weight: normal;\n",
              "  right: .2ex;\n",
              "  padding: .5ex;\n",
              "  margin: .5ex;\n",
              "  width: min-content;\n",
              "  min-width: 20ex;\n",
              "  max-width: 50ex;\n",
              "  color: var(--sklearn-color-text);\n",
              "  box-shadow: 2pt 2pt 4pt #999;\n",
              "  /* unfitted */\n",
              "  background: var(--sklearn-color-unfitted-level-0);\n",
              "  border: .5pt solid var(--sklearn-color-unfitted-level-3);\n",
              "}\n",
              "\n",
              ".sk-estimator-doc-link.fitted span {\n",
              "  /* fitted */\n",
              "  background: var(--sklearn-color-fitted-level-0);\n",
              "  border: var(--sklearn-color-fitted-level-3);\n",
              "}\n",
              "\n",
              ".sk-estimator-doc-link:hover span {\n",
              "  display: block;\n",
              "}\n",
              "\n",
              "/* \"?\"-specific style due to the `<a>` HTML tag */\n",
              "\n",
              "#sk-container-id-1 a.estimator_doc_link {\n",
              "  float: right;\n",
              "  font-size: 1rem;\n",
              "  line-height: 1em;\n",
              "  font-family: monospace;\n",
              "  background-color: var(--sklearn-color-background);\n",
              "  border-radius: 1rem;\n",
              "  height: 1rem;\n",
              "  width: 1rem;\n",
              "  text-decoration: none;\n",
              "  /* unfitted */\n",
              "  color: var(--sklearn-color-unfitted-level-1);\n",
              "  border: var(--sklearn-color-unfitted-level-1) 1pt solid;\n",
              "}\n",
              "\n",
              "#sk-container-id-1 a.estimator_doc_link.fitted {\n",
              "  /* fitted */\n",
              "  border: var(--sklearn-color-fitted-level-1) 1pt solid;\n",
              "  color: var(--sklearn-color-fitted-level-1);\n",
              "}\n",
              "\n",
              "/* On hover */\n",
              "#sk-container-id-1 a.estimator_doc_link:hover {\n",
              "  /* unfitted */\n",
              "  background-color: var(--sklearn-color-unfitted-level-3);\n",
              "  color: var(--sklearn-color-background);\n",
              "  text-decoration: none;\n",
              "}\n",
              "\n",
              "#sk-container-id-1 a.estimator_doc_link.fitted:hover {\n",
              "  /* fitted */\n",
              "  background-color: var(--sklearn-color-fitted-level-3);\n",
              "}\n",
              "</style><div id=\"sk-container-id-1\" class=\"sk-top-container\"><div class=\"sk-text-repr-fallback\"><pre>LatentDirichletAllocation(n_components=8, random_state=0)</pre><b>In a Jupyter environment, please rerun this cell to show the HTML representation or trust the notebook. <br />On GitHub, the HTML representation is unable to render, please try loading this page with nbviewer.org.</b></div><div class=\"sk-container\" hidden><div class=\"sk-item\"><div class=\"sk-estimator fitted sk-toggleable\"><input class=\"sk-toggleable__control sk-hidden--visually\" id=\"sk-estimator-id-1\" type=\"checkbox\" checked><label for=\"sk-estimator-id-1\" class=\"sk-toggleable__label fitted sk-toggleable__label-arrow\"><div><div>LatentDirichletAllocation</div></div><div><a class=\"sk-estimator-doc-link fitted\" rel=\"noreferrer\" target=\"_blank\" href=\"https://scikit-learn.org/1.6/modules/generated/sklearn.decomposition.LatentDirichletAllocation.html\">?<span>Documentation for LatentDirichletAllocation</span></a><span class=\"sk-estimator-doc-link fitted\">i<span>Fitted</span></span></div></label><div class=\"sk-toggleable__content fitted\"><pre>LatentDirichletAllocation(n_components=8, random_state=0)</pre></div> </div></div></div></div>"
            ]
          },
          "metadata": {},
          "execution_count": 2
        }
      ]
    },
    {
      "cell_type": "code",
      "source": [
        "print(lda.components_.shape)\n",
        "lda.components_"
      ],
      "metadata": {
        "colab": {
          "base_uri": "https://localhost:8080/"
        },
        "id": "AEw5Y79rPXZo",
        "outputId": "c0b67337-82d0-4e68-e01a-2bf73a3a0fb6"
      },
      "execution_count": 3,
      "outputs": [
        {
          "output_type": "stream",
          "name": "stdout",
          "text": [
            "(8, 1000)\n"
          ]
        },
        {
          "output_type": "execute_result",
          "data": {
            "text/plain": [
              "array([[2.69030238e+02, 1.87798026e+02, 7.09003824e+01, ...,\n",
              "        1.22710343e+01, 1.06329639e+02, 7.25995512e+01],\n",
              "       [1.25091799e-01, 2.46049106e+00, 1.25051902e-01, ...,\n",
              "        2.80071176e+02, 1.25089783e-01, 5.05669662e+01],\n",
              "       [1.33978420e+02, 1.25042012e-01, 9.98277256e+01, ...,\n",
              "        1.25092219e-01, 3.31078261e+01, 1.25028398e-01],\n",
              "       ...,\n",
              "       [2.98813886e+01, 1.88071366e+01, 1.14748730e+01, ...,\n",
              "        1.93022584e+01, 5.29368271e+00, 1.44478198e+01],\n",
              "       [1.25074899e-01, 1.25105300e-01, 1.25004235e-01, ...,\n",
              "        1.03576436e+02, 1.25100535e-01, 7.22276359e+01],\n",
              "       [1.25172284e-01, 1.03967760e+00, 1.25221075e-01, ...,\n",
              "        5.31740996e+01, 1.25025929e-01, 1.25062991e-01]])"
            ]
          },
          "metadata": {},
          "execution_count": 3
        }
      ]
    },
    {
      "cell_type": "markdown",
      "source": [
        "각 토픽별로 연관도가 높은 순으로 Word를 나열"
      ],
      "metadata": {
        "id": "l6h1axB-PvGD"
      }
    },
    {
      "cell_type": "code",
      "source": [
        "def display_topics(model, feature_names, no_top_words):\n",
        "    for topic_index, topic in enumerate(model.components_):\n",
        "        print('Topic #', topic_index)\n",
        "\n",
        "        # components_ array에서 가장 값이 큰 순으로 정렬했을 때, 그 값의 array 인덱스를 반환.\n",
        "        topic_word_indexes = topic.argsort()[::-1]\n",
        "        top_indexes = topic_word_indexes[:no_top_words]\n",
        "\n",
        "        # top_indexes 대상인 인덱스별로 feature_names에 해당하는 word feature 추출 후 join으로 concat\n",
        "        feature_concat = ' '.join([feature_names[i] for i in top_indexes])\n",
        "        print(feature_concat)\n",
        "\n",
        "# CountVectorizer 객체 내의 전체 word의 명칭을 get_features_names_out()를 통해 추출\n",
        "feature_names = count_vect.get_feature_names_out()\n",
        "\n",
        "# 토픽별 가장 연관도가 높은 word를 15개만 추출\n",
        "display_topics(lda, feature_names, 15)"
      ],
      "metadata": {
        "colab": {
          "base_uri": "https://localhost:8080/"
        },
        "id": "_G_T-YxUPh7Z",
        "outputId": "ca7398cf-540b-486c-bfb8-363e94f293c8"
      },
      "execution_count": 4,
      "outputs": [
        {
          "output_type": "stream",
          "name": "stdout",
          "text": [
            "Topic # 0\n",
            "10 year medical health 1993 20 12 disease cancer team patients research number new 11\n",
            "Topic # 1\n",
            "don just like know think good time ve does way really people want ll right\n",
            "Topic # 2\n",
            "image file jpeg output program gif images format files color entry use bit 03 02\n",
            "Topic # 3\n",
            "armenian armenians turkish people said turkey armenia government genocide turks muslim russian greek azerbaijan killed\n",
            "Topic # 4\n",
            "israel jews dos jewish israeli dos dos arab state people arabs palestinian adl ed anti peace\n",
            "Topic # 5\n",
            "edu com available graphics ftp window use mail data motif software version pub information server\n",
            "Topic # 6\n",
            "god people jesus church believe say christ does christian think christians did know bible man\n",
            "Topic # 7\n",
            "thanks use using does help like display need problem know server screen windows window program\n"
          ]
        }
      ]
    },
    {
      "cell_type": "markdown",
      "source": [
        "- **Topic #0**: 주로 의학에 관련된 주제어\n",
        "- **Topic #1**: 명확하지 않고 일반적인 단어 (애매)\n",
        "- **Topic #2**: 컴퓨터 그래픽스 영역 주제어\n",
        "- **Topic #3**: 일반적인 단어 주제어 (애매)\n",
        "- **Topic #4**: 중동 영역 주제어\n",
        "- **Topic #5**: 일부 컴퓨터 그래픽스 영역 주제어 + 전반적인 컴퓨터 관련 용어 => 매핑X (애매)\n",
        "- **Topic #6**: 기독교 관련 주제어\n",
        "- **Topic #7**: 윈도우 운영체제 관련 주제어"
      ],
      "metadata": {
        "id": "oWMskFhmNowZ"
      }
    },
    {
      "cell_type": "markdown",
      "source": [
        "\n",
        "\n",
        "---\n",
        "\n"
      ],
      "metadata": {
        "id": "4VF0UpcRO3hq"
      }
    },
    {
      "cell_type": "markdown",
      "source": [
        "#### 08 문서 유사도"
      ],
      "metadata": {
        "id": "oVIqpxQiOxeF"
      }
    },
    {
      "cell_type": "markdown",
      "source": [
        "\n",
        "\n",
        "> **문서 유사도 측정 방법 - 코사인 유사도**\n",
        "- *코사인 유사도*: 벡터와 벡터 간의 유사도를 비교할 때 벡터의 크기보다는 벡터의 상호 방향성이 얼마나 유사한지에 기반\n",
        "\n",
        "![8_10.PNG](data:image/png;base64,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)"
      ],
      "metadata": {
        "id": "OwWhSl-7O6DN"
      }
    },
    {
      "cell_type": "markdown",
      "source": [
        "\n",
        "\n",
        "> **두 벡터 사잇각**\n",
        "- 두 벡터 A와 B의 내적 값: 두 벡터의 크기를 곱한 값과 코사인 각도 값을 곱한 것\n",
        "- 유사도 $cos$θ: 두 벡터의 내적을 총 벡터 크기의 합(내적 결과를 총 벡터 크기로 정규화(L2 Norm)한 것)\n",
        "\n",
        "![8_11.PNG](data:image/png;base64,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)"
      ],
      "metadata": {
        "id": "hFbagFNTPUfE"
      }
    },
    {
      "cell_type": "markdown",
      "source": [
        "![8_12.PNG](data:image/png;base64,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)\n",
        "\n",
        "![8_13.PNG](data:image/png;base64,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)"
      ],
      "metadata": {
        "id": "e7yx0C1uPeo5"
      }
    },
    {
      "cell_type": "code",
      "source": [
        "import numpy as np\n",
        "\n",
        "def cos_similarity(v1, v2):\n",
        "    dot_product = np.dot(v1, v2)\n",
        "    l2_norm = (np.sqrt(sum(np.square(v1))) * np.sqrt(sum(np.square(v2))))\n",
        "    similarity = dot_product / l2_norm\n",
        "\n",
        "    return similarity"
      ],
      "metadata": {
        "id": "9kq0SvpzQR9C"
      },
      "execution_count": 5,
      "outputs": []
    },
    {
      "cell_type": "code",
      "source": [
        "# TF-IDF로 벡터화된 행렬로 변환\n",
        "\n",
        "from sklearn.feature_extraction.text import TfidfVectorizer\n",
        "\n",
        "doc_list = ['if you take the blue pill, the story ends',\n",
        "            'if you take the red pill, you stay in wonderland',\n",
        "            'if you take the red pill, I show you how deep the rabbit hole goes']\n",
        "\n",
        "tfidf_vect_simple = TfidfVectorizer()\n",
        "feature_vect_simple = tfidf_vect_simple.fit_transform(doc_list)\n",
        "print(feature_vect_simple.shape)"
      ],
      "metadata": {
        "colab": {
          "base_uri": "https://localhost:8080/"
        },
        "id": "bYUE2b7fQelr",
        "outputId": "bb286664-4210-4e04-e6a4-99c30dfc9e74"
      },
      "execution_count": 6,
      "outputs": [
        {
          "output_type": "stream",
          "name": "stdout",
          "text": [
            "(3, 18)\n"
          ]
        }
      ]
    },
    {
      "cell_type": "code",
      "source": [
        "# TFidfVectorizer로 transform()한 결과는 희소 행렬이므로 밀집 행렬로 변환.\n",
        "feature_vect_dense = feature_vect_simple.todense()\n",
        "\n",
        "# 첫 번째 문장과 두 번째 문장의 피처 벡터 추출\n",
        "vect1 = np.array(feature_vect_dense[0]).reshape(-1, )\n",
        "vect2 = np.array(feature_vect_dense[1]).reshape(-1, )\n",
        "\n",
        "# 첫 번째 문장과 두 번째 문장의 피처 벡터로 두 개 문장의 코사인 유사도 추출\n",
        "similarity_simple = cos_similarity(vect1, vect2)\n",
        "print('문장 1, 문장 2 Cosine 유사도: {0:.3f}'.format(similarity_simple))"
      ],
      "metadata": {
        "colab": {
          "base_uri": "https://localhost:8080/"
        },
        "id": "oZbcPiSZQlgi",
        "outputId": "5025ddd3-a5ef-4d36-d988-c48857a12298"
      },
      "execution_count": 7,
      "outputs": [
        {
          "output_type": "stream",
          "name": "stdout",
          "text": [
            "문장 1, 문장 2 Cosine 유사도: 0.402\n"
          ]
        }
      ]
    },
    {
      "cell_type": "code",
      "source": [
        "vect1 = np.array(feature_vect_dense[0]).reshape(-1, )\n",
        "vect3 = np.array(feature_vect_dense[2]).reshape(-1, )\n",
        "similarity_simple = cos_similarity(vect1, vect3)\n",
        "print('문장 1, 문장 3 Cosine 유사도: {0:.3f}'.format(similarity_simple))\n",
        "\n",
        "vect2 = np.array(feature_vect_dense[1]).reshape(-1, )\n",
        "vect3 = np.array(feature_vect_dense[2]).reshape(-1, )\n",
        "similarity_simple = cos_similarity(vect2, vect3)\n",
        "print('문장 2, 문장 3 Cosine 유사도: {0:.3f}'.format(similarity_simple))"
      ],
      "metadata": {
        "colab": {
          "base_uri": "https://localhost:8080/"
        },
        "id": "rtP-ihmCQqqU",
        "outputId": "ffaffea2-0426-479c-f880-b896d269e26a"
      },
      "execution_count": 8,
      "outputs": [
        {
          "output_type": "stream",
          "name": "stdout",
          "text": [
            "문장 1, 문장 3 Cosine 유사도: 0.404\n",
            "문장 2, 문장 3 Cosine 유사도: 0.456\n"
          ]
        }
      ]
    },
    {
      "cell_type": "markdown",
      "source": [
        "sklearn.metrics.pairwise.cosine_similariy(): 사이킷런 코사인 유사도 측정 API\n",
        "\n",
        "- 희소 행렬, 밀집 행렬 모두 가능\n",
        "- 행렬/배열 모두 가능"
      ],
      "metadata": {
        "id": "Weu-wP25Q9xh"
      }
    },
    {
      "cell_type": "code",
      "source": [
        "from sklearn.metrics.pairwise import cosine_similarity\n",
        "\n",
        "similarity_simple_pair = cosine_similarity(feature_vect_simple[0], feature_vect_simple)\n",
        "print(similarity_simple_pair)"
      ],
      "metadata": {
        "colab": {
          "base_uri": "https://localhost:8080/"
        },
        "id": "G-xx9uYSQ5XF",
        "outputId": "cea5d47c-8710-4acb-e41b-5f18874ccebb"
      },
      "execution_count": 9,
      "outputs": [
        {
          "output_type": "stream",
          "name": "stdout",
          "text": [
            "[[1.         0.40207758 0.40425045]]\n"
          ]
        }
      ]
    },
    {
      "cell_type": "markdown",
      "source": [
        "- 1 = 비교 기준(문서 자신)에 대한 유사도 측정"
      ],
      "metadata": {
        "id": "62AFfNubRjzm"
      }
    },
    {
      "cell_type": "code",
      "source": [
        "# 비교 기준 문서 제외\n",
        "from sklearn.metrics.pairwise import cosine_similarity\n",
        "\n",
        "similarity_simple_pair = cosine_similarity(feature_vect_simple[0], feature_vect_simple[1:])\n",
        "print(similarity_simple_pair)"
      ],
      "metadata": {
        "colab": {
          "base_uri": "https://localhost:8080/"
        },
        "id": "7BlJYHN0RtDh",
        "outputId": "01ec304b-6125-41c3-8581-3e3075680f72"
      },
      "execution_count": 10,
      "outputs": [
        {
          "output_type": "stream",
          "name": "stdout",
          "text": [
            "[[0.40207758 0.40425045]]\n"
          ]
        }
      ]
    },
    {
      "cell_type": "code",
      "source": [
        "similarity_simple_pair = cosine_similarity(feature_vect_simple, feature_vect_simple)\n",
        "print(similarity_simple_pair)\n",
        "print('shape:', similarity_simple_pair.shape)"
      ],
      "metadata": {
        "colab": {
          "base_uri": "https://localhost:8080/"
        },
        "id": "SbdWewmBR7Z1",
        "outputId": "df95fbc9-5b91-4b0e-9ff2-4d5c4b2451e8"
      },
      "execution_count": 11,
      "outputs": [
        {
          "output_type": "stream",
          "name": "stdout",
          "text": [
            "[[1.         0.40207758 0.40425045]\n",
            " [0.40207758 1.         0.45647296]\n",
            " [0.40425045 0.45647296 1.        ]]\n",
            "shape: (3, 3)\n"
          ]
        }
      ]
    },
    {
      "cell_type": "markdown",
      "source": [
        "\n",
        "\n",
        "> **Opinion Review 데이터 세트를 이용한 문서 유사도 측정**\n",
        "\n"
      ],
      "metadata": {
        "id": "TKL9fuj-R_L9"
      }
    },
    {
      "cell_type": "code",
      "source": [
        "import pandas as pd\n",
        "import glob, os\n",
        "import nltk\n",
        "from nltk.tokenize import word_tokenize\n",
        "from nltk.stem import WordNetLemmatizer\n",
        "from sklearn.feature_extraction.text import TfidfVectorizer\n",
        "from sklearn.cluster import KMeans\n",
        "\n",
        "from google.colab import drive\n",
        "drive.mount('/content/drive')\n",
        "\n",
        "nltk.download('punkt')\n",
        "nltk.download('wordnet')\n",
        "\n",
        "path = r'/content/drive/MyDrive/ESAA/input/OpinosisDataset1.0/topics'\n",
        "all_files = glob.glob(os.path.join(path, \"*.data\"))\n",
        "filename_list = []\n",
        "opinion_text = []\n",
        "\n",
        "for file_ in all_files:\n",
        "    df = pd.read_table(file_, index_col=None, header=0, encoding='latin1')\n",
        "    filename_ = file_.split('/')[-1]\n",
        "    filename = filename_.split('.')[0]\n",
        "    filename_list.append(filename)\n",
        "    opinion_text.append(df.to_string())\n",
        "\n",
        "document_df = pd.DataFrame({'filename': filename_list, 'opinion_text': opinion_text})\n",
        "\n",
        "tfidf_vect = TfidfVectorizer(tokenizer=None, preprocessor=None,\n",
        "                             ngram_range=(1,2), min_df=0.01, max_df=0.85)\n",
        "feature_vect = tfidf_vect.fit_transform(document_df['opinion_text'])\n",
        "\n",
        "km_cluster = KMeans(n_clusters=3, max_iter=10000, random_state=0, n_init='auto')\n",
        "km_cluster.fit(feature_vect)\n",
        "cluster_label = km_cluster.labels_\n",
        "cluster_centers = km_cluster.cluster_centers_\n",
        "document_df['cluster_label'] = cluster_label"
      ],
      "metadata": {
        "colab": {
          "base_uri": "https://localhost:8080/"
        },
        "id": "XDZ3_lpfWKDr",
        "outputId": "7b962019-27ce-4300-f9b5-d8dc8a1ced35"
      },
      "execution_count": 12,
      "outputs": [
        {
          "output_type": "stream",
          "name": "stdout",
          "text": [
            "Mounted at /content/drive\n"
          ]
        },
        {
          "output_type": "stream",
          "name": "stderr",
          "text": [
            "[nltk_data] Downloading package punkt to /root/nltk_data...\n",
            "[nltk_data]   Unzipping tokenizers/punkt.zip.\n",
            "[nltk_data] Downloading package wordnet to /root/nltk_data...\n"
          ]
        }
      ]
    },
    {
      "cell_type": "markdown",
      "source": [
        "- 호텔을 주제로 군집화된 문서를 이용해 특정 문서와 다른 문서 간의 유사도를 비교\n",
        "\n",
        "  => 호텔을 주제로 군집화된 데이터 추출 (TfidfVectorizer 데이터 추출)\n",
        "- 문서 => 피처 벡터화: 문서 내 단어(Word)에 출현 빈도 값을 부여해 각 문서가 단어 피처의 값으로 벡터화\n",
        "- cosisne_simularity() 이용해 상호 비교해 유사도 확인"
      ],
      "metadata": {
        "id": "EApd4k97WZcI"
      }
    },
    {
      "cell_type": "code",
      "source": [
        "from sklearn.metrics.pairwise import cosine_similarity\n",
        "\n",
        "# cluster_label=2인 데이터는 호텔로 군집화된 데이터임. DataFrame에서 해당 인덱스를 추출\n",
        "hotel_indexes = document_df[document_df['cluster_label'] == 2].index\n",
        "print('호텔로 클러스터링된 문서들의 Dataframe Index',hotel_indexes)"
      ],
      "metadata": {
        "colab": {
          "base_uri": "https://localhost:8080/"
        },
        "id": "15k6OfE6XB1f",
        "outputId": "98c9051d-8688-468f-f75f-22b4305bf322"
      },
      "execution_count": 13,
      "outputs": [
        {
          "output_type": "stream",
          "name": "stdout",
          "text": [
            "호텔로 클러스터링된 문서들의 Dataframe Index Index([6, 21, 24, 33, 38, 40, 42, 43, 46, 47, 48], dtype='int64')\n"
          ]
        }
      ]
    },
    {
      "cell_type": "code",
      "source": [
        "# 호텔로 군집화된 데이터 중 첫 번째 문서를 추출해 파일명 표시.\n",
        "comparison_docname = document_df.iloc[hotel_indexes[0]]['filename']\n",
        "print('#### 비교 기준 문서명:', comparison_docname, '와 타 문서 유사도 ####')"
      ],
      "metadata": {
        "colab": {
          "base_uri": "https://localhost:8080/"
        },
        "id": "zapiNXKfXI1K",
        "outputId": "4796ecd5-b320-4cf4-bf38-afabe6b25ad9"
      },
      "execution_count": 14,
      "outputs": [
        {
          "output_type": "stream",
          "name": "stdout",
          "text": [
            "#### 비교 기준 문서명: features_windows7 와 타 문서 유사도 ####\n"
          ]
        }
      ]
    },
    {
      "cell_type": "code",
      "source": [
        "''' document_df에서 추출한 Index 객체를 feature_vect로 입력해 호텔 군집화된 feature_vect 추출\n",
        "이를 이용해 호텔로 군집화된 문서 중 첫 번째 문서와 다른 문서 간의 코사인 유사도 측정.'''\n",
        "\n",
        "similarity_pair = cosine_similarity(feature_vect[hotel_indexes[0]], feature_vect[hotel_indexes])\n",
        "print(similarity_pair)"
      ],
      "metadata": {
        "colab": {
          "base_uri": "https://localhost:8080/"
        },
        "id": "QIjmcC6rXL0m",
        "outputId": "1048ba84-98a5-4705-b0c6-26c40bb2ce75"
      },
      "execution_count": 15,
      "outputs": [
        {
          "output_type": "stream",
          "name": "stdout",
          "text": [
            "[[1.         0.02791936 0.02804844 0.01321941 0.0271997  0.01597487\n",
            "  0.01679067 0.01968754 0.01768266 0.01515787 0.03365501]]\n"
          ]
        }
      ]
    },
    {
      "cell_type": "code",
      "source": [
        "import seaborn as sns\n",
        "import numpy as np\n",
        "import matplotlib.pyplot as plt\n",
        "%matplotlib inline\n",
        "\n",
        "# 첫번째 문서와 타 문서간 유사도가 큰 순으로 정렬한 인덱스 추출하되 자기 자신은 제외.\n",
        "sorted_index = similarity_pair.argsort()[:,::-1]\n",
        "sorted_index = sorted_index[:, 1:]\n",
        "\n",
        "# 유사도가 큰 순으로 hotel_indexes를 추출하여 재정렬.\n",
        "hotel_sorted_indexes = hotel_indexes[sorted_index.reshape(-1)]\n",
        "\n",
        "# 유사도가 큰 순으로 유사도 값을 재정렬하되 자기 자신은 제외\n",
        "hotel_1_sim_value = np.sort(similarity_pair.reshape(-1))[::-1]\n",
        "hotel_1_sim_value = hotel_1_sim_value[1:]\n",
        "\n",
        "# 유사도가 큰 순으로 정렬된 인덱스와 유사도 값을 이용해 파일명과 유사도값을 막대 그래프로 시각화\n",
        "hotel_1_sim_df = pd.DataFrame()\n",
        "hotel_1_sim_df['filename'] = document_df.iloc[hotel_sorted_indexes]['filename']\n",
        "hotel_1_sim_df['similarity'] = hotel_1_sim_value\n",
        "print('가장 유사도가 큰 파일명 및 유사도:\\n', hotel_1_sim_df.iloc[0,:])\n",
        "\n",
        "sns.barplot(x='similarity', y='filename', data=hotel_1_sim_df)\n",
        "plt.title(comparison_docname)"
      ],
      "metadata": {
        "colab": {
          "base_uri": "https://localhost:8080/",
          "height": 563
        },
        "id": "dcSaeYLAXWev",
        "outputId": "c277442d-0333-4c4b-c4ac-a65f5360541b"
      },
      "execution_count": 16,
      "outputs": [
        {
          "output_type": "stream",
          "name": "stdout",
          "text": [
            "가장 유사도가 큰 파일명 및 유사도:\n",
            " filename      comfort_honda_accord_2008\n",
            "similarity                     0.033655\n",
            "Name: 48, dtype: object\n"
          ]
        },
        {
          "output_type": "execute_result",
          "data": {
            "text/plain": [
              "Text(0.5, 1.0, 'features_windows7')"
            ]
          },
          "metadata": {},
          "execution_count": 16
        },
        {
          "output_type": "display_data",
          "data": {
            "text/plain": [
              "<Figure size 640x480 with 1 Axes>"
            ],
            "image/png": "[encoded data removed]"
          },
          "metadata": {}
        }
      ]
    },
    {
      "cell_type": "markdown",
      "source": [
        "\n",
        "\n",
        "---\n",
        "\n"
      ],
      "metadata": {
        "id": "Pzy2_zmzXk_D"
      }
    },
    {
      "cell_type": "markdown",
      "source": [
        "#### 09 한글 텍스트 처리 - 네이버 영화 평점 감성 분석\n",
        "\n",
        "- 파이썬 기반 한글 형태소 패키지 KoNLPy"
      ],
      "metadata": {
        "id": "1iAl8WmSXlxM"
      }
    },
    {
      "cell_type": "markdown",
      "source": [
        "\n",
        "\n",
        "> **한글 NLP 처리의 어려움**\n",
        "- '띄어쓰기', '다양한 조사' => 한글 언어 처리 어려움\n",
        "- 조사는 주어/목적어를 위해 추가되고, 경우의 수가 많기 때문에 어근 추출(Stemming/Lemmatization) 등의 전처리 시 제거가 까다로움\n",
        "\n"
      ],
      "metadata": {
        "id": "MPyd94E6X0_6"
      }
    },
    {
      "cell_type": "markdown",
      "source": [
        "\n",
        "\n",
        "> KoNLPy 소개\n",
        "- *KoNLPy*: 파이썬의 대표적인 한글 형태소 패키지\n"
      ],
      "metadata": {
        "id": "kgYkUQbaYKki"
      }
    },
    {
      "cell_type": "code",
      "source": [
        "!pip install konlpy"
      ],
      "metadata": {
        "colab": {
          "base_uri": "https://localhost:8080/"
        },
        "id": "l_LK-6-DYlw-",
        "outputId": "f344a678-f1a4-48d0-825f-81e27396080b"
      },
      "execution_count": 17,
      "outputs": [
        {
          "output_type": "stream",
          "name": "stdout",
          "text": [
            "Collecting konlpy\n",
            "  Downloading konlpy-0.6.0-py2.py3-none-any.whl.metadata (1.9 kB)\n",
            "Collecting JPype1>=0.7.0 (from konlpy)\n",
            "  Downloading jpype1-1.5.2-cp311-cp311-manylinux_2_17_x86_64.manylinux2014_x86_64.whl.metadata (4.9 kB)\n",
            "Requirement already satisfied: lxml>=4.1.0 in /usr/local/lib/python3.11/dist-packages (from konlpy) (5.3.1)\n",
            "Requirement already satisfied: numpy>=1.6 in /usr/local/lib/python3.11/dist-packages (from konlpy) (2.0.2)\n",
            "Requirement already satisfied: packaging in /usr/local/lib/python3.11/dist-packages (from JPype1>=0.7.0->konlpy) (24.2)\n",
            "Downloading konlpy-0.6.0-py2.py3-none-any.whl (19.4 MB)\n",
            "\u001b[2K   \u001b[90m━━━━━━━━━━━━━━━━━━━━━━━━━━━━━━━━━━━━━━━━\u001b[0m \u001b[32m19.4/19.4 MB\u001b[0m \u001b[31m80.2 MB/s\u001b[0m eta \u001b[36m0:00:00\u001b[0m\n",
            "\u001b[?25hDownloading jpype1-1.5.2-cp311-cp311-manylinux_2_17_x86_64.manylinux2014_x86_64.whl (494 kB)\n",
            "\u001b[2K   \u001b[90m━━━━━━━━━━━━━━━━━━━━━━━━━━━━━━━━━━━━━━━━\u001b[0m \u001b[32m494.1/494.1 kB\u001b[0m \u001b[31m43.1 MB/s\u001b[0m eta \u001b[36m0:00:00\u001b[0m\n",
            "\u001b[?25hInstalling collected packages: JPype1, konlpy\n",
            "Successfully installed JPype1-1.5.2 konlpy-0.6.0\n"
          ]
        }
      ]
    },
    {
      "cell_type": "code",
      "source": [
        "import pandas as pd\n",
        "\n",
        "train_df = pd.read_csv('/content/drive/MyDrive/ESAA/input/ratings_train.txt', sep='\\t', encoding='utf-8')\n",
        "train_df.head(3)"
      ],
      "metadata": {
        "colab": {
          "base_uri": "https://localhost:8080/",
          "height": 143
        },
        "id": "eTjV91TrY-9v",
        "outputId": "65cf2bb8-e66c-47a3-e813-f3a49d0d2705"
      },
      "execution_count": 18,
      "outputs": [
        {
          "output_type": "execute_result",
          "data": {
            "text/plain": [
              "         id                           document  label\n",
              "0   9976970                아 더빙.. 진짜 짜증나네요 목소리      0\n",
              "1   3819312  흠...포스터보고 초딩영화줄....오버연기조차 가볍지 않구나      1\n",
              "2  10265843                  너무재밓었다그래서보는것을추천한다      0"
            ],
            "text/html": [
              "\n",
              "  <div id=\"df-c5ae407d-b7b2-4edc-8349-b746f62d08e3\" class=\"colab-df-container\">\n",
              "    <div>\n",
              "<style scoped>\n",
              "    .dataframe tbody tr th:only-of-type {\n",
              "        vertical-align: middle;\n",
              "    }\n",
              "\n",
              "    .dataframe tbody tr th {\n",
              "        vertical-align: top;\n",
              "    }\n",
              "\n",
              "    .dataframe thead th {\n",
              "        text-align: right;\n",
              "    }\n",
              "</style>\n",
              "<table border=\"1\" class=\"dataframe\">\n",
              "  <thead>\n",
              "    <tr style=\"text-align: right;\">\n",
              "      <th></th>\n",
              "      <th>id</th>\n",
              "      <th>document</th>\n",
              "      <th>label</th>\n",
              "    </tr>\n",
              "  </thead>\n",
              "  <tbody>\n",
              "    <tr>\n",
              "      <th>0</th>\n",
              "      <td>9976970</td>\n",
              "      <td>아 더빙.. 진짜 짜증나네요 목소리</td>\n",
              "      <td>0</td>\n",
              "    </tr>\n",
              "    <tr>\n",
              "      <th>1</th>\n",
              "      <td>3819312</td>\n",
              "      <td>흠...포스터보고 초딩영화줄....오버연기조차 가볍지 않구나</td>\n",
              "      <td>1</td>\n",
              "    </tr>\n",
              "    <tr>\n",
              "      <th>2</th>\n",
              "      <td>10265843</td>\n",
              "      <td>너무재밓었다그래서보는것을추천한다</td>\n",
              "      <td>0</td>\n",
              "    </tr>\n",
              "  </tbody>\n",
              "</table>\n",
              "</div>\n",
              "    <div class=\"colab-df-buttons\">\n",
              "\n",
              "  <div class=\"colab-df-container\">\n",
              "    <button class=\"colab-df-convert\" onclick=\"convertToInteractive('df-c5ae407d-b7b2-4edc-8349-b746f62d08e3')\"\n",
              "            title=\"Convert this dataframe to an interactive table.\"\n",
              "            style=\"display:none;\">\n",
              "\n",
              "  <svg xmlns=\"http://www.w3.org/2000/svg\" height=\"24px\" viewBox=\"0 -960 960 960\">\n",
              "    <path d=\"M120-120v-720h720v720H120Zm60-500h600v-160H180v160Zm220 220h160v-160H400v160Zm0 220h160v-160H400v160ZM180-400h160v-160H180v160Zm440 0h160v-160H620v160ZM180-180h160v-160H180v160Zm440 0h160v-160H620v160Z\"/>\n",
              "  </svg>\n",
              "    </button>\n",
              "\n",
              "  <style>\n",
              "    .colab-df-container {\n",
              "      display:flex;\n",
              "      gap: 12px;\n",
              "    }\n",
              "\n",
              "    .colab-df-convert {\n",
              "      background-color: #E8F0FE;\n",
              "      border: none;\n",
              "      border-radius: 50%;\n",
              "      cursor: pointer;\n",
              "      display: none;\n",
              "      fill: #1967D2;\n",
              "      height: 32px;\n",
              "      padding: 0 0 0 0;\n",
              "      width: 32px;\n",
              "    }\n",
              "\n",
              "    .colab-df-convert:hover {\n",
              "      background-color: #E2EBFA;\n",
              "      box-shadow: 0px 1px 2px rgba(60, 64, 67, 0.3), 0px 1px 3px 1px rgba(60, 64, 67, 0.15);\n",
              "      fill: #174EA6;\n",
              "    }\n",
              "\n",
              "    .colab-df-buttons div {\n",
              "      margin-bottom: 4px;\n",
              "    }\n",
              "\n",
              "    [theme=dark] .colab-df-convert {\n",
              "      background-color: #3B4455;\n",
              "      fill: #D2E3FC;\n",
              "    }\n",
              "\n",
              "    [theme=dark] .colab-df-convert:hover {\n",
              "      background-color: #434B5C;\n",
              "      box-shadow: 0px 1px 3px 1px rgba(0, 0, 0, 0.15);\n",
              "      filter: drop-shadow(0px 1px 2px rgba(0, 0, 0, 0.3));\n",
              "      fill: #FFFFFF;\n",
              "    }\n",
              "  </style>\n",
              "\n",
              "    <script>\n",
              "      const buttonEl =\n",
              "        document.querySelector('#df-c5ae407d-b7b2-4edc-8349-b746f62d08e3 button.colab-df-convert');\n",
              "      buttonEl.style.display =\n",
              "        google.colab.kernel.accessAllowed ? 'block' : 'none';\n",
              "\n",
              "      async function convertToInteractive(key) {\n",
              "        const element = document.querySelector('#df-c5ae407d-b7b2-4edc-8349-b746f62d08e3');\n",
              "        const dataTable =\n",
              "          await google.colab.kernel.invokeFunction('convertToInteractive',\n",
              "                                                    [key], {});\n",
              "        if (!dataTable) return;\n",
              "\n",
              "        const docLinkHtml = 'Like what you see? Visit the ' +\n",
              "          '<a target=\"_blank\" href=https://colab.research.google.com/notebooks/data_table.ipynb>data table notebook</a>'\n",
              "          + ' to learn more about interactive tables.';\n",
              "        element.innerHTML = '';\n",
              "        dataTable['output_type'] = 'display_data';\n",
              "        await google.colab.output.renderOutput(dataTable, element);\n",
              "        const docLink = document.createElement('div');\n",
              "        docLink.innerHTML = docLinkHtml;\n",
              "        element.appendChild(docLink);\n",
              "      }\n",
              "    </script>\n",
              "  </div>\n",
              "\n",
              "\n",
              "<div id=\"df-6de58329-ebe2-4f36-a62c-6ee23d69b3ee\">\n",
              "  <button class=\"colab-df-quickchart\" onclick=\"quickchart('df-6de58329-ebe2-4f36-a62c-6ee23d69b3ee')\"\n",
              "            title=\"Suggest charts\"\n",
              "            style=\"display:none;\">\n",
              "\n",
              "<svg xmlns=\"http://www.w3.org/2000/svg\" height=\"24px\"viewBox=\"0 0 24 24\"\n",
              "     width=\"24px\">\n",
              "    <g>\n",
              "        <path d=\"M19 3H5c-1.1 0-2 .9-2 2v14c0 1.1.9 2 2 2h14c1.1 0 2-.9 2-2V5c0-1.1-.9-2-2-2zM9 17H7v-7h2v7zm4 0h-2V7h2v10zm4 0h-2v-4h2v4z\"/>\n",
              "    </g>\n",
              "</svg>\n",
              "  </button>\n",
              "\n",
              "<style>\n",
              "  .colab-df-quickchart {\n",
              "      --bg-color: #E8F0FE;\n",
              "      --fill-color: #1967D2;\n",
              "      --hover-bg-color: #E2EBFA;\n",
              "      --hover-fill-color: #174EA6;\n",
              "      --disabled-fill-color: #AAA;\n",
              "      --disabled-bg-color: #DDD;\n",
              "  }\n",
              "\n",
              "  [theme=dark] .colab-df-quickchart {\n",
              "      --bg-color: #3B4455;\n",
              "      --fill-color: #D2E3FC;\n",
              "      --hover-bg-color: #434B5C;\n",
              "      --hover-fill-color: #FFFFFF;\n",
              "      --disabled-bg-color: #3B4455;\n",
              "      --disabled-fill-color: #666;\n",
              "  }\n",
              "\n",
              "  .colab-df-quickchart {\n",
              "    background-color: var(--bg-color);\n",
              "    border: none;\n",
              "    border-radius: 50%;\n",
              "    cursor: pointer;\n",
              "    display: none;\n",
              "    fill: var(--fill-color);\n",
              "    height: 32px;\n",
              "    padding: 0;\n",
              "    width: 32px;\n",
              "  }\n",
              "\n",
              "  .colab-df-quickchart:hover {\n",
              "    background-color: var(--hover-bg-color);\n",
              "    box-shadow: 0 1px 2px rgba(60, 64, 67, 0.3), 0 1px 3px 1px rgba(60, 64, 67, 0.15);\n",
              "    fill: var(--button-hover-fill-color);\n",
              "  }\n",
              "\n",
              "  .colab-df-quickchart-complete:disabled,\n",
              "  .colab-df-quickchart-complete:disabled:hover {\n",
              "    background-color: var(--disabled-bg-color);\n",
              "    fill: var(--disabled-fill-color);\n",
              "    box-shadow: none;\n",
              "  }\n",
              "\n",
              "  .colab-df-spinner {\n",
              "    border: 2px solid var(--fill-color);\n",
              "    border-color: transparent;\n",
              "    border-bottom-color: var(--fill-color);\n",
              "    animation:\n",
              "      spin 1s steps(1) infinite;\n",
              "  }\n",
              "\n",
              "  @keyframes spin {\n",
              "    0% {\n",
              "      border-color: transparent;\n",
              "      border-bottom-color: var(--fill-color);\n",
              "      border-left-color: var(--fill-color);\n",
              "    }\n",
              "    20% {\n",
              "      border-color: transparent;\n",
              "      border-left-color: var(--fill-color);\n",
              "      border-top-color: var(--fill-color);\n",
              "    }\n",
              "    30% {\n",
              "      border-color: transparent;\n",
              "      border-left-color: var(--fill-color);\n",
              "      border-top-color: var(--fill-color);\n",
              "      border-right-color: var(--fill-color);\n",
              "    }\n",
              "    40% {\n",
              "      border-color: transparent;\n",
              "      border-right-color: var(--fill-color);\n",
              "      border-top-color: var(--fill-color);\n",
              "    }\n",
              "    60% {\n",
              "      border-color: transparent;\n",
              "      border-right-color: var(--fill-color);\n",
              "    }\n",
              "    80% {\n",
              "      border-color: transparent;\n",
              "      border-right-color: var(--fill-color);\n",
              "      border-bottom-color: var(--fill-color);\n",
              "    }\n",
              "    90% {\n",
              "      border-color: transparent;\n",
              "      border-bottom-color: var(--fill-color);\n",
              "    }\n",
              "  }\n",
              "</style>\n",
              "\n",
              "  <script>\n",
              "    async function quickchart(key) {\n",
              "      const quickchartButtonEl =\n",
              "        document.querySelector('#' + key + ' button');\n",
              "      quickchartButtonEl.disabled = true;  // To prevent multiple clicks.\n",
              "      quickchartButtonEl.classList.add('colab-df-spinner');\n",
              "      try {\n",
              "        const charts = await google.colab.kernel.invokeFunction(\n",
              "            'suggestCharts', [key], {});\n",
              "      } catch (error) {\n",
              "        console.error('Error during call to suggestCharts:', error);\n",
              "      }\n",
              "      quickchartButtonEl.classList.remove('colab-df-spinner');\n",
              "      quickchartButtonEl.classList.add('colab-df-quickchart-complete');\n",
              "    }\n",
              "    (() => {\n",
              "      let quickchartButtonEl =\n",
              "        document.querySelector('#df-6de58329-ebe2-4f36-a62c-6ee23d69b3ee button');\n",
              "      quickchartButtonEl.style.display =\n",
              "        google.colab.kernel.accessAllowed ? 'block' : 'none';\n",
              "    })();\n",
              "  </script>\n",
              "</div>\n",
              "\n",
              "    </div>\n",
              "  </div>\n"
            ],
            "application/vnd.google.colaboratory.intrinsic+json": {
              "type": "dataframe",
              "variable_name": "train_df"
            }
          },
          "metadata": {},
          "execution_count": 18
        }
      ]
    },
    {
      "cell_type": "code",
      "source": [
        "train_df['label'].value_counts()"
      ],
      "metadata": {
        "colab": {
          "base_uri": "https://localhost:8080/",
          "height": 178
        },
        "id": "-EY2j5f8ZSKh",
        "outputId": "b4bdaabc-c01d-4916-af43-fe2a36bb6a13"
      },
      "execution_count": 19,
      "outputs": [
        {
          "output_type": "execute_result",
          "data": {
            "text/plain": [
              "label\n",
              "0    75173\n",
              "1    74827\n",
              "Name: count, dtype: int64"
            ],
            "text/html": [
              "<div>\n",
              "<style scoped>\n",
              "    .dataframe tbody tr th:only-of-type {\n",
              "        vertical-align: middle;\n",
              "    }\n",
              "\n",
              "    .dataframe tbody tr th {\n",
              "        vertical-align: top;\n",
              "    }\n",
              "\n",
              "    .dataframe thead th {\n",
              "        text-align: right;\n",
              "    }\n",
              "</style>\n",
              "<table border=\"1\" class=\"dataframe\">\n",
              "  <thead>\n",
              "    <tr style=\"text-align: right;\">\n",
              "      <th></th>\n",
              "      <th>count</th>\n",
              "    </tr>\n",
              "    <tr>\n",
              "      <th>label</th>\n",
              "      <th></th>\n",
              "    </tr>\n",
              "  </thead>\n",
              "  <tbody>\n",
              "    <tr>\n",
              "      <th>0</th>\n",
              "      <td>75173</td>\n",
              "    </tr>\n",
              "    <tr>\n",
              "      <th>1</th>\n",
              "      <td>74827</td>\n",
              "    </tr>\n",
              "  </tbody>\n",
              "</table>\n",
              "</div><br><label><b>dtype:</b> int64</label>"
            ]
          },
          "metadata": {},
          "execution_count": 19
        }
      ]
    },
    {
      "cell_type": "code",
      "source": [
        "import re\n",
        "\n",
        "train_df = train_df.fillna(' ')\n",
        "\n",
        "# 정규 표현식 re를 이용해 숫자를 공백으로 변경(정규 표현식으로 \\d는 숫자를 의미함.)\n",
        "train_df['document'] = train_df['document'].apply(lambda x: re.sub(r\"\\d+\", \" \", x))\n",
        "\n",
        "# 테스트 데이터 세트를 로딩하고 동일하게 Null 및 숫자를 공백으로 변환\n",
        "test_df = pd.read_csv('/content/drive/MyDrive/ESAA/input/ratings_test.txt', sep='\\t', encoding='utf-8')\n",
        "test_df = test_df.fillna(' ')\n",
        "test_df['document'] = test_df['document'].apply(lambda x: re.sub(r\"\\d+\", \" \", x))\n",
        "\n",
        "# id칼럼 삭제\n",
        "train_df.drop('id', axis=1, inplace=True)\n",
        "test_df.drop('id', axis=1, inplace=True)"
      ],
      "metadata": {
        "id": "PO_ZaN_nZYzt"
      },
      "execution_count": 20,
      "outputs": []
    },
    {
      "cell_type": "markdown",
      "source": [
        "- TF-IDF 방식으로 단어 벡터화 => 각 문장을 한글 형태소 분석을 통해 형태소 단어로 토큰화"
      ],
      "metadata": {
        "id": "Y_pZjJ0mZuqC"
      }
    },
    {
      "cell_type": "code",
      "source": [
        "from konlpy.tag import Twitter\n",
        "\n",
        "twitter = Twitter()\n",
        "def tw_tokenizer(text):\n",
        "    # 입력 인자로 들어온 텍스트를 형태소 단어로 토큰화해 리스트 형태로 반환\n",
        "    tokens_ko = twitter.morphs(text)\n",
        "    return tokens_ko"
      ],
      "metadata": {
        "colab": {
          "base_uri": "https://localhost:8080/"
        },
        "id": "0ZZCVtDHZoJz",
        "outputId": "90ef4ad9-b041-42bc-e45a-816a369ed311"
      },
      "execution_count": 21,
      "outputs": [
        {
          "output_type": "stream",
          "name": "stderr",
          "text": [
            "/usr/local/lib/python3.11/dist-packages/konlpy/tag/_okt.py:17: UserWarning: \"Twitter\" has changed to \"Okt\" since KoNLPy v0.4.5.\n",
            "  warn('\"Twitter\" has changed to \"Okt\" since KoNLPy v0.4.5.')\n"
          ]
        }
      ]
    },
    {
      "cell_type": "code",
      "source": [
        "from sklearn.feature_extraction.text import TfidfVectorizer\n",
        "from sklearn.linear_model import LogisticRegression\n",
        "from sklearn.model_selection import GridSearchCV\n",
        "\n",
        "# Twitter 객체의 morphs() 객체를 이용한 tokenizer 사용. ngram_range는 (1,2)\n",
        "tfidf_vect = TfidfVectorizer(tokenizer=tw_tokenizer, ngram_range=(1,2), min_df=3, max_df=0.9)\n",
        "tfidf_vect.fit(train_df['document'])\n",
        "tfidf_matrix_train = tfidf_vect.transform(train_df['document'])"
      ],
      "metadata": {
        "colab": {
          "base_uri": "https://localhost:8080/"
        },
        "id": "3PPPeNN3Z6G7",
        "outputId": "e27c0e9b-7a3f-448c-cce6-80878e5f6151"
      },
      "execution_count": 22,
      "outputs": [
        {
          "output_type": "stream",
          "name": "stderr",
          "text": [
            "/usr/local/lib/python3.11/dist-packages/sklearn/feature_extraction/text.py:517: UserWarning: The parameter 'token_pattern' will not be used since 'tokenizer' is not None'\n",
            "  warnings.warn(\n"
          ]
        }
      ]
    },
    {
      "cell_type": "code",
      "source": [
        "# 로지스틱 회귀를 이용해 감성 분석 분류 수행.\n",
        "lg_clf = LogisticRegression(random_state=0, solver='liblinear')\n",
        "\n",
        "# 파라미터 C 최적화를 위해 GridSearchCV를 이용\n",
        "params = {'C': [1, 3.5, 4.5, 5.5, 10]}\n",
        "grid_cv = GridSearchCV(lg_clf, param_grid=params, cv=3, scoring='accuracy', verbose=1)\n",
        "grid_cv.fit(tfidf_matrix_train, train_df['label'])\n",
        "print(grid_cv.best_params_, round(grid_cv.best_score_, 4))"
      ],
      "metadata": {
        "colab": {
          "base_uri": "https://localhost:8080/"
        },
        "id": "Rq8JLuOiaBOq",
        "outputId": "493e35a8-b2a1-44d4-f7a2-b381c4d04e78"
      },
      "execution_count": 23,
      "outputs": [
        {
          "output_type": "stream",
          "name": "stdout",
          "text": [
            "Fitting 3 folds for each of 5 candidates, totalling 15 fits\n",
            "{'C': 3.5} 0.8593\n"
          ]
        }
      ]
    },
    {
      "cell_type": "markdown",
      "source": [
        "- *C = 3.5*일 때 *최고 0.8593*의 정확도\n",
        "- 최종 감성 분석 예측 수행\n",
        "- 테스트 세트 예측시 학습할 때 적용한 TfidVectorizer 그대로 사용\n",
        "- 학습 데이터에 사용된 TfidVectorizer 객체 변수 tfidf_vect 이용해 transform() 테스트 데이터의 document 칼럼에 수행"
      ],
      "metadata": {
        "id": "qtSic2wEaPoN"
      }
    },
    {
      "cell_type": "code",
      "source": [
        "from sklearn.metrics import accuracy_score\n",
        "\n",
        "# 학습 데이터를 적용한 TfidfVectorizer를 이용해 테스트 데이터를 TF-IDF 값으로 피처 변환\n",
        "tfidf_matrix_test = tfidf_vect.transform(test_df['document'])\n",
        "\n",
        "# classifier는 GridSearchCV에서 최적 파라미터로 학습된 classifier를 그대로 이용\n",
        "best_estimator_ = grid_cv.best_estimator_\n",
        "preds = best_estimator_.predict(tfidf_matrix_test)\n",
        "\n",
        "print('Logistic Regression 정확도: ', accuracy_score(test_df['label'], preds))"
      ],
      "metadata": {
        "colab": {
          "base_uri": "https://localhost:8080/"
        },
        "id": "S6DwvZClaGJB",
        "outputId": "b37422e8-d5dd-4304-c7d8-aad39a7c54e8"
      },
      "execution_count": 24,
      "outputs": [
        {
          "output_type": "stream",
          "name": "stdout",
          "text": [
            "Logistic Regression 정확도:  0.86172\n"
          ]
        }
      ]
    }
  ]
}