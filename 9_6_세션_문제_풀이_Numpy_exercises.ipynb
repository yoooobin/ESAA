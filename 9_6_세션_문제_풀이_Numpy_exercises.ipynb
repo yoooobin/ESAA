{
  "nbformat": 4,
  "nbformat_minor": 5,
  "metadata": {
    "colab": {
      "provenance": [],
      "collapsed_sections": [
        "51898680"
      ],
      "include_colab_link": true
    },
    "language_info": {
      "name": "python"
    },
    "kernelspec": {
      "name": "python3",
      "display_name": "Python 3"
    }
  },
  "cells": [
    {
      "cell_type": "markdown",
      "metadata": {
        "id": "view-in-github",
        "colab_type": "text"
      },
      "source": [
        "<a href=\"https://colab.research.google.com/github/yoooobin/ESAA/blob/main/9_6_%EC%84%B8%EC%85%98_%EB%AC%B8%EC%A0%9C_%ED%92%80%EC%9D%B4_Numpy_exercises.ipynb\" target=\"_parent\"><img src=\"https://colab.research.google.com/assets/colab-badge.svg\" alt=\"Open In Colab\"/></a>"
      ]
    },
    {
      "cell_type": "markdown",
      "metadata": {
        "id": "bf79c78b"
      },
      "source": [
        "# Numpy exercises\n",
        "\n",
        "This is a collection of exercises that have been collected in the numpy mailing list, on stack overflow\n",
        "and in the numpy documentation. The goal of this collection is to offer a quick reference for both old\n",
        "and new users but also to provide a set of exercises for those who teach.\n",
        "\n",
        "\n",
        "If you find an error or think you've a better way to solve some of them, feel\n",
        "free to open an issue at <https://github.com/rougier/numpy-100>."
      ],
      "id": "bf79c78b"
    },
    {
      "cell_type": "markdown",
      "metadata": {
        "id": "8536e059"
      },
      "source": [
        "File automatically generated. See the documentation to update questions/answers/hints programmatically."
      ],
      "id": "8536e059"
    },
    {
      "cell_type": "markdown",
      "metadata": {
        "id": "78250c14"
      },
      "source": [
        "#### 21. Multiply a 5x3 matrix by a 3x2 matrix (real matrix product) (★☆☆)"
      ],
      "id": "78250c14"
    },
    {
      "cell_type": "code",
      "metadata": {
        "id": "9fe729cb",
        "colab": {
          "base_uri": "https://localhost:8080/"
        },
        "outputId": "b8cd3bf6-444a-4004-c626-3bb4134c86a4"
      },
      "source": [
        "import numpy as np\n",
        "\n",
        "A=np.random.random((5,3))\n",
        "B=np.random.random((3,2))\n",
        "\n",
        "np.dot(A,B)"
      ],
      "id": "9fe729cb",
      "execution_count": null,
      "outputs": [
        {
          "output_type": "execute_result",
          "data": {
            "text/plain": [
              "array([[0.42058755, 0.67910335],\n",
              "       [0.36929124, 0.9564194 ],\n",
              "       [0.76884591, 0.99610237],\n",
              "       [0.65186678, 1.04562867],\n",
              "       [0.77106961, 0.97195565]])"
            ]
          },
          "metadata": {},
          "execution_count": 1
        }
      ]
    },
    {
      "cell_type": "markdown",
      "metadata": {
        "id": "51898680"
      },
      "source": [
        "#### 22. Given a 1D array, negate all elements which are between 3 and 8, in place. (★☆☆)"
      ],
      "id": "51898680"
    },
    {
      "cell_type": "code",
      "metadata": {
        "id": "51c90f2d",
        "colab": {
          "base_uri": "https://localhost:8080/"
        },
        "outputId": "4fbbefe3-a34a-4d52-a053-15587809c5e9"
      },
      "source": [
        "import numpy as np\n",
        "\n",
        "A = np.arange(10)\n",
        "print(A)\n",
        "A[(3<A)&(A<8)] = A[(3<A)&(A<8)]*-1\n",
        "print(A)"
      ],
      "id": "51c90f2d",
      "execution_count": null,
      "outputs": [
        {
          "output_type": "stream",
          "name": "stdout",
          "text": [
            "[0 1 2 3 4 5 6 7 8 9]\n",
            "[ 0  1  2  3 -4 -5 -6 -7  8  9]\n"
          ]
        }
      ]
    },
    {
      "cell_type": "markdown",
      "metadata": {
        "id": "89e78048"
      },
      "source": [
        "#### 23. What is the output of the following script? (★☆☆)\n",
        "```python\n",
        "# Author: Jake VanderPlas\n",
        "\n",
        "print(sum(range(5),-1))\n",
        "from numpy import *\n",
        "print(sum(range(5),-1))\n",
        "```"
      ],
      "id": "89e78048"
    },
    {
      "cell_type": "markdown",
      "source": [
        "*   9 -> 0,1,2,3,4를 합한 값에 -1을 더해서 9가 나온다\n",
        "*   10 -> -1을 축으로 보아야 하기때문에 10이 나온다\n"
      ],
      "metadata": {
        "id": "0DkrFvO0lvsh"
      },
      "id": "0DkrFvO0lvsh"
    },
    {
      "cell_type": "markdown",
      "metadata": {
        "id": "ebd10810"
      },
      "source": [
        "#### 24. Consider an integer vector Z, which of these expressions are legal? (★☆☆)\n",
        "```python\n",
        "Z**Z\n",
        "2 << Z >> 2\n",
        "Z <- Z\n",
        "1j*Z\n",
        "Z/1/1\n",
        "Z<Z>Z\n",
        "```"
      ],
      "id": "ebd10810"
    },
    {
      "cell_type": "markdown",
      "source": [
        "*   Legal: Z**Z, 2 << Z >> 2`, 1j * Z, Z / 1 / 1\n",
        "*   Illegal: Z <- Z, Z < Z > Z\n",
        "\n",
        "\n",
        "*   파이썬에서 대입 연산자는 <-가 아닌 =이다\n",
        "*   파이썬에서 체인 비교는 불가능하다"
      ],
      "metadata": {
        "id": "fYAmi0XQyU_8"
      },
      "id": "fYAmi0XQyU_8"
    },
    {
      "cell_type": "markdown",
      "metadata": {
        "id": "c0e940f8"
      },
      "source": [
        "#### 25. What are the result of the following expressions? (★☆☆)\n",
        "```python\n",
        "np.array(0) / np.array(0)\n",
        "np.array(0) // np.array(0)\n",
        "np.array([np.nan]).astype(int).astype(float)\n",
        "```"
      ],
      "id": "c0e940f8"
    },
    {
      "cell_type": "markdown",
      "source": [
        "*   1. 0으로 나누는 것은 정의되지 않기 때문에 nan\n",
        "*   2. 0으로 나누는 것은 정의되지 않기 때문에 nan\n",
        "*   3. nan의 형태를 변환할 수 없으므로 오류\n"
      ],
      "metadata": {
        "id": "3rbz3lBXzLp6"
      },
      "id": "3rbz3lBXzLp6"
    },
    {
      "cell_type": "code",
      "source": [
        "np.array([np.nan]).astype(int).astype(float)"
      ],
      "metadata": {
        "colab": {
          "base_uri": "https://localhost:8080/"
        },
        "id": "4NnhZ9ZiGid2",
        "outputId": "68b4965d-e690-4b62-a8a1-5647bb13d1b7"
      },
      "id": "4NnhZ9ZiGid2",
      "execution_count": 31,
      "outputs": [
        {
          "output_type": "stream",
          "name": "stderr",
          "text": [
            "<ipython-input-31-ea171f4782f5>:1: RuntimeWarning: invalid value encountered in cast\n",
            "  np.array([np.nan]).astype(int).astype(float)\n"
          ]
        },
        {
          "output_type": "execute_result",
          "data": {
            "text/plain": [
              "array([-9.22337204e+18])"
            ]
          },
          "metadata": {},
          "execution_count": 31
        }
      ]
    },
    {
      "cell_type": "markdown",
      "metadata": {
        "id": "f1ae2c2d"
      },
      "source": [
        "#### 26. How to find common values between two arrays? (★☆☆)\n",
        "```python\n",
        "Z1 = np.random.randint(0,10,10)\n",
        "Z2 = np.random.randint(0,10,10)\n",
        "```\n",
        "Hint : use `numpy.random.randint(start, end, size)`"
      ],
      "id": "f1ae2c2d"
    },
    {
      "cell_type": "code",
      "metadata": {
        "id": "6801c73d",
        "colab": {
          "base_uri": "https://localhost:8080/"
        },
        "outputId": "7786c78f-79cf-4e3e-a337-8f8cac788d31"
      },
      "source": [
        "Z1 = np.random.randint(0, 10, 10)\n",
        "Z2 = np.random.randint(0, 10, 10)\n",
        "\n",
        "common_values = np.intersect1d(Z1, Z2)\n",
        "\n",
        "print(\"Z1:\", Z1)\n",
        "print(\"Z2:\", Z2)\n",
        "print(\"common_values:\", common_values)"
      ],
      "id": "6801c73d",
      "execution_count": null,
      "outputs": [
        {
          "output_type": "stream",
          "name": "stdout",
          "text": [
            "Z1: [1 1 0 3 3 5 0 0 6 7]\n",
            "Z2: [3 1 0 6 8 1 3 5 5 0]\n",
            "common_values: [0 1 3 5 6]\n"
          ]
        }
      ]
    },
    {
      "cell_type": "markdown",
      "metadata": {
        "id": "37bc0973"
      },
      "source": [
        "#### 27. Is the following expressions true? (★☆☆)\n",
        "```python\n",
        "np.sqrt(-1) == np.emath.sqrt(-1)\n",
        "```"
      ],
      "id": "37bc0973"
    },
    {
      "cell_type": "code",
      "source": [
        "np.sqrt(-1) == np.emath.sqrt(-1)\n",
        "np.sqrt(-1)\n",
        "np.emath.sqrt(-1)"
      ],
      "metadata": {
        "colab": {
          "base_uri": "https://localhost:8080/"
        },
        "id": "71edxTrqGqxA",
        "outputId": "eafb7dd3-c26b-4ab2-c293-e4d6ef82b80b"
      },
      "id": "71edxTrqGqxA",
      "execution_count": 32,
      "outputs": [
        {
          "output_type": "stream",
          "name": "stderr",
          "text": [
            "<ipython-input-32-deadca2c2cb6>:1: RuntimeWarning: invalid value encountered in sqrt\n",
            "  np.sqrt(-1) == np.emath.sqrt(-1)\n",
            "<ipython-input-32-deadca2c2cb6>:2: RuntimeWarning: invalid value encountered in sqrt\n",
            "  np.sqrt(-1)\n"
          ]
        },
        {
          "output_type": "execute_result",
          "data": {
            "text/plain": [
              "1j"
            ]
          },
          "metadata": {},
          "execution_count": 32
        }
      ]
    },
    {
      "cell_type": "markdown",
      "source": [
        "False, np.sqrt(-1)는 nan을 반환하고, np.emath.sqrt(-1)는 복소수 1j를 반환하므로 false이다"
      ],
      "metadata": {
        "id": "NruwN0G-1DjQ"
      },
      "id": "NruwN0G-1DjQ"
    },
    {
      "cell_type": "markdown",
      "metadata": {
        "id": "42f8b2f9"
      },
      "source": [
        "#### 28. How to get all the dates corresponding to the month of July 2016? (★★☆)\n",
        "Hint : modify the code below\n",
        "```python\n",
        "Z = np.arange('start', 'end', dtype='datetime64[D]')\n",
        "```"
      ],
      "id": "42f8b2f9"
    },
    {
      "cell_type": "code",
      "source": [
        "import numpy as np\n",
        "\n",
        "dates = np.arange('2016-07-01', '2016-08-01', dtype='datetime64[D]')\n",
        "\n",
        "print(dates)"
      ],
      "metadata": {
        "id": "3kkl01x3x0NF",
        "colab": {
          "base_uri": "https://localhost:8080/"
        },
        "outputId": "1c8c5c10-1f7e-46ec-c09b-3b46bd3b203f"
      },
      "id": "3kkl01x3x0NF",
      "execution_count": 33,
      "outputs": [
        {
          "output_type": "stream",
          "name": "stdout",
          "text": [
            "['2016-07-01' '2016-07-02' '2016-07-03' '2016-07-04' '2016-07-05'\n",
            " '2016-07-06' '2016-07-07' '2016-07-08' '2016-07-09' '2016-07-10'\n",
            " '2016-07-11' '2016-07-12' '2016-07-13' '2016-07-14' '2016-07-15'\n",
            " '2016-07-16' '2016-07-17' '2016-07-18' '2016-07-19' '2016-07-20'\n",
            " '2016-07-21' '2016-07-22' '2016-07-23' '2016-07-24' '2016-07-25'\n",
            " '2016-07-26' '2016-07-27' '2016-07-28' '2016-07-29' '2016-07-30'\n",
            " '2016-07-31']\n"
          ]
        }
      ]
    },
    {
      "cell_type": "markdown",
      "metadata": {
        "id": "252c43e2"
      },
      "source": [
        "#### 29. How to compute ((A+B)*(-A/2)) in place (without copy)? (★★☆)\n",
        "Hint : use `numpy.add`, `numpy.divide`,`numpy.negative`, `numpy.multiply` and parameter `out` of the funtions"
      ],
      "id": "252c43e2"
    },
    {
      "cell_type": "code",
      "metadata": {
        "id": "f06ff615",
        "colab": {
          "base_uri": "https://localhost:8080/"
        },
        "outputId": "254edd85-0a8f-4ae8-c499-1a18fbdc48a3"
      },
      "source": [
        "import numpy as np\n",
        "\n",
        "A = np.array([1, 2, 3, 4], dtype=float)\n",
        "B = np.array([5, 6, 7, 8])\n",
        "\n",
        "np.add(A, B, out=A)\n",
        "np.divide(-A, 2, out=A)\n",
        "np.negative(A, out=A)\n",
        "np.multiply(A, A, out=A)\n",
        "\n",
        "print(A)"
      ],
      "id": "f06ff615",
      "execution_count": null,
      "outputs": [
        {
          "output_type": "stream",
          "name": "stdout",
          "text": [
            "[ 9. 16. 25. 36.]\n"
          ]
        }
      ]
    },
    {
      "cell_type": "markdown",
      "metadata": {
        "id": "486df8ea"
      },
      "source": [
        "#### 30. Extract the integer part of a random array of positive numbers using 2 different methods (★★☆)\n",
        "Hint : `%`, `//`"
      ],
      "id": "486df8ea"
    },
    {
      "cell_type": "code",
      "metadata": {
        "id": "34b4fa08",
        "colab": {
          "base_uri": "https://localhost:8080/"
        },
        "outputId": "08abc01c-1c09-477f-da1d-d4b02c6d580f"
      },
      "source": [
        "A = np.random.uniform(0,10,10)\n",
        "print(A)\n",
        "\n",
        "print(A - A%1)\n",
        "print(A // 1)"
      ],
      "id": "34b4fa08",
      "execution_count": 34,
      "outputs": [
        {
          "output_type": "stream",
          "name": "stdout",
          "text": [
            "[9.05649499 6.84993712 6.17963355 0.10840693 7.82580254 0.46433379\n",
            " 0.22683407 9.73385276 9.5743329  8.00608421]\n",
            "[9. 6. 6. 0. 7. 0. 0. 9. 9. 8.]\n",
            "[9. 6. 6. 0. 7. 0. 0. 9. 9. 8.]\n"
          ]
        }
      ]
    },
    {
      "cell_type": "markdown",
      "metadata": {
        "id": "649e89f9"
      },
      "source": [
        "#### 31. Create a 5x5 matrix with row values ranging from 0 to 4 (★★☆)"
      ],
      "id": "649e89f9"
    },
    {
      "cell_type": "code",
      "metadata": {
        "id": "663cc611",
        "colab": {
          "base_uri": "https://localhost:8080/"
        },
        "outputId": "391d863c-b166-47fc-a74e-70c00c0cd174"
      },
      "source": [
        "import numpy as np\n",
        "row_values = np.tile(np.arange(5), (5, 1))\n",
        "print(row_values)"
      ],
      "id": "663cc611",
      "execution_count": null,
      "outputs": [
        {
          "output_type": "stream",
          "name": "stdout",
          "text": [
            "[[0 1 2 3 4]\n",
            " [0 1 2 3 4]\n",
            " [0 1 2 3 4]\n",
            " [0 1 2 3 4]\n",
            " [0 1 2 3 4]]\n",
            "[0 1 2 3 4]\n"
          ]
        }
      ]
    },
    {
      "cell_type": "markdown",
      "metadata": {
        "id": "2d07be1c"
      },
      "source": [
        "#### 32. Create a random vector of size 10 and sort it (★★☆)"
      ],
      "id": "2d07be1c"
    },
    {
      "cell_type": "code",
      "metadata": {
        "id": "4f7cb3ad",
        "colab": {
          "base_uri": "https://localhost:8080/"
        },
        "outputId": "84952df1-4e82-4f48-f53b-c7aa580c85e4"
      },
      "source": [
        "A = np.random.random(10)\n",
        "sorted_A = np.sort(A)\n",
        "\n",
        "print(A)\n",
        "print(sorted_A)"
      ],
      "id": "4f7cb3ad",
      "execution_count": null,
      "outputs": [
        {
          "output_type": "stream",
          "name": "stdout",
          "text": [
            "[0.62983085 0.0162409  0.00218153 0.17514546 0.25352268 0.36323569\n",
            " 0.14527501 0.45201076 0.45178436 0.67761836]\n",
            "[0.00218153 0.0162409  0.14527501 0.17514546 0.25352268 0.36323569\n",
            " 0.45178436 0.45201076 0.62983085 0.67761836]\n"
          ]
        }
      ]
    },
    {
      "cell_type": "markdown",
      "metadata": {
        "id": "fe043549"
      },
      "source": [
        "#### 33. Consider two random array A and B, check if they are equal (★★☆)\n",
        "```python\n",
        "A = np.random.randint(0,2,5)\n",
        "B = np.random.randint(0,2,5)\n",
        "```\n",
        "Hint : Use `numpy.array_equal()`"
      ],
      "id": "fe043549"
    },
    {
      "cell_type": "code",
      "metadata": {
        "id": "3326a686",
        "colab": {
          "base_uri": "https://localhost:8080/"
        },
        "outputId": "cc663341-ba7a-4224-a643-3997f5910d2b"
      },
      "source": [
        "A = np.random.randint(0,2,5)\n",
        "B = np.random.randint(0,2,5)\n",
        "\n",
        "print(A)\n",
        "print(B)\n",
        "np.array_equal(A,B)"
      ],
      "id": "3326a686",
      "execution_count": 35,
      "outputs": [
        {
          "output_type": "stream",
          "name": "stdout",
          "text": [
            "[0 0 0 1 1]\n",
            "[0 0 0 0 0]\n"
          ]
        },
        {
          "output_type": "execute_result",
          "data": {
            "text/plain": [
              "False"
            ]
          },
          "metadata": {},
          "execution_count": 35
        }
      ]
    },
    {
      "cell_type": "markdown",
      "metadata": {
        "id": "2002cb03"
      },
      "source": [
        "#### 34. Consider a random 10x2 matrix representing cartesian coordinates, convert them to polar coordinates (★★☆)\n",
        "Hint 1 : Note that cartesian coodinate **(x, y)** can be represented as  polar coordinates **(distance from origin to (x,y), angle from the x-axis)**\n",
        "\n",
        "Hint 2 : Use `numpy.sqrt` and `numpy.arctan2`"
      ],
      "id": "2002cb03"
    },
    {
      "cell_type": "code",
      "metadata": {
        "id": "58be72bc",
        "colab": {
          "base_uri": "https://localhost:8080/"
        },
        "outputId": "6083a274-5082-40b5-cf03-7f1ffd2a1410"
      },
      "source": [
        "cartesian = np.random.rand(10, 2) * 10\n",
        "print(\"cartesian coordinates:\\n\", cartesian)\n",
        "\n",
        "x = cartesian[:, 0] #x좌표\n",
        "y = cartesian[:, 1] #y좌표\n",
        "\n",
        "r = np.sqrt(x**2 + y**2) #반지름r = sqrt(x^2 + y^2) 식 이용\n",
        "theta = np.arctan2(y, x) #각도 계산\n",
        "\n",
        "polar_coordinates = np.column_stack((r, theta))\n",
        "print(\"\\n극좌표 (r, θ):\\n\", polar_coordinates)"
      ],
      "id": "58be72bc",
      "execution_count": null,
      "outputs": [
        {
          "output_type": "stream",
          "name": "stdout",
          "text": [
            "cartesian coordinates:\n",
            " [[3.97096729 8.86177003]\n",
            " [5.41767121 7.88907098]\n",
            " [0.11378617 2.10660813]\n",
            " [6.78528844 6.33171341]\n",
            " [3.4397138  6.74278716]\n",
            " [8.33196353 4.75628053]\n",
            " [7.35645109 7.63138297]\n",
            " [8.67266208 5.73119344]\n",
            " [6.85830609 6.96213886]\n",
            " [5.14680334 1.33457182]]\n",
            "\n",
            "극좌표 (r, θ):\n",
            " [[ 9.7107955   1.1495228 ]\n",
            " [ 9.57019343  0.96903122]\n",
            " [ 2.10967891  1.51683484]\n",
            " [ 9.28066452  0.75083277]\n",
            " [ 7.56946562  1.09907574]\n",
            " [ 9.59394708  0.51870796]\n",
            " [10.59978201  0.80373978]\n",
            " [10.39527036  0.583954  ]\n",
            " [ 9.77280615  0.79291101]\n",
            " [ 5.3170167   0.25371331]]\n"
          ]
        }
      ]
    },
    {
      "cell_type": "markdown",
      "metadata": {
        "id": "b7109c9f"
      },
      "source": [
        "#### 35. Create random vector Z of size 10 and replace the maximum value by 0 (★★☆)\n",
        "Hint : We can see the index of maximum value using `Z.argmax()`"
      ],
      "id": "b7109c9f"
    },
    {
      "cell_type": "code",
      "metadata": {
        "id": "f79e79a7",
        "colab": {
          "base_uri": "https://localhost:8080/"
        },
        "outputId": "1e28bdb1-07ed-48dd-e7c1-82b4dfef4352"
      },
      "source": [
        "Z = np.random.random(10)\n",
        "Z[Z.argmax()] = 0\n",
        "print(Z)"
      ],
      "id": "f79e79a7",
      "execution_count": null,
      "outputs": [
        {
          "output_type": "stream",
          "name": "stdout",
          "text": [
            "[0.4062809  0.60463792 0.56125191 0.0890245  0.39972595 0.\n",
            " 0.05621648 0.74840714 0.11041563 0.4955431 ]\n"
          ]
        }
      ]
    },
    {
      "cell_type": "markdown",
      "metadata": {
        "id": "e6e1ae2f"
      },
      "source": [
        "#### 36. How to find the closest value (to a given scalar v) in a vector Z? (★★☆)\n",
        "```python\n",
        "Z = np.arange(100)\n",
        "v = np.random.uniform(0,100)\n",
        "```\n",
        "Hint : Coumpute the distances between the each elements of Z and the scalar v. After that, we can see the index of minimum value using `argmin()`.  "
      ],
      "id": "e6e1ae2f"
    },
    {
      "cell_type": "code",
      "source": [
        "Z = np.arange(100)\n",
        "v = np.random.uniform(0,100)\n",
        "print(Z)\n",
        "print(v)\n",
        "\n",
        "distances = np.abs(Z - v)\n",
        "closest_index = np.argmin(distances)\n",
        "closest_value = Z[closest_index]\n",
        "\n",
        "print(closest_value)"
      ],
      "metadata": {
        "id": "QkQ2Mii77FrE",
        "colab": {
          "base_uri": "https://localhost:8080/"
        },
        "outputId": "3813f967-a634-470b-dc8c-4409ce96c6df"
      },
      "id": "QkQ2Mii77FrE",
      "execution_count": null,
      "outputs": [
        {
          "output_type": "stream",
          "name": "stdout",
          "text": [
            "[ 0  1  2  3  4  5  6  7  8  9 10 11 12 13 14 15 16 17 18 19 20 21 22 23\n",
            " 24 25 26 27 28 29 30 31 32 33 34 35 36 37 38 39 40 41 42 43 44 45 46 47\n",
            " 48 49 50 51 52 53 54 55 56 57 58 59 60 61 62 63 64 65 66 67 68 69 70 71\n",
            " 72 73 74 75 76 77 78 79 80 81 82 83 84 85 86 87 88 89 90 91 92 93 94 95\n",
            " 96 97 98 99]\n",
            "7.998898108537611\n",
            "8\n"
          ]
        }
      ]
    },
    {
      "cell_type": "markdown",
      "metadata": {
        "id": "f98713a6"
      },
      "source": [
        "#### 37. What is the equivalent of enumerate for numpy arrays? (★★☆)\n",
        "Hint : Use `numpy.ndenumerate()`or `numpy.ndindex()`\n",
        "\n",
        "Example of the output :\n",
        "```python\n",
        "Z = np.arange(9).reshape(3,3)\n",
        "```\n",
        "```python\n",
        "# output\n",
        "(0, 0) 0\n",
        "(0, 1) 1\n",
        "(0, 2) 2\n",
        "(1, 0) 3\n",
        "(1, 1) 4\n",
        "(1, 2) 5\n",
        "(2, 0) 6\n",
        "(2, 1) 7\n",
        "(2, 2) 8\n",
        "```"
      ],
      "id": "f98713a6"
    },
    {
      "cell_type": "code",
      "metadata": {
        "id": "64795f84",
        "colab": {
          "base_uri": "https://localhost:8080/"
        },
        "outputId": "debdf316-bf5b-4c68-9910-5a3a3e7ff7ab"
      },
      "source": [
        "import numpy as np\n",
        "Z = np.arange(9).reshape(3, 3)\n",
        "for index, value in np.ndenumerate(Z):\n",
        "    print(index, value)"
      ],
      "id": "64795f84",
      "execution_count": null,
      "outputs": [
        {
          "output_type": "stream",
          "name": "stdout",
          "text": [
            "(0, 0) 0\n",
            "(0, 1) 1\n",
            "(0, 2) 2\n",
            "(1, 0) 3\n",
            "(1, 1) 4\n",
            "(1, 2) 5\n",
            "(2, 0) 6\n",
            "(2, 1) 7\n",
            "(2, 2) 8\n"
          ]
        }
      ]
    },
    {
      "cell_type": "markdown",
      "metadata": {
        "id": "0cf413ee"
      },
      "source": [
        "#### 38. How to randomly place p elements in a 2D array? (★★☆)\n",
        "Hint : modify the code below\n",
        "```python\n",
        "n = 'size of a 2D array'\n",
        "p = 'the number of elements that you want to place'\n",
        "Z = np.zeros((n,n))\n",
        "np.put(Z, np.random.choice(range(n*n), p, replace = False),'value that you want to place')\n",
        "print(Z)\n",
        "```"
      ],
      "id": "0cf413ee"
    },
    {
      "cell_type": "code",
      "metadata": {
        "id": "dfc57e06",
        "colab": {
          "base_uri": "https://localhost:8080/"
        },
        "outputId": "0c8f5754-bb3c-4237-b0b7-bbe75f54cb88"
      },
      "source": [
        "n = 5\n",
        "p = 8\n",
        "Z = np.zeros((n, n))\n",
        "\n",
        "indices = np.random.choice(range(n * n), p, replace=False)\n",
        "np.put(Z, indices, 1)\n",
        "\n",
        "print(Z)"
      ],
      "id": "dfc57e06",
      "execution_count": null,
      "outputs": [
        {
          "output_type": "stream",
          "name": "stdout",
          "text": [
            "[[0. 1. 0. 1. 1.]\n",
            " [0. 1. 0. 1. 0.]\n",
            " [0. 0. 0. 0. 0.]\n",
            " [0. 0. 0. 0. 0.]\n",
            " [1. 0. 1. 0. 1.]]\n"
          ]
        }
      ]
    },
    {
      "cell_type": "markdown",
      "metadata": {
        "id": "c0cf37e0"
      },
      "source": [
        "#### 39. How to sort an array below by the nth column? (★★☆)\n",
        "```python\n",
        "Z = np.random.randint(0,10,(3,3))\n",
        "```"
      ],
      "id": "c0cf37e0"
    },
    {
      "cell_type": "code",
      "source": [
        "print(\"원래 배열:\\n\", Z)"
      ],
      "metadata": {
        "colab": {
          "base_uri": "https://localhost:8080/"
        },
        "id": "jXeRRriXAEwr",
        "outputId": "9df7de4a-03db-4bd7-e4ed-0ba154162660"
      },
      "id": "jXeRRriXAEwr",
      "execution_count": null,
      "outputs": [
        {
          "output_type": "stream",
          "name": "stdout",
          "text": [
            "원래 배열:\n",
            " [[0 1 2]\n",
            " [3 4 5]\n",
            " [6 7 8]]\n"
          ]
        }
      ]
    },
    {
      "cell_type": "code",
      "metadata": {
        "id": "9336ca5f",
        "colab": {
          "base_uri": "https://localhost:8080/"
        },
        "outputId": "9c2e88db-a02c-4b9b-c473-80bf324de7a8"
      },
      "source": [
        "# column 1\n",
        "n = 1\n",
        "sorted_Z = Z[Z[:, n-1].argsort()]\n",
        "print(f\"{n}번째 열을 기준으로 정렬된 배열:\\n\", sorted_Z)"
      ],
      "id": "9336ca5f",
      "execution_count": null,
      "outputs": [
        {
          "output_type": "stream",
          "name": "stdout",
          "text": [
            "1번째 열을 기준으로 정렬된 배열:\n",
            " [[0 1 2]\n",
            " [3 4 5]\n",
            " [6 7 8]]\n"
          ]
        }
      ]
    },
    {
      "cell_type": "code",
      "source": [
        "# column 2\n",
        "n = 2\n",
        "sorted_Z = Z[Z[:, n-1].argsort()]\n",
        "print(f\"{n}번째 열을 기준으로 정렬된 배열:\\n\", sorted_Z)"
      ],
      "metadata": {
        "id": "0hZzZ6tn2K6V",
        "colab": {
          "base_uri": "https://localhost:8080/"
        },
        "outputId": "8b7651ee-e641-44c9-dbfd-0bba48781bf5"
      },
      "id": "0hZzZ6tn2K6V",
      "execution_count": null,
      "outputs": [
        {
          "output_type": "stream",
          "name": "stdout",
          "text": [
            "2번째 열을 기준으로 정렬된 배열:\n",
            " [[0 1 2]\n",
            " [3 4 5]\n",
            " [6 7 8]]\n"
          ]
        }
      ]
    },
    {
      "cell_type": "code",
      "source": [
        "# column 3\n",
        "n = 3\n",
        "sorted_Z = Z[Z[:, n-1].argsort()]\n",
        "print(f\"{n}번째 열을 기준으로 정렬된 배열:\\n\", sorted_Z)"
      ],
      "metadata": {
        "id": "z4zqQXvt2NaB",
        "colab": {
          "base_uri": "https://localhost:8080/"
        },
        "outputId": "8523b9f7-b278-4728-f4e8-1df524ea7b8b"
      },
      "id": "z4zqQXvt2NaB",
      "execution_count": null,
      "outputs": [
        {
          "output_type": "stream",
          "name": "stdout",
          "text": [
            "3번째 열을 기준으로 정렬된 배열:\n",
            " [[0 1 2]\n",
            " [3 4 5]\n",
            " [6 7 8]]\n"
          ]
        }
      ]
    }
  ]
}