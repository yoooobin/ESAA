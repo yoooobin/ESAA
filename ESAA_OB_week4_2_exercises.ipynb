{
  "cells": [
    {
      "cell_type": "markdown",
      "metadata": {
        "id": "view-in-github",
        "colab_type": "text"
      },
      "source": [
        "<a href=\"https://colab.research.google.com/github/yoooobin/ESAA/blob/main/ESAA_OB_week4_2_exercises.ipynb\" target=\"_parent\"><img src=\"https://colab.research.google.com/assets/colab-badge.svg\" alt=\"Open In Colab\"/></a>"
      ]
    },
    {
      "cell_type": "markdown",
      "metadata": {
        "id": "mMsA8Q4inl5S"
      },
      "source": [
        "#### 04 텍스트 분류 실습 - 20 뉴스그룹 분류\n",
        "- fetch_20newsgroups() API: 뉴스그룹의 분류를 수행해 볼 수 있는 예제 데이터 제공\n",
        "- 카운트 기반, TF-IDF 기반 벡터화 적용 => 예측 성능 비교"
      ]
    },
    {
      "cell_type": "markdown",
      "metadata": {
        "id": "KIhPY0Ly-_n2"
      },
      "source": [
        "\n",
        "\n",
        "> 텍스트 정규화\n",
        "\n"
      ]
    },
    {
      "cell_type": "code",
      "execution_count": null,
      "metadata": {
        "id": "AY3v54x192hK"
      },
      "outputs": [],
      "source": [
        "from sklearn.datasets import fetch_20newsgroups\n",
        "\n",
        "news_data = fetch_20newsgroups(subset='all', random_state=156)"
      ]
    },
    {
      "cell_type": "code",
      "execution_count": null,
      "metadata": {
        "colab": {
          "base_uri": "https://localhost:8080/"
        },
        "id": "bYZBEn20_KAC",
        "outputId": "12be3bb0-dba6-44dd-d0c0-51865f1c14d2"
      },
      "outputs": [
        {
          "output_type": "stream",
          "name": "stdout",
          "text": [
            "dict_keys(['data', 'filenames', 'target_names', 'target', 'DESCR'])\n"
          ]
        }
      ],
      "source": [
        "print(news_data.keys())"
      ]
    },
    {
      "cell_type": "code",
      "execution_count": null,
      "metadata": {
        "colab": {
          "base_uri": "https://localhost:8080/"
        },
        "id": "U4X9wq5R_gW1",
        "outputId": "86b62980-a2f0-4b4c-c812-dc1d5c15d711"
      },
      "outputs": [
        {
          "output_type": "stream",
          "name": "stdout",
          "text": [
            "target 클래스의 값과 분포도 \n",
            " 0     799\n",
            "1     973\n",
            "2     985\n",
            "3     982\n",
            "4     963\n",
            "5     988\n",
            "6     975\n",
            "7     990\n",
            "8     996\n",
            "9     994\n",
            "10    999\n",
            "11    991\n",
            "12    984\n",
            "13    990\n",
            "14    987\n",
            "15    997\n",
            "16    910\n",
            "17    940\n",
            "18    775\n",
            "19    628\n",
            "Name: count, dtype: int64\n",
            "target 클래스의 이름들 \n",
            " ['alt.atheism', 'comp.graphics', 'comp.os.ms-windows.misc', 'comp.sys.ibm.pc.hardware', 'comp.sys.mac.hardware', 'comp.windows.x', 'misc.forsale', 'rec.autos', 'rec.motorcycles', 'rec.sport.baseball', 'rec.sport.hockey', 'sci.crypt', 'sci.electronics', 'sci.med', 'sci.space', 'soc.religion.christian', 'talk.politics.guns', 'talk.politics.mideast', 'talk.politics.misc', 'talk.religion.misc']\n"
          ]
        }
      ],
      "source": [
        "import pandas as pd\n",
        "\n",
        "print('target 클래스의 값과 분포도 \\n', pd.Series(news_data.target).value_counts().sort_index())\n",
        "print('target 클래스의 이름들 \\n', news_data.target_names)"
      ]
    },
    {
      "cell_type": "code",
      "execution_count": null,
      "metadata": {
        "colab": {
          "base_uri": "https://localhost:8080/"
        },
        "id": "RmgQniMQ_iQm",
        "outputId": "80877fca-fd7c-444d-cf21-88e37d57eff1"
      },
      "outputs": [
        {
          "output_type": "stream",
          "name": "stdout",
          "text": [
            "From: egreen@east.sun.com (Ed Green - Pixel Cruncher)\n",
            "Subject: Re: Observation re: helmets\n",
            "Organization: Sun Microsystems, RTP, NC\n",
            "Lines: 21\n",
            "Distribution: world\n",
            "Reply-To: egreen@east.sun.com\n",
            "NNTP-Posting-Host: laser.east.sun.com\n",
            "\n",
            "In article 211353@mavenry.altcit.eskimo.com, maven@mavenry.altcit.eskimo.com (Norman Hamer) writes:\n",
            "> \n",
            "> The question for the day is re: passenger helmets, if you don't know for \n",
            ">certain who's gonna ride with you (like say you meet them at a .... church \n",
            ">meeting, yeah, that's the ticket)... What are some guidelines? Should I just \n",
            ">pick up another shoei in my size to have a backup helmet (XL), or should I \n",
            ">maybe get an inexpensive one of a smaller size to accomodate my likely \n",
            ">passenger? \n",
            "\n",
            "If your primary concern is protecting the passenger in the event of a\n",
            "crash, have him or her fitted for a helmet that is their size.  If your\n",
            "primary concern is complying with stupid helmet laws, carry a real big\n",
            "spare (you can put a big or small head in a big helmet, but not in a\n",
            "small one).\n",
            "\n",
            "---\n",
            "Ed Green, former Ninjaite |I was drinking last night with a biker,\n",
            "  Ed.Green@East.Sun.COM   |and I showed him a picture of you.  I said,\n",
            "DoD #0111  (919)460-8302  |\"Go on, get to know her, you'll like her!\"\n",
            " (The Grateful Dead) -->  |It seemed like the least I could do...\n",
            "\n",
            "\n"
          ]
        }
      ],
      "source": [
        "print(news_data.data[0])"
      ]
    },
    {
      "cell_type": "markdown",
      "metadata": {
        "id": "pbNRdVEl_mJn"
      },
      "source": [
        "- 뉴스그룹 기사 내용뿐만 아니라 뉴스그룹 제목, 작성자, 소속, 이메일 등 다양한 정보 가짐\n",
        "- 제목 등 다른 정보 제거 => 뉴스그룹 분류의 Target 클래스 값과 유사한 데이터 가지고 있는 경우가 많음 (remove 파라미터)"
      ]
    },
    {
      "cell_type": "code",
      "execution_count": null,
      "metadata": {
        "colab": {
          "base_uri": "https://localhost:8080/"
        },
        "id": "YhNYciF9AVVa",
        "outputId": "ddbc8b9c-b2cc-4cdc-c6a2-4419c2932647"
      },
      "outputs": [
        {
          "output_type": "stream",
          "name": "stdout",
          "text": [
            "학습 데이터 크기 11314, 테스트 데이터 크기 7532\n"
          ]
        }
      ],
      "source": [
        "from sklearn.datasets import fetch_20newsgroups\n",
        "\n",
        "# subset='train'으로 학습용 데이터만 추출, remove=('headers', 'footers', 'quotes')로 내용만 추출\n",
        "train_news = fetch_20newsgroups(subset='train', remove=('headers', 'footers', 'quotes'),\n",
        "                                random_state=156)\n",
        "X_train = train_news.data\n",
        "y_train = train_news.target\n",
        "\n",
        "# subset='train'으로 테스트 데이터만 추출, remove=('headers', 'footers', 'quotes')로 내용만 추출\n",
        "test_news = fetch_20newsgroups(subset='test', remove=('headers', 'footers', 'quotes'),\n",
        "                               random_state=156)\n",
        "X_test = test_news.data\n",
        "y_test = test_news.target\n",
        "print('학습 데이터 크기 {0}, 테스트 데이터 크기 {1}'.format(len(train_news.data),\n",
        "len(test_news.data)))"
      ]
    },
    {
      "cell_type": "markdown",
      "metadata": {
        "id": "ah_wSLCDAbe8"
      },
      "source": [
        "\n",
        "\n",
        "> 피처 벡터화 변환과 머신러닝 모델 학습/예측/평가\n",
        "- CountVectorizer: 학습 데이터의 텍스트 피처 벡터화\n",
        "- fit() 수행된 CountVectorizer 객체를 이용해 테스트 데이터를 변환(transform)해야 함\n",
        "- fit_trainsform() 사용 X\n",
        "\n"
      ]
    },
    {
      "cell_type": "code",
      "execution_count": null,
      "metadata": {
        "colab": {
          "base_uri": "https://localhost:8080/"
        },
        "id": "W67Y1J0IBAni",
        "outputId": "cbdc3cb2-af39-4438-d4c1-c66b4c1e7c6b"
      },
      "outputs": [
        {
          "output_type": "stream",
          "name": "stdout",
          "text": [
            "학습 데이터 Text의 CountVectorizer Shape: (11314, 101631)\n"
          ]
        }
      ],
      "source": [
        "from sklearn.feature_extraction.text import CountVectorizer\n",
        "\n",
        "# Count Vectorization으로 피처 벡터화 변환 수행.\n",
        "cnt_vect = CountVectorizer()\n",
        "cnt_vect.fit(X_train)\n",
        "X_train_cnt_vect = cnt_vect.transform(X_train)\n",
        "\n",
        "# 학습 데이터로 fit()된 CountVectorizer를 이용해 테스트 데이터를 피처 벡터화 변환 수행.\n",
        "X_test_cnt_vect = cnt_vect.transform(X_test)\n",
        "\n",
        "print('학습 데이터 Text의 CountVectorizer Shape:', X_train_cnt_vect.shape)"
      ]
    },
    {
      "cell_type": "code",
      "execution_count": null,
      "metadata": {
        "id": "-3Vmn0-OBXzY",
        "colab": {
          "base_uri": "https://localhost:8080/"
        },
        "outputId": "68737934-243a-49b9-9802-75997eab8161"
      },
      "outputs": [
        {
          "output_type": "stream",
          "name": "stdout",
          "text": [
            "CountVectorized Logistic Regression의 예측 정확도는 0.617\n"
          ]
        }
      ],
      "source": [
        "from sklearn.linear_model import LogisticRegression\n",
        "from sklearn.metrics import accuracy_score\n",
        "import warnings\n",
        "warnings.filterwarnings('ignore')\n",
        "\n",
        "# LogisticRegression을 이용해 학습/예측/평가 수행.\n",
        "lr_clf = LogisticRegression(solver='liblinear')\n",
        "lr_clf.fit(X_train_cnt_vect, y_train)\n",
        "pred = lr_clf.predict(X_test_cnt_vect)\n",
        "print('CountVectorized Logistic Regression의 예측 정확도는 {0:.3f}'.format(accuracy_score(y_test, pred)))"
      ]
    },
    {
      "cell_type": "code",
      "execution_count": null,
      "metadata": {
        "colab": {
          "base_uri": "https://localhost:8080/"
        },
        "id": "hSVjW4RLBsMZ",
        "outputId": "4987da33-7518-4d7d-e35c-37ddebf230f6"
      },
      "outputs": [
        {
          "output_type": "stream",
          "name": "stdout",
          "text": [
            "TF-IDF Logistic Regression의 예측 정확도는 0.678\n"
          ]
        }
      ],
      "source": [
        "from sklearn.feature_extraction.text import TfidfVectorizer\n",
        "\n",
        "# TF-IDF 벡터화를 적용해 학습 데이터 세트와 테스트 데이터 세트 변환.\n",
        "tfidf_vect = TfidfVectorizer()\n",
        "tfidf_vect.fit(X_train)\n",
        "X_train_tfidf_vect = tfidf_vect.transform(X_train)\n",
        "X_test_tfidf_vect = tfidf_vect.transform(X_test)\n",
        "\n",
        "# LogisticRegression을 이용해 학습/예측/평가 수행.\n",
        "lr_clf = LogisticRegression(solver='liblinear')\n",
        "lr_clf.fit(X_train_tfidf_vect, y_train)\n",
        "pred = lr_clf.predict(X_test_tfidf_vect)\n",
        "print('TF-IDF Logistic Regression의 예측 정확도는 {0:.3f}'.format(accuracy_score(y_test, pred)))"
      ]
    },
    {
      "cell_type": "markdown",
      "metadata": {
        "id": "rkhPFYvWBuIf"
      },
      "source": [
        "- TF-IDF 단순 카운트 기반보다 훨씬 높은 예측 정확도 제공 (일반적)\n",
        "\n",
        "  => *텍스트 분석에서 머신러닝 모델 성능 향상시키는 중요한 2가지 방법*\n",
        "1. 최적의 ML 알고리즘 선택\n",
        "2. 최상의 피처 전처리 수행"
      ]
    },
    {
      "cell_type": "code",
      "execution_count": null,
      "metadata": {
        "colab": {
          "base_uri": "https://localhost:8080/"
        },
        "id": "NWfo0AYeCiAd",
        "outputId": "f21e2ff7-279f-4783-98bc-7737bd6db546"
      },
      "outputs": [
        {
          "output_type": "stream",
          "name": "stdout",
          "text": [
            "TF-IDF Vectorized Logistic Regression 의 예측 정확도는 0.690\n"
          ]
        }
      ],
      "source": [
        "# stop words 필터링을 추가하고 ngram을 기본 (1, 1)에서 (1, 2)로 변경해 피처 벡터화 적용.\n",
        "tfidf_vect = TfidfVectorizer(stop_words='english', ngram_range=(1, 2), max_df=300)\n",
        "tfidf_vect.fit(X_train)\n",
        "X_train_tfidf_vect = tfidf_vect.transform(X_train)\n",
        "X_test_tfidf_vect = tfidf_vect.transform(X_test)\n",
        "\n",
        "lr_clf = LogisticRegression(solver='liblinear')\n",
        "lr_clf.fit(X_train_tfidf_vect, y_train)\n",
        "pred = lr_clf.predict(X_test_tfidf_vect)\n",
        "print('TF-IDF Vectorized Logistic Regression 의 예측 정확도는 {0:.3f}'.format(accuracy_score(y_test, pred)))"
      ]
    },
    {
      "cell_type": "code",
      "execution_count": null,
      "metadata": {
        "colab": {
          "base_uri": "https://localhost:8080/"
        },
        "id": "JymsPW9fCzgn",
        "outputId": "023bb05d-4a76-42da-ed8a-ef020cb4367d"
      },
      "outputs": [
        {
          "output_type": "stream",
          "name": "stdout",
          "text": [
            "Fitting 3 folds for each of 5 candidates, totalling 15 fits\n",
            "Logistic Regression best C parameter : {'C': 10}\n",
            "TF-IDF Vectorized Logistic Regression 의 예측 정확도는 0.704\n"
          ]
        }
      ],
      "source": [
        "from sklearn.model_selection import GridSearchCV\n",
        "\n",
        "# 최적 C 값 도출 튜닝 수행. CV는 3 폴드 세트로 설정.\n",
        "params = {'C': [0.01, 0.1, 1, 5, 10]}\n",
        "grid_cv_lr = GridSearchCV(lr_clf, param_grid=params, cv=3, scoring='accuracy', verbose=1)\n",
        "grid_cv_lr.fit(X_train_tfidf_vect, y_train)\n",
        "print('Logistic Regression best C parameter :', grid_cv_lr.best_params_)\n",
        "\n",
        "# 최적 C 값으로 학습된 grid_cv로 예측 및 정확도 평가.\n",
        "pred = grid_cv_lr.predict(X_test_tfidf_vect)\n",
        "print('TF-IDF Vectorized Logistic Regression 의 예측 정확도는 {0:.3f}'.format(\n",
        "      accuracy_score(y_test, pred)))"
      ]
    },
    {
      "cell_type": "markdown",
      "metadata": {
        "id": "Y8jIoOHmC25b"
      },
      "source": [
        "\n",
        "\n",
        "> 사이킷런의 파이프라인(Pipeline) 사용 및 GridSearchCV와의 결합\n",
        "- Pipeline => 데이터의 전처리와 머신러닝 학습 과정을 통일된 API 기반에서 처리\n",
        "- 더 직관적인 ML 모델 코드 생성 가능\n",
        "- 대용량 데이터의 피처 벡터화 결과를 별도 데이터로 저장하지 않고 스트림 기반에서 바로 머신러닝 알고리즘 데이터로 입력 => 수행 시간 절약\n",
        "\n"
      ]
    },
    {
      "cell_type": "markdown",
      "metadata": {
        "id": "9bdDYf8bEqBQ"
      },
      "source": [
        "\n",
        "\n",
        "```\n",
        "pipeline = Pipeline([('tfidf_vect', TfidVectorizer(stop_words='english')),\n",
        "                     ('lr_clf', LogisticRegression(random_state=156))])\n",
        "```\n",
        "\n"
      ]
    },
    {
      "cell_type": "code",
      "execution_count": null,
      "metadata": {
        "colab": {
          "base_uri": "https://localhost:8080/"
        },
        "id": "zCfXEGCLEiiS",
        "outputId": "4033e6f5-9d63-457a-d9e7-079e14e9e26e"
      },
      "outputs": [
        {
          "output_type": "stream",
          "name": "stdout",
          "text": [
            "Pipeline을 통한 Logistic Regression의 예측 정확도는 0.704\n"
          ]
        }
      ],
      "source": [
        "from sklearn.pipeline import Pipeline\n",
        "\n",
        "# TfidfVectorizer 객체를 tfidf_vect로, LogisticRegression 객체를 lr_clf로 생성하는 Pipeline 생성\n",
        "pipeline = Pipeline([\n",
        "    ('tfidf_vect', TfidfVectorizer(stop_words='english', ngram_range=(1, 2), max_df=300)),\n",
        "                     ('lr_clf', LogisticRegression(solver='liblinear', C=10))\n",
        "])\n",
        "\n",
        "# 별도의 ThidfVectorizer 객체의 fit(), transform()과 LogisticRegression의 fit(), predict()가\n",
        "# 필요 없음.\n",
        "# pipeline의 fit()과 predict()만으로 한꺼번에 피처 벡터화와 ML 학습/예측이 가능.\n",
        "pipeline.fit(X_train, y_train)\n",
        "pred = pipeline.predict(X_test)\n",
        "print('Pipeline을 통한 Logistic Regression의 예측 정확도는 {0:.3f}'.format(\n",
        "       accuracy_score(y_test, pred)))"
      ]
    },
    {
      "cell_type": "code",
      "execution_count": null,
      "metadata": {
        "colab": {
          "base_uri": "https://localhost:8080/"
        },
        "id": "yM2XVkwBGFoD",
        "outputId": "9493dec1-9a85-40cd-aa12-59cae95be246"
      },
      "outputs": [
        {
          "output_type": "stream",
          "name": "stdout",
          "text": [
            "Fitting 3 folds for each of 27 candidates, totalling 81 fits\n",
            "{'lr_clf__C': 10, 'tfidf_vect__max_df': 300, 'tfidf_vect__ngram_range': (1, 2)} 0.7533152393023013\n",
            "Pipeline을 통한 Logistic Regression의 예측 정확도는 0.701\n"
          ]
        }
      ],
      "source": [
        "from sklearn.pipeline import Pipeline\n",
        "\n",
        "pipeline = Pipeline([\n",
        "    ('tfidf_vect', TfidfVectorizer(stop_words='english')),\n",
        "    ('lr_clf', LogisticRegression())\n",
        "])\n",
        "\n",
        "# Pipeline에 기술된 각각의 객체 변수에 언더바(_) 2개를 연달이 붙여 GridSearchCV에 사용될\n",
        "# 파라미터/하이퍼 파라미터 이름과 값을 설정.\n",
        "params = {'tfidf_vect__ngram_range': [(1, 1), (1, 2), (1, 3)],\n",
        "          'tfidf_vect__max_df': [100, 300, 700],\n",
        "          'lr_clf__C': [1, 5, 10]\n",
        "}\n",
        "\n",
        "# GridSearchCV의 생성자에 Estimator가 아닌 Pipeline 객체 입력\n",
        "grid_cv_pipe = GridSearchCV(pipeline, param_grid=params, cv=3, scoring='accuracy', verbose=1)\n",
        "grid_cv_pipe.fit(X_train, y_train)\n",
        "print(grid_cv_pipe.best_params_, grid_cv_pipe.best_score_)\n",
        "\n",
        "pred = grid_cv_pipe.predict(X_test)\n",
        "print('Pipeline을 통한 Logistic Regression의 예측 정확도는 {0:.3f}'.format(\n",
        "       accuracy_score(y_test, pred)))"
      ]
    },
    {
      "cell_type": "markdown",
      "metadata": {
        "id": "JUUvqIAxGKf3"
      },
      "source": [
        "- Pipeline + GridSearchCV 적용 => 모두의 파라미터를 최적화하려면 너무 많은 튜닝 시간 소모"
      ]
    },
    {
      "cell_type": "markdown",
      "source": [
        "\n",
        "\n",
        "---\n",
        "\n"
      ],
      "metadata": {
        "id": "9BgYUHMdQntB"
      }
    },
    {
      "cell_type": "markdown",
      "metadata": {
        "id": "m_vdjyk0GamF"
      },
      "source": [
        "#### 05 감성 분석\n",
        "\n",
        "\n",
        "\n",
        "> *감성 분석 소개* (머신러닝 관점)\n",
        "- **지도학습 방식**: 학습 데이터와 타깃 레이블 값을 기반으로 감성 분석 학습을 수행한 뒤 이를 기반으로 다른 데이터의 감성 분석을 예측하는 방법으로 일반적인 텍스트 기반의 분류와 거의 동일\n",
        "- **비지도학습 방식**: 'Lexicon' 감성 어휘 사전 이용 => 감성 분석을 위한 용어와 문맥에 대한 다양한 정보를 가짐, 문서의 긍정/부정/감성 여부 판단\n",
        "\n"
      ]
    },
    {
      "cell_type": "markdown",
      "metadata": {
        "id": "zO70Y-dCG9gb"
      },
      "source": [
        "\n",
        "\n",
        "> 지도학습 기반 감성 분석 실습 - IMDB 영화평\n",
        "\n"
      ]
    },
    {
      "cell_type": "code",
      "source": [
        "import pandas as pd\n",
        "\n",
        "review_df = pd.read_csv('labeledTrainData.tsv', header=0, sep=\"\\t\", quoting=3)\n",
        "review_df.head(3)"
      ],
      "metadata": {
        "colab": {
          "base_uri": "https://localhost:8080/",
          "height": 143
        },
        "id": "NC7K-zJmeqQO",
        "outputId": "250590e5-e7b2-4704-b400-0910704945fb"
      },
      "execution_count": null,
      "outputs": [
        {
          "output_type": "execute_result",
          "data": {
            "text/plain": [
              "         id  sentiment                                             review\n",
              "0  \"5814_8\"          1  \"With all this stuff going down at the moment ...\n",
              "1  \"2381_9\"          1  \"\\\"The Classic War of the Worlds\\\" by Timothy ...\n",
              "2  \"7759_3\"          0  \"The film starts with a manager (Nicholas Bell..."
            ],
            "text/html": [
              "\n",
              "  <div id=\"df-5673dc7d-e686-4dd6-b398-f73da517a888\" class=\"colab-df-container\">\n",
              "    <div>\n",
              "<style scoped>\n",
              "    .dataframe tbody tr th:only-of-type {\n",
              "        vertical-align: middle;\n",
              "    }\n",
              "\n",
              "    .dataframe tbody tr th {\n",
              "        vertical-align: top;\n",
              "    }\n",
              "\n",
              "    .dataframe thead th {\n",
              "        text-align: right;\n",
              "    }\n",
              "</style>\n",
              "<table border=\"1\" class=\"dataframe\">\n",
              "  <thead>\n",
              "    <tr style=\"text-align: right;\">\n",
              "      <th></th>\n",
              "      <th>id</th>\n",
              "      <th>sentiment</th>\n",
              "      <th>review</th>\n",
              "    </tr>\n",
              "  </thead>\n",
              "  <tbody>\n",
              "    <tr>\n",
              "      <th>0</th>\n",
              "      <td>\"5814_8\"</td>\n",
              "      <td>1</td>\n",
              "      <td>\"With all this stuff going down at the moment ...</td>\n",
              "    </tr>\n",
              "    <tr>\n",
              "      <th>1</th>\n",
              "      <td>\"2381_9\"</td>\n",
              "      <td>1</td>\n",
              "      <td>\"\\\"The Classic War of the Worlds\\\" by Timothy ...</td>\n",
              "    </tr>\n",
              "    <tr>\n",
              "      <th>2</th>\n",
              "      <td>\"7759_3\"</td>\n",
              "      <td>0</td>\n",
              "      <td>\"The film starts with a manager (Nicholas Bell...</td>\n",
              "    </tr>\n",
              "  </tbody>\n",
              "</table>\n",
              "</div>\n",
              "    <div class=\"colab-df-buttons\">\n",
              "\n",
              "  <div class=\"colab-df-container\">\n",
              "    <button class=\"colab-df-convert\" onclick=\"convertToInteractive('df-5673dc7d-e686-4dd6-b398-f73da517a888')\"\n",
              "            title=\"Convert this dataframe to an interactive table.\"\n",
              "            style=\"display:none;\">\n",
              "\n",
              "  <svg xmlns=\"http://www.w3.org/2000/svg\" height=\"24px\" viewBox=\"0 -960 960 960\">\n",
              "    <path d=\"M120-120v-720h720v720H120Zm60-500h600v-160H180v160Zm220 220h160v-160H400v160Zm0 220h160v-160H400v160ZM180-400h160v-160H180v160Zm440 0h160v-160H620v160ZM180-180h160v-160H180v160Zm440 0h160v-160H620v160Z\"/>\n",
              "  </svg>\n",
              "    </button>\n",
              "\n",
              "  <style>\n",
              "    .colab-df-container {\n",
              "      display:flex;\n",
              "      gap: 12px;\n",
              "    }\n",
              "\n",
              "    .colab-df-convert {\n",
              "      background-color: #E8F0FE;\n",
              "      border: none;\n",
              "      border-radius: 50%;\n",
              "      cursor: pointer;\n",
              "      display: none;\n",
              "      fill: #1967D2;\n",
              "      height: 32px;\n",
              "      padding: 0 0 0 0;\n",
              "      width: 32px;\n",
              "    }\n",
              "\n",
              "    .colab-df-convert:hover {\n",
              "      background-color: #E2EBFA;\n",
              "      box-shadow: 0px 1px 2px rgba(60, 64, 67, 0.3), 0px 1px 3px 1px rgba(60, 64, 67, 0.15);\n",
              "      fill: #174EA6;\n",
              "    }\n",
              "\n",
              "    .colab-df-buttons div {\n",
              "      margin-bottom: 4px;\n",
              "    }\n",
              "\n",
              "    [theme=dark] .colab-df-convert {\n",
              "      background-color: #3B4455;\n",
              "      fill: #D2E3FC;\n",
              "    }\n",
              "\n",
              "    [theme=dark] .colab-df-convert:hover {\n",
              "      background-color: #434B5C;\n",
              "      box-shadow: 0px 1px 3px 1px rgba(0, 0, 0, 0.15);\n",
              "      filter: drop-shadow(0px 1px 2px rgba(0, 0, 0, 0.3));\n",
              "      fill: #FFFFFF;\n",
              "    }\n",
              "  </style>\n",
              "\n",
              "    <script>\n",
              "      const buttonEl =\n",
              "        document.querySelector('#df-5673dc7d-e686-4dd6-b398-f73da517a888 button.colab-df-convert');\n",
              "      buttonEl.style.display =\n",
              "        google.colab.kernel.accessAllowed ? 'block' : 'none';\n",
              "\n",
              "      async function convertToInteractive(key) {\n",
              "        const element = document.querySelector('#df-5673dc7d-e686-4dd6-b398-f73da517a888');\n",
              "        const dataTable =\n",
              "          await google.colab.kernel.invokeFunction('convertToInteractive',\n",
              "                                                    [key], {});\n",
              "        if (!dataTable) return;\n",
              "\n",
              "        const docLinkHtml = 'Like what you see? Visit the ' +\n",
              "          '<a target=\"_blank\" href=https://colab.research.google.com/notebooks/data_table.ipynb>data table notebook</a>'\n",
              "          + ' to learn more about interactive tables.';\n",
              "        element.innerHTML = '';\n",
              "        dataTable['output_type'] = 'display_data';\n",
              "        await google.colab.output.renderOutput(dataTable, element);\n",
              "        const docLink = document.createElement('div');\n",
              "        docLink.innerHTML = docLinkHtml;\n",
              "        element.appendChild(docLink);\n",
              "      }\n",
              "    </script>\n",
              "  </div>\n",
              "\n",
              "\n",
              "<div id=\"df-31be19e5-b9e8-40dd-a13c-38e1b8bf5ef1\">\n",
              "  <button class=\"colab-df-quickchart\" onclick=\"quickchart('df-31be19e5-b9e8-40dd-a13c-38e1b8bf5ef1')\"\n",
              "            title=\"Suggest charts\"\n",
              "            style=\"display:none;\">\n",
              "\n",
              "<svg xmlns=\"http://www.w3.org/2000/svg\" height=\"24px\"viewBox=\"0 0 24 24\"\n",
              "     width=\"24px\">\n",
              "    <g>\n",
              "        <path d=\"M19 3H5c-1.1 0-2 .9-2 2v14c0 1.1.9 2 2 2h14c1.1 0 2-.9 2-2V5c0-1.1-.9-2-2-2zM9 17H7v-7h2v7zm4 0h-2V7h2v10zm4 0h-2v-4h2v4z\"/>\n",
              "    </g>\n",
              "</svg>\n",
              "  </button>\n",
              "\n",
              "<style>\n",
              "  .colab-df-quickchart {\n",
              "      --bg-color: #E8F0FE;\n",
              "      --fill-color: #1967D2;\n",
              "      --hover-bg-color: #E2EBFA;\n",
              "      --hover-fill-color: #174EA6;\n",
              "      --disabled-fill-color: #AAA;\n",
              "      --disabled-bg-color: #DDD;\n",
              "  }\n",
              "\n",
              "  [theme=dark] .colab-df-quickchart {\n",
              "      --bg-color: #3B4455;\n",
              "      --fill-color: #D2E3FC;\n",
              "      --hover-bg-color: #434B5C;\n",
              "      --hover-fill-color: #FFFFFF;\n",
              "      --disabled-bg-color: #3B4455;\n",
              "      --disabled-fill-color: #666;\n",
              "  }\n",
              "\n",
              "  .colab-df-quickchart {\n",
              "    background-color: var(--bg-color);\n",
              "    border: none;\n",
              "    border-radius: 50%;\n",
              "    cursor: pointer;\n",
              "    display: none;\n",
              "    fill: var(--fill-color);\n",
              "    height: 32px;\n",
              "    padding: 0;\n",
              "    width: 32px;\n",
              "  }\n",
              "\n",
              "  .colab-df-quickchart:hover {\n",
              "    background-color: var(--hover-bg-color);\n",
              "    box-shadow: 0 1px 2px rgba(60, 64, 67, 0.3), 0 1px 3px 1px rgba(60, 64, 67, 0.15);\n",
              "    fill: var(--button-hover-fill-color);\n",
              "  }\n",
              "\n",
              "  .colab-df-quickchart-complete:disabled,\n",
              "  .colab-df-quickchart-complete:disabled:hover {\n",
              "    background-color: var(--disabled-bg-color);\n",
              "    fill: var(--disabled-fill-color);\n",
              "    box-shadow: none;\n",
              "  }\n",
              "\n",
              "  .colab-df-spinner {\n",
              "    border: 2px solid var(--fill-color);\n",
              "    border-color: transparent;\n",
              "    border-bottom-color: var(--fill-color);\n",
              "    animation:\n",
              "      spin 1s steps(1) infinite;\n",
              "  }\n",
              "\n",
              "  @keyframes spin {\n",
              "    0% {\n",
              "      border-color: transparent;\n",
              "      border-bottom-color: var(--fill-color);\n",
              "      border-left-color: var(--fill-color);\n",
              "    }\n",
              "    20% {\n",
              "      border-color: transparent;\n",
              "      border-left-color: var(--fill-color);\n",
              "      border-top-color: var(--fill-color);\n",
              "    }\n",
              "    30% {\n",
              "      border-color: transparent;\n",
              "      border-left-color: var(--fill-color);\n",
              "      border-top-color: var(--fill-color);\n",
              "      border-right-color: var(--fill-color);\n",
              "    }\n",
              "    40% {\n",
              "      border-color: transparent;\n",
              "      border-right-color: var(--fill-color);\n",
              "      border-top-color: var(--fill-color);\n",
              "    }\n",
              "    60% {\n",
              "      border-color: transparent;\n",
              "      border-right-color: var(--fill-color);\n",
              "    }\n",
              "    80% {\n",
              "      border-color: transparent;\n",
              "      border-right-color: var(--fill-color);\n",
              "      border-bottom-color: var(--fill-color);\n",
              "    }\n",
              "    90% {\n",
              "      border-color: transparent;\n",
              "      border-bottom-color: var(--fill-color);\n",
              "    }\n",
              "  }\n",
              "</style>\n",
              "\n",
              "  <script>\n",
              "    async function quickchart(key) {\n",
              "      const quickchartButtonEl =\n",
              "        document.querySelector('#' + key + ' button');\n",
              "      quickchartButtonEl.disabled = true;  // To prevent multiple clicks.\n",
              "      quickchartButtonEl.classList.add('colab-df-spinner');\n",
              "      try {\n",
              "        const charts = await google.colab.kernel.invokeFunction(\n",
              "            'suggestCharts', [key], {});\n",
              "      } catch (error) {\n",
              "        console.error('Error during call to suggestCharts:', error);\n",
              "      }\n",
              "      quickchartButtonEl.classList.remove('colab-df-spinner');\n",
              "      quickchartButtonEl.classList.add('colab-df-quickchart-complete');\n",
              "    }\n",
              "    (() => {\n",
              "      let quickchartButtonEl =\n",
              "        document.querySelector('#df-31be19e5-b9e8-40dd-a13c-38e1b8bf5ef1 button');\n",
              "      quickchartButtonEl.style.display =\n",
              "        google.colab.kernel.accessAllowed ? 'block' : 'none';\n",
              "    })();\n",
              "  </script>\n",
              "</div>\n",
              "\n",
              "    </div>\n",
              "  </div>\n"
            ],
            "application/vnd.google.colaboratory.intrinsic+json": {
              "type": "dataframe",
              "variable_name": "review_df",
              "summary": "{\n  \"name\": \"review_df\",\n  \"rows\": 25000,\n  \"fields\": [\n    {\n      \"column\": \"id\",\n      \"properties\": {\n        \"dtype\": \"string\",\n        \"num_unique_values\": 25000,\n        \"samples\": [\n          \"\\\"2570_3\\\"\",\n          \"\\\"4897_8\\\"\",\n          \"\\\"8485_3\\\"\"\n        ],\n        \"semantic_type\": \"\",\n        \"description\": \"\"\n      }\n    },\n    {\n      \"column\": \"sentiment\",\n      \"properties\": {\n        \"dtype\": \"number\",\n        \"std\": 0,\n        \"min\": 0,\n        \"max\": 1,\n        \"num_unique_values\": 2,\n        \"samples\": [\n          0,\n          1\n        ],\n        \"semantic_type\": \"\",\n        \"description\": \"\"\n      }\n    },\n    {\n      \"column\": \"review\",\n      \"properties\": {\n        \"dtype\": \"string\",\n        \"num_unique_values\": 24904,\n        \"samples\": [\n          \"\\\"This is not my favorite WIP (\\\\\\\"Women in Prison\\\\\\\"), but it is one of the most famous films in the sub-genre. It is was produced by Roger Corman, who at this point had already produced a few WIPs. It is obvious that the film tries to play with the established formula. The movie takes place in an USA prison, not in a \\\\\\\"banana republic\\\\\\\" like most WIP films. I'm not sure if that was a wise move, but it is an acceptable change of pace. Writer-director Demme really gets into his job, always digging for new ways to present a familiar scenario. In fact, he is a little too ambitious for his own good. The filmmaker creates a few surreal dream sequences that are borderline pretentious but it is fun to see how hard he tries to put this film above your average chicks-in-chains flick. But do not worry, Demme still operates within the parameters of the sub-genre. There is plenty of nudity and violence, something that will satisfy hardcore fans. The film is a little slow, but it is very entertaining. The cast is good. Roberta Collins is a WIP veteran, so she does not need an introduction, and Barbara Steel is a hoot as the wheelchair-bound crazy warden. Pam Grier is sorely missed, though.\\\"\",\n          \"\\\"In 1972, after his wife left to go her own way, Elvis Presley began dating Linda Thompson. Miss Thompson, a good-humored, long haired, lovely, statuesque beauty queen, is charted to fill a void in Elvis' life. When Elvis' divorce became final, Linda was already in place as the legendary performer's live-in girlfriend and travel companion until 1976.<br /><br />This is a gaudy look at their love affair and companionship. Linda whole-heartedly tending to her lover's needs and desires. And even putting up with his swallowing medications by the handful and introducing her to her own love affair with valium. At times this movie is harsh and dark of heart; a very unattractive look at the 'King' and his queen.<br /><br />Don Johnson is absolutely awful as Elvis. Over acting to the hilt is not attractive. Stephanie Zimbalist lacks the classiness of Linda, but does the job pretty well. Supporting cast includes: John Crawford, Ruta Lee, and Rick Lenz. Watching this twice is more than enough for me, but don't let this review stop you from checking it out. For most Elvis fans that I have conferred with, this is not a favored presentation.\\\"\"\n        ],\n        \"semantic_type\": \"\",\n        \"description\": \"\"\n      }\n    }\n  ]\n}"
            }
          },
          "metadata": {},
          "execution_count": 2
        }
      ]
    },
    {
      "cell_type": "markdown",
      "source": [
        "- id: 각 데이터의 id\n",
        "- sentiment: 영화평(review)의 Sentiment 결과 값(Target Label). 1 = 긍정적 평가, 0 = 부정적 평가\n",
        "- review: 영화평의 텍스트"
      ],
      "metadata": {
        "id": "LUYu0D_NfMrz"
      }
    },
    {
      "cell_type": "code",
      "source": [
        "print(review_df['review'][0])"
      ],
      "metadata": {
        "colab": {
          "base_uri": "https://localhost:8080/"
        },
        "id": "OkZxUdIDf2F6",
        "outputId": "95c1f8ba-a602-4697-9b4e-e810805e0d88"
      },
      "execution_count": null,
      "outputs": [
        {
          "output_type": "stream",
          "name": "stdout",
          "text": [
            "\"With all this stuff going down at the moment with MJ i've started listening to his music, watching the odd documentary here and there, watched The Wiz and watched Moonwalker again. Maybe i just want to get a certain insight into this guy who i thought was really cool in the eighties just to maybe make up my mind whether he is guilty or innocent. Moonwalker is part biography, part feature film which i remember going to see at the cinema when it was originally released. Some of it has subtle messages about MJ's feeling towards the press and also the obvious message of drugs are bad m'kay.<br /><br />Visually impressive but of course this is all about Michael Jackson so unless you remotely like MJ in anyway then you are going to hate this and find it boring. Some may call MJ an egotist for consenting to the making of this movie BUT MJ and most of his fans would say that he made it for the fans which if true is really nice of him.<br /><br />The actual feature film bit when it finally starts is only on for 20 minutes or so excluding the Smooth Criminal sequence and Joe Pesci is convincing as a psychopathic all powerful drug lord. Why he wants MJ dead so bad is beyond me. Because MJ overheard his plans? Nah, Joe Pesci's character ranted that he wanted people to know it is he who is supplying drugs etc so i dunno, maybe he just hates MJ's music.<br /><br />Lots of cool things in this like MJ turning into a car and a robot and the whole Speed Demon sequence. Also, the director must have had the patience of a saint when it came to filming the kiddy Bad sequence as usually directors hate working with one kid let alone a whole bunch of them performing a complex dance scene.<br /><br />Bottom line, this movie is for people who like MJ on one level or another (which i think is most people). If not, then stay away. It does try and give off a wholesome message and ironically MJ's bestest buddy in this movie is a girl! Michael Jackson is truly one of the most talented people ever to grace this planet but is he guilty? Well, with all the attention i've gave this subject....hmmm well i don't know because people can be different behind closed doors, i know this for a fact. He is either an extremely nice but stupid guy or one of the most sickest liars. I hope he is not the latter.\"\n"
          ]
        }
      ]
    },
    {
      "cell_type": "markdown",
      "source": [
        "- 영어가 아닌 숫자/특수문자는 Sentiment를 위한 피처로 별 의미가 없음 => 공란 처리\n",
        "- 정규 표현식 [^a-zA-Z]: 영어 대/소문자가 아닌 모든 문자를 찾는 것\n",
        "- re.sub(\"[^a-zA-Z]\", \" \", x): 영어 대/소문자가 아닌 모든 문자를 찾아 공란으로 변경"
      ],
      "metadata": {
        "id": "eYxqWojwf9tD"
      }
    },
    {
      "cell_type": "code",
      "source": [
        "import re\n",
        "\n",
        "# <br> html 태그는 replace 함수로 공백으로 변환\n",
        "review_df['review'] = review_df['review'].str.replace(\"<br />\", \" \")\n",
        "\n",
        "# 파이썬의 정규 표현식 모듈인 re를 이용해 영어 문자열이 아닌 문자는 모두 공백으로 변환\n",
        "review_df['review'] = review_df['review'].apply(lambda x: re.sub(\"[^a-zA-Z]\", \" \", x))"
      ],
      "metadata": {
        "id": "AwT4RQ2MgfVw"
      },
      "execution_count": null,
      "outputs": []
    },
    {
      "cell_type": "code",
      "source": [
        "from sklearn.model_selection import train_test_split\n",
        "\n",
        "class_df = review_df['sentiment']\n",
        "feature_df = review_df.drop(['id', 'sentiment'], axis=1, inplace=False)\n",
        "\n",
        "X_train, X_test, y_train, y_test = train_test_split(feature_df, class_df, test_size=0.3,\n",
        "                                                    random_state=156)\n",
        "X_train.shape, X_test.shape"
      ],
      "metadata": {
        "colab": {
          "base_uri": "https://localhost:8080/"
        },
        "id": "pSexYvLGg5p5",
        "outputId": "3dda9655-4f94-4a32-ac7d-ef97ad9140de"
      },
      "execution_count": null,
      "outputs": [
        {
          "output_type": "execute_result",
          "data": {
            "text/plain": [
              "((17500, 1), (7500, 1))"
            ]
          },
          "metadata": {},
          "execution_count": 5
        }
      ]
    },
    {
      "cell_type": "markdown",
      "source": [
        "감상평(Review) 텍스트를 피처 벡터화한 후 ML 분류 알고리즘을 적용해 예측 성능을 측정"
      ],
      "metadata": {
        "id": "gwoqomNihMtW"
      }
    },
    {
      "cell_type": "code",
      "source": [
        "from sklearn.feature_extraction.text import CountVectorizer, TfidfVectorizer\n",
        "from sklearn.pipeline import Pipeline\n",
        "from sklearn.linear_model import LogisticRegression\n",
        "from sklearn.metrics import accuracy_score, roc_auc_score\n",
        "\n",
        "# 스톱 워드는 English, ngram은 (1, 2)로 설정해 CountVectorization 수행.\n",
        "# LogisticRegression의 C는 10으로 설정,\n",
        "pipeline = Pipeline([\n",
        "    ('cnt_vect', CountVectorizer(stop_words='english', ngram_range=(1, 2) )),\n",
        "    ('lr_clf', LogisticRegression(solver='liblinear', C=10))])\n",
        "\n",
        "# Pipeline 객체를 이용해 fit(), predict()로 학습/예측 수행. predict_proba()는 roc_auc 때문에 수행.\n",
        "pipeline.fit(X_train['review'], y_train)\n",
        "pred = pipeline.predict(X_test['review'])\n",
        "pred_probs = pipeline.predict_proba(X_test['review'])[:, 1]\n",
        "\n",
        "print('예측 정확도는 {0:.4f}, ROC-AUC는 {1:.4f}'.format(accuracy_score(y_test, pred),\n",
        "                                                        roc_auc_score(y_test, pred_probs)))"
      ],
      "metadata": {
        "colab": {
          "base_uri": "https://localhost:8080/"
        },
        "id": "IwG5BwAP_mD4",
        "outputId": "ee03a9fe-6300-4fbd-faba-c33476fb64c8"
      },
      "execution_count": null,
      "outputs": [
        {
          "output_type": "stream",
          "name": "stdout",
          "text": [
            "예측 정확도는 0.8861, ROC-AUC는 0.9503\n"
          ]
        }
      ]
    },
    {
      "cell_type": "code",
      "source": [
        "# 스톱워드는 english, filterin, ngram은 (1, 2)로 설정해 TF-IDF 벡터화 수행.\n",
        "# LogisticRegression의 C는 10으로 설정.\n",
        "pipeline = Pipeline([\n",
        "    ('tfidf_vect', TfidfVectorizer(stop_words='english', ngram_range=(1, 2) )),\n",
        "    ('lr_clf', LogisticRegression(solver='liblinear', C=10))])\n",
        "\n",
        "pipeline.fit(X_train['review'], y_train)\n",
        "pred = pipeline.predict(X_test['review'])\n",
        "pred_probs = pipeline.predict_proba(X_test['review'])[:, 1]\n",
        "\n",
        "print('예측 정확도는 {0:.4f}, ROC-AUC는 {1:.4f}'.format(accuracy_score(y_test, pred),\n",
        "                                                        roc_auc_score(y_test, pred_probs)))"
      ],
      "metadata": {
        "colab": {
          "base_uri": "https://localhost:8080/"
        },
        "id": "9mdxhlLt_n-h",
        "outputId": "2c8dffc2-f00c-47bd-fcf9-a5e0f6a2d82d"
      },
      "execution_count": null,
      "outputs": [
        {
          "output_type": "stream",
          "name": "stdout",
          "text": [
            "예측 정확도는 0.8936, ROC-AUC는 0.9598\n"
          ]
        }
      ]
    },
    {
      "cell_type": "markdown",
      "source": [
        "\n",
        "\n",
        "> 비지도학습 기반 감성 분석 소개\n",
        "- Lexicon 기반: 감성 어휘 사전\n",
        "- *감성 지수*(Polarity score): 긍정(Positive) 감성 또는 부정(Negative) 감성의 정도를 의미하는 수치\n",
        "- 단어의 위치, 주변 단어, 문맥, POS(Part of Speech) 등을 참고해 결정\n",
        "- NLTK 패키지 - WordNet: 시맨틱(semantic) 분석 제공 어휘 사전\n",
        "\n",
        "- SentiWordNet: NLTK 패키지의 WordNet과 유사하게 감성 단어 전용의 WordNet 구현한 것. WordNet의 Synset별로 3가지 감성 점수를 할당(긍정/부정/객관성 지수)\n",
        "- VADER: 소셜 미디어의 텍스트에 대한 감성 분석 제공하기 위한 패키지\n",
        "- Pattern: 예측 성능 측면에서 가장 주목. 파이썬 2.X 버전에서만 작동\n",
        "\n"
      ],
      "metadata": {
        "id": "6hk0HiC7ALBY"
      }
    },
    {
      "cell_type": "markdown",
      "source": [
        "\n",
        "\n",
        "> SentiWordNet을 이용한 감성 분석\n",
        "\n",
        "**WordNet Synset과 SentiWordNet SentiSynset 클래스의 이해**\n",
        "\n"
      ],
      "metadata": {
        "id": "Pio9SXV8B-OY"
      }
    },
    {
      "cell_type": "code",
      "source": [
        "import nltk\n",
        "nltk.download('all')"
      ],
      "metadata": {
        "colab": {
          "base_uri": "https://localhost:8080/"
        },
        "id": "USfG8yerCLEu",
        "outputId": "ff65706e-1dfd-48a4-942f-76450be94664"
      },
      "execution_count": null,
      "outputs": [
        {
          "output_type": "stream",
          "name": "stderr",
          "text": [
            "[nltk_data] Downloading collection 'all'\n",
            "[nltk_data]    | \n",
            "[nltk_data]    | Downloading package abc to /root/nltk_data...\n",
            "[nltk_data]    |   Package abc is already up-to-date!\n",
            "[nltk_data]    | Downloading package alpino to /root/nltk_data...\n",
            "[nltk_data]    |   Package alpino is already up-to-date!\n",
            "[nltk_data]    | Downloading package averaged_perceptron_tagger to\n",
            "[nltk_data]    |     /root/nltk_data...\n",
            "[nltk_data]    |   Package averaged_perceptron_tagger is already up-\n",
            "[nltk_data]    |       to-date!\n",
            "[nltk_data]    | Downloading package averaged_perceptron_tagger_eng to\n",
            "[nltk_data]    |     /root/nltk_data...\n",
            "[nltk_data]    |   Package averaged_perceptron_tagger_eng is already\n",
            "[nltk_data]    |       up-to-date!\n",
            "[nltk_data]    | Downloading package averaged_perceptron_tagger_ru to\n",
            "[nltk_data]    |     /root/nltk_data...\n",
            "[nltk_data]    |   Package averaged_perceptron_tagger_ru is already\n",
            "[nltk_data]    |       up-to-date!\n",
            "[nltk_data]    | Downloading package averaged_perceptron_tagger_rus to\n",
            "[nltk_data]    |     /root/nltk_data...\n",
            "[nltk_data]    |   Package averaged_perceptron_tagger_rus is already\n",
            "[nltk_data]    |       up-to-date!\n",
            "[nltk_data]    | Downloading package basque_grammars to\n",
            "[nltk_data]    |     /root/nltk_data...\n",
            "[nltk_data]    |   Package basque_grammars is already up-to-date!\n",
            "[nltk_data]    | Downloading package bcp47 to /root/nltk_data...\n",
            "[nltk_data]    |   Package bcp47 is already up-to-date!\n",
            "[nltk_data]    | Downloading package biocreative_ppi to\n",
            "[nltk_data]    |     /root/nltk_data...\n",
            "[nltk_data]    |   Package biocreative_ppi is already up-to-date!\n",
            "[nltk_data]    | Downloading package bllip_wsj_no_aux to\n",
            "[nltk_data]    |     /root/nltk_data...\n",
            "[nltk_data]    |   Package bllip_wsj_no_aux is already up-to-date!\n",
            "[nltk_data]    | Downloading package book_grammars to\n",
            "[nltk_data]    |     /root/nltk_data...\n",
            "[nltk_data]    |   Package book_grammars is already up-to-date!\n",
            "[nltk_data]    | Downloading package brown to /root/nltk_data...\n",
            "[nltk_data]    |   Package brown is already up-to-date!\n",
            "[nltk_data]    | Downloading package brown_tei to /root/nltk_data...\n",
            "[nltk_data]    |   Package brown_tei is already up-to-date!\n",
            "[nltk_data]    | Downloading package cess_cat to /root/nltk_data...\n",
            "[nltk_data]    |   Package cess_cat is already up-to-date!\n",
            "[nltk_data]    | Downloading package cess_esp to /root/nltk_data...\n",
            "[nltk_data]    |   Package cess_esp is already up-to-date!\n",
            "[nltk_data]    | Downloading package chat80 to /root/nltk_data...\n",
            "[nltk_data]    |   Package chat80 is already up-to-date!\n",
            "[nltk_data]    | Downloading package city_database to\n",
            "[nltk_data]    |     /root/nltk_data...\n",
            "[nltk_data]    |   Package city_database is already up-to-date!\n",
            "[nltk_data]    | Downloading package cmudict to /root/nltk_data...\n",
            "[nltk_data]    |   Package cmudict is already up-to-date!\n",
            "[nltk_data]    | Downloading package comparative_sentences to\n",
            "[nltk_data]    |     /root/nltk_data...\n",
            "[nltk_data]    |   Package comparative_sentences is already up-to-\n",
            "[nltk_data]    |       date!\n",
            "[nltk_data]    | Downloading package comtrans to /root/nltk_data...\n",
            "[nltk_data]    |   Package comtrans is already up-to-date!\n",
            "[nltk_data]    | Downloading package conll2000 to /root/nltk_data...\n",
            "[nltk_data]    |   Package conll2000 is already up-to-date!\n",
            "[nltk_data]    | Downloading package conll2002 to /root/nltk_data...\n",
            "[nltk_data]    |   Package conll2002 is already up-to-date!\n",
            "[nltk_data]    | Downloading package conll2007 to /root/nltk_data...\n",
            "[nltk_data]    |   Package conll2007 is already up-to-date!\n",
            "[nltk_data]    | Downloading package crubadan to /root/nltk_data...\n",
            "[nltk_data]    |   Package crubadan is already up-to-date!\n",
            "[nltk_data]    | Downloading package dependency_treebank to\n",
            "[nltk_data]    |     /root/nltk_data...\n",
            "[nltk_data]    |   Package dependency_treebank is already up-to-date!\n",
            "[nltk_data]    | Downloading package dolch to /root/nltk_data...\n",
            "[nltk_data]    |   Package dolch is already up-to-date!\n",
            "[nltk_data]    | Downloading package english_wordnet to\n",
            "[nltk_data]    |     /root/nltk_data...\n",
            "[nltk_data]    |   Package english_wordnet is already up-to-date!\n",
            "[nltk_data]    | Downloading package europarl_raw to\n",
            "[nltk_data]    |     /root/nltk_data...\n",
            "[nltk_data]    |   Package europarl_raw is already up-to-date!\n",
            "[nltk_data]    | Downloading package extended_omw to\n",
            "[nltk_data]    |     /root/nltk_data...\n",
            "[nltk_data]    |   Package extended_omw is already up-to-date!\n",
            "[nltk_data]    | Downloading package floresta to /root/nltk_data...\n",
            "[nltk_data]    |   Package floresta is already up-to-date!\n",
            "[nltk_data]    | Downloading package framenet_v15 to\n",
            "[nltk_data]    |     /root/nltk_data...\n",
            "[nltk_data]    |   Package framenet_v15 is already up-to-date!\n",
            "[nltk_data]    | Downloading package framenet_v17 to\n",
            "[nltk_data]    |     /root/nltk_data...\n",
            "[nltk_data]    |   Package framenet_v17 is already up-to-date!\n",
            "[nltk_data]    | Downloading package gazetteers to /root/nltk_data...\n",
            "[nltk_data]    |   Package gazetteers is already up-to-date!\n",
            "[nltk_data]    | Downloading package genesis to /root/nltk_data...\n",
            "[nltk_data]    |   Package genesis is already up-to-date!\n",
            "[nltk_data]    | Downloading package gutenberg to /root/nltk_data...\n",
            "[nltk_data]    |   Package gutenberg is already up-to-date!\n",
            "[nltk_data]    | Downloading package ieer to /root/nltk_data...\n",
            "[nltk_data]    |   Package ieer is already up-to-date!\n",
            "[nltk_data]    | Downloading package inaugural to /root/nltk_data...\n",
            "[nltk_data]    |   Package inaugural is already up-to-date!\n",
            "[nltk_data]    | Downloading package indian to /root/nltk_data...\n",
            "[nltk_data]    |   Package indian is already up-to-date!\n",
            "[nltk_data]    | Downloading package jeita to /root/nltk_data...\n",
            "[nltk_data]    |   Package jeita is already up-to-date!\n",
            "[nltk_data]    | Downloading package kimmo to /root/nltk_data...\n",
            "[nltk_data]    |   Package kimmo is already up-to-date!\n",
            "[nltk_data]    | Downloading package knbc to /root/nltk_data...\n",
            "[nltk_data]    |   Package knbc is already up-to-date!\n",
            "[nltk_data]    | Downloading package large_grammars to\n",
            "[nltk_data]    |     /root/nltk_data...\n",
            "[nltk_data]    |   Package large_grammars is already up-to-date!\n",
            "[nltk_data]    | Downloading package lin_thesaurus to\n",
            "[nltk_data]    |     /root/nltk_data...\n",
            "[nltk_data]    |   Package lin_thesaurus is already up-to-date!\n",
            "[nltk_data]    | Downloading package mac_morpho to /root/nltk_data...\n",
            "[nltk_data]    |   Package mac_morpho is already up-to-date!\n",
            "[nltk_data]    | Downloading package machado to /root/nltk_data...\n",
            "[nltk_data]    |   Package machado is already up-to-date!\n",
            "[nltk_data]    | Downloading package masc_tagged to /root/nltk_data...\n",
            "[nltk_data]    |   Package masc_tagged is already up-to-date!\n",
            "[nltk_data]    | Downloading package maxent_ne_chunker to\n",
            "[nltk_data]    |     /root/nltk_data...\n",
            "[nltk_data]    |   Package maxent_ne_chunker is already up-to-date!\n",
            "[nltk_data]    | Downloading package maxent_ne_chunker_tab to\n",
            "[nltk_data]    |     /root/nltk_data...\n",
            "[nltk_data]    |   Package maxent_ne_chunker_tab is already up-to-\n",
            "[nltk_data]    |       date!\n",
            "[nltk_data]    | Downloading package maxent_treebank_pos_tagger to\n",
            "[nltk_data]    |     /root/nltk_data...\n",
            "[nltk_data]    |   Package maxent_treebank_pos_tagger is already up-\n",
            "[nltk_data]    |       to-date!\n",
            "[nltk_data]    | Downloading package maxent_treebank_pos_tagger_tab to\n",
            "[nltk_data]    |     /root/nltk_data...\n",
            "[nltk_data]    |   Package maxent_treebank_pos_tagger_tab is already\n",
            "[nltk_data]    |       up-to-date!\n",
            "[nltk_data]    | Downloading package moses_sample to\n",
            "[nltk_data]    |     /root/nltk_data...\n",
            "[nltk_data]    |   Package moses_sample is already up-to-date!\n",
            "[nltk_data]    | Downloading package movie_reviews to\n",
            "[nltk_data]    |     /root/nltk_data...\n",
            "[nltk_data]    |   Package movie_reviews is already up-to-date!\n",
            "[nltk_data]    | Downloading package mte_teip5 to /root/nltk_data...\n",
            "[nltk_data]    |   Package mte_teip5 is already up-to-date!\n",
            "[nltk_data]    | Downloading package mwa_ppdb to /root/nltk_data...\n",
            "[nltk_data]    |   Package mwa_ppdb is already up-to-date!\n",
            "[nltk_data]    | Downloading package names to /root/nltk_data...\n",
            "[nltk_data]    |   Package names is already up-to-date!\n",
            "[nltk_data]    | Downloading package nombank.1.0 to /root/nltk_data...\n",
            "[nltk_data]    |   Package nombank.1.0 is already up-to-date!\n",
            "[nltk_data]    | Downloading package nonbreaking_prefixes to\n",
            "[nltk_data]    |     /root/nltk_data...\n",
            "[nltk_data]    |   Package nonbreaking_prefixes is already up-to-date!\n",
            "[nltk_data]    | Downloading package nps_chat to /root/nltk_data...\n",
            "[nltk_data]    |   Package nps_chat is already up-to-date!\n",
            "[nltk_data]    | Downloading package omw to /root/nltk_data...\n",
            "[nltk_data]    |   Package omw is already up-to-date!\n",
            "[nltk_data]    | Downloading package omw-1.4 to /root/nltk_data...\n",
            "[nltk_data]    |   Package omw-1.4 is already up-to-date!\n",
            "[nltk_data]    | Downloading package opinion_lexicon to\n",
            "[nltk_data]    |     /root/nltk_data...\n",
            "[nltk_data]    |   Package opinion_lexicon is already up-to-date!\n",
            "[nltk_data]    | Downloading package panlex_swadesh to\n",
            "[nltk_data]    |     /root/nltk_data...\n",
            "[nltk_data]    |   Package panlex_swadesh is already up-to-date!\n",
            "[nltk_data]    | Downloading package paradigms to /root/nltk_data...\n",
            "[nltk_data]    |   Package paradigms is already up-to-date!\n",
            "[nltk_data]    | Downloading package pe08 to /root/nltk_data...\n",
            "[nltk_data]    |   Package pe08 is already up-to-date!\n",
            "[nltk_data]    | Downloading package perluniprops to\n",
            "[nltk_data]    |     /root/nltk_data...\n",
            "[nltk_data]    |   Package perluniprops is already up-to-date!\n",
            "[nltk_data]    | Downloading package pil to /root/nltk_data...\n",
            "[nltk_data]    |   Package pil is already up-to-date!\n",
            "[nltk_data]    | Downloading package pl196x to /root/nltk_data...\n",
            "[nltk_data]    |   Package pl196x is already up-to-date!\n",
            "[nltk_data]    | Downloading package porter_test to /root/nltk_data...\n",
            "[nltk_data]    |   Package porter_test is already up-to-date!\n",
            "[nltk_data]    | Downloading package ppattach to /root/nltk_data...\n",
            "[nltk_data]    |   Package ppattach is already up-to-date!\n",
            "[nltk_data]    | Downloading package problem_reports to\n",
            "[nltk_data]    |     /root/nltk_data...\n",
            "[nltk_data]    |   Package problem_reports is already up-to-date!\n",
            "[nltk_data]    | Downloading package product_reviews_1 to\n",
            "[nltk_data]    |     /root/nltk_data...\n",
            "[nltk_data]    |   Package product_reviews_1 is already up-to-date!\n",
            "[nltk_data]    | Downloading package product_reviews_2 to\n",
            "[nltk_data]    |     /root/nltk_data...\n",
            "[nltk_data]    |   Package product_reviews_2 is already up-to-date!\n",
            "[nltk_data]    | Downloading package propbank to /root/nltk_data...\n",
            "[nltk_data]    |   Package propbank is already up-to-date!\n",
            "[nltk_data]    | Downloading package pros_cons to /root/nltk_data...\n",
            "[nltk_data]    |   Package pros_cons is already up-to-date!\n",
            "[nltk_data]    | Downloading package ptb to /root/nltk_data...\n",
            "[nltk_data]    |   Package ptb is already up-to-date!\n",
            "[nltk_data]    | Downloading package punkt to /root/nltk_data...\n",
            "[nltk_data]    |   Package punkt is already up-to-date!\n",
            "[nltk_data]    | Downloading package punkt_tab to /root/nltk_data...\n",
            "[nltk_data]    |   Package punkt_tab is already up-to-date!\n",
            "[nltk_data]    | Downloading package qc to /root/nltk_data...\n",
            "[nltk_data]    |   Package qc is already up-to-date!\n",
            "[nltk_data]    | Downloading package reuters to /root/nltk_data...\n",
            "[nltk_data]    |   Package reuters is already up-to-date!\n",
            "[nltk_data]    | Downloading package rslp to /root/nltk_data...\n",
            "[nltk_data]    |   Package rslp is already up-to-date!\n",
            "[nltk_data]    | Downloading package rte to /root/nltk_data...\n",
            "[nltk_data]    |   Package rte is already up-to-date!\n",
            "[nltk_data]    | Downloading package sample_grammars to\n",
            "[nltk_data]    |     /root/nltk_data...\n",
            "[nltk_data]    |   Package sample_grammars is already up-to-date!\n",
            "[nltk_data]    | Downloading package semcor to /root/nltk_data...\n",
            "[nltk_data]    |   Package semcor is already up-to-date!\n",
            "[nltk_data]    | Downloading package senseval to /root/nltk_data...\n",
            "[nltk_data]    |   Package senseval is already up-to-date!\n",
            "[nltk_data]    | Downloading package sentence_polarity to\n",
            "[nltk_data]    |     /root/nltk_data...\n",
            "[nltk_data]    |   Package sentence_polarity is already up-to-date!\n",
            "[nltk_data]    | Downloading package sentiwordnet to\n",
            "[nltk_data]    |     /root/nltk_data...\n",
            "[nltk_data]    |   Package sentiwordnet is already up-to-date!\n",
            "[nltk_data]    | Downloading package shakespeare to /root/nltk_data...\n",
            "[nltk_data]    |   Package shakespeare is already up-to-date!\n",
            "[nltk_data]    | Downloading package sinica_treebank to\n",
            "[nltk_data]    |     /root/nltk_data...\n",
            "[nltk_data]    |   Package sinica_treebank is already up-to-date!\n",
            "[nltk_data]    | Downloading package smultron to /root/nltk_data...\n",
            "[nltk_data]    |   Package smultron is already up-to-date!\n",
            "[nltk_data]    | Downloading package snowball_data to\n",
            "[nltk_data]    |     /root/nltk_data...\n",
            "[nltk_data]    |   Package snowball_data is already up-to-date!\n",
            "[nltk_data]    | Downloading package spanish_grammars to\n",
            "[nltk_data]    |     /root/nltk_data...\n",
            "[nltk_data]    |   Package spanish_grammars is already up-to-date!\n",
            "[nltk_data]    | Downloading package state_union to /root/nltk_data...\n",
            "[nltk_data]    |   Package state_union is already up-to-date!\n",
            "[nltk_data]    | Downloading package stopwords to /root/nltk_data...\n",
            "[nltk_data]    |   Package stopwords is already up-to-date!\n",
            "[nltk_data]    | Downloading package subjectivity to\n",
            "[nltk_data]    |     /root/nltk_data...\n",
            "[nltk_data]    |   Package subjectivity is already up-to-date!\n",
            "[nltk_data]    | Downloading package swadesh to /root/nltk_data...\n",
            "[nltk_data]    |   Package swadesh is already up-to-date!\n",
            "[nltk_data]    | Downloading package switchboard to /root/nltk_data...\n",
            "[nltk_data]    |   Package switchboard is already up-to-date!\n",
            "[nltk_data]    | Downloading package tagsets to /root/nltk_data...\n",
            "[nltk_data]    |   Package tagsets is already up-to-date!\n",
            "[nltk_data]    | Downloading package tagsets_json to\n",
            "[nltk_data]    |     /root/nltk_data...\n",
            "[nltk_data]    |   Package tagsets_json is already up-to-date!\n",
            "[nltk_data]    | Downloading package timit to /root/nltk_data...\n",
            "[nltk_data]    |   Package timit is already up-to-date!\n",
            "[nltk_data]    | Downloading package toolbox to /root/nltk_data...\n",
            "[nltk_data]    |   Package toolbox is already up-to-date!\n",
            "[nltk_data]    | Downloading package treebank to /root/nltk_data...\n",
            "[nltk_data]    |   Package treebank is already up-to-date!\n",
            "[nltk_data]    | Downloading package twitter_samples to\n",
            "[nltk_data]    |     /root/nltk_data...\n",
            "[nltk_data]    |   Package twitter_samples is already up-to-date!\n",
            "[nltk_data]    | Downloading package udhr to /root/nltk_data...\n",
            "[nltk_data]    |   Package udhr is already up-to-date!\n",
            "[nltk_data]    | Downloading package udhr2 to /root/nltk_data...\n",
            "[nltk_data]    |   Package udhr2 is already up-to-date!\n",
            "[nltk_data]    | Downloading package unicode_samples to\n",
            "[nltk_data]    |     /root/nltk_data...\n",
            "[nltk_data]    |   Package unicode_samples is already up-to-date!\n",
            "[nltk_data]    | Downloading package universal_tagset to\n",
            "[nltk_data]    |     /root/nltk_data...\n",
            "[nltk_data]    |   Package universal_tagset is already up-to-date!\n",
            "[nltk_data]    | Downloading package universal_treebanks_v20 to\n",
            "[nltk_data]    |     /root/nltk_data...\n",
            "[nltk_data]    |   Package universal_treebanks_v20 is already up-to-\n",
            "[nltk_data]    |       date!\n",
            "[nltk_data]    | Downloading package vader_lexicon to\n",
            "[nltk_data]    |     /root/nltk_data...\n",
            "[nltk_data]    |   Package vader_lexicon is already up-to-date!\n",
            "[nltk_data]    | Downloading package verbnet to /root/nltk_data...\n",
            "[nltk_data]    |   Package verbnet is already up-to-date!\n",
            "[nltk_data]    | Downloading package verbnet3 to /root/nltk_data...\n",
            "[nltk_data]    |   Package verbnet3 is already up-to-date!\n",
            "[nltk_data]    | Downloading package webtext to /root/nltk_data...\n",
            "[nltk_data]    |   Package webtext is already up-to-date!\n",
            "[nltk_data]    | Downloading package wmt15_eval to /root/nltk_data...\n",
            "[nltk_data]    |   Package wmt15_eval is already up-to-date!\n",
            "[nltk_data]    | Downloading package word2vec_sample to\n",
            "[nltk_data]    |     /root/nltk_data...\n",
            "[nltk_data]    |   Package word2vec_sample is already up-to-date!\n",
            "[nltk_data]    | Downloading package wordnet to /root/nltk_data...\n",
            "[nltk_data]    |   Package wordnet is already up-to-date!\n",
            "[nltk_data]    | Downloading package wordnet2021 to /root/nltk_data...\n",
            "[nltk_data]    |   Package wordnet2021 is already up-to-date!\n",
            "[nltk_data]    | Downloading package wordnet2022 to /root/nltk_data...\n",
            "[nltk_data]    |   Package wordnet2022 is already up-to-date!\n",
            "[nltk_data]    | Downloading package wordnet31 to /root/nltk_data...\n",
            "[nltk_data]    |   Package wordnet31 is already up-to-date!\n",
            "[nltk_data]    | Downloading package wordnet_ic to /root/nltk_data...\n",
            "[nltk_data]    |   Package wordnet_ic is already up-to-date!\n",
            "[nltk_data]    | Downloading package words to /root/nltk_data...\n",
            "[nltk_data]    |   Package words is already up-to-date!\n",
            "[nltk_data]    | Downloading package ycoe to /root/nltk_data...\n",
            "[nltk_data]    |   Package ycoe is already up-to-date!\n",
            "[nltk_data]    | \n",
            "[nltk_data]  Done downloading collection all\n"
          ]
        },
        {
          "output_type": "execute_result",
          "data": {
            "text/plain": [
              "True"
            ]
          },
          "metadata": {},
          "execution_count": 9
        }
      ]
    },
    {
      "cell_type": "code",
      "source": [
        "from nltk.corpus import wordnet as wn\n",
        "\n",
        "term = 'present'\n",
        "\n",
        "# 'present'라는 단어로 wordnet의 synsets 생성.\n",
        "synsets = wn.synsets(term)\n",
        "print('synsets() 반환 type :', type(synsets))\n",
        "print('synsets() 반환 값 갯수:', len(synsets))\n",
        "print('synsets() 반환 값 :', synsets)"
      ],
      "metadata": {
        "colab": {
          "base_uri": "https://localhost:8080/"
        },
        "id": "TV_t0jB_DhKy",
        "outputId": "9d16f97b-8064-4acd-efad-f79880e4b96d"
      },
      "execution_count": null,
      "outputs": [
        {
          "output_type": "stream",
          "name": "stdout",
          "text": [
            "synsets() 반환 type : <class 'list'>\n",
            "synsets() 반환 값 갯수: 18\n",
            "synsets() 반환 값 : [Synset('present.n.01'), Synset('present.n.02'), Synset('present.n.03'), Synset('show.v.01'), Synset('present.v.02'), Synset('stage.v.01'), Synset('present.v.04'), Synset('present.v.05'), Synset('award.v.01'), Synset('give.v.08'), Synset('deliver.v.01'), Synset('introduce.v.01'), Synset('portray.v.04'), Synset('confront.v.03'), Synset('present.v.12'), Synset('salute.v.06'), Synset('present.a.01'), Synset('present.a.02')]\n"
          ]
        }
      ]
    },
    {
      "cell_type": "code",
      "source": [
        "for synset in synsets :\n",
        "    print('##### Synset name : ', synset.name(),'#####')\n",
        "    print('POS :',synset.lexname())\n",
        "    print('Definition:',synset.definition())\n",
        "    print('Lemmas:',synset.lemma_names())"
      ],
      "metadata": {
        "colab": {
          "base_uri": "https://localhost:8080/"
        },
        "id": "OMn4YLJwEOee",
        "outputId": "64c7a746-22e9-48cf-b82e-bb42115dd1a0"
      },
      "execution_count": null,
      "outputs": [
        {
          "output_type": "stream",
          "name": "stdout",
          "text": [
            "##### Synset name :  present.n.01 #####\n",
            "POS : noun.time\n",
            "Definition: the period of time that is happening now; any continuous stretch of time including the moment of speech\n",
            "Lemmas: ['present', 'nowadays']\n",
            "##### Synset name :  present.n.02 #####\n",
            "POS : noun.possession\n",
            "Definition: something presented as a gift\n",
            "Lemmas: ['present']\n",
            "##### Synset name :  present.n.03 #####\n",
            "POS : noun.communication\n",
            "Definition: a verb tense that expresses actions or states at the time of speaking\n",
            "Lemmas: ['present', 'present_tense']\n",
            "##### Synset name :  show.v.01 #####\n",
            "POS : verb.perception\n",
            "Definition: give an exhibition of to an interested audience\n",
            "Lemmas: ['show', 'demo', 'exhibit', 'present', 'demonstrate']\n",
            "##### Synset name :  present.v.02 #####\n",
            "POS : verb.communication\n",
            "Definition: bring forward and present to the mind\n",
            "Lemmas: ['present', 'represent', 'lay_out']\n",
            "##### Synset name :  stage.v.01 #####\n",
            "POS : verb.creation\n",
            "Definition: perform (a play), especially on a stage\n",
            "Lemmas: ['stage', 'present', 'represent']\n",
            "##### Synset name :  present.v.04 #####\n",
            "POS : verb.possession\n",
            "Definition: hand over formally\n",
            "Lemmas: ['present', 'submit']\n",
            "##### Synset name :  present.v.05 #####\n",
            "POS : verb.stative\n",
            "Definition: introduce\n",
            "Lemmas: ['present', 'pose']\n",
            "##### Synset name :  award.v.01 #####\n",
            "POS : verb.possession\n",
            "Definition: give, especially as an honor or reward\n",
            "Lemmas: ['award', 'present']\n",
            "##### Synset name :  give.v.08 #####\n",
            "POS : verb.possession\n",
            "Definition: give as a present; make a gift of\n",
            "Lemmas: ['give', 'gift', 'present']\n",
            "##### Synset name :  deliver.v.01 #####\n",
            "POS : verb.communication\n",
            "Definition: deliver (a speech, oration, or idea)\n",
            "Lemmas: ['deliver', 'present']\n",
            "##### Synset name :  introduce.v.01 #####\n",
            "POS : verb.communication\n",
            "Definition: cause to come to know personally\n",
            "Lemmas: ['introduce', 'present', 'acquaint']\n",
            "##### Synset name :  portray.v.04 #####\n",
            "POS : verb.creation\n",
            "Definition: represent abstractly, for example in a painting, drawing, or sculpture\n",
            "Lemmas: ['portray', 'present']\n",
            "##### Synset name :  confront.v.03 #####\n",
            "POS : verb.communication\n",
            "Definition: present somebody with something, usually to accuse or criticize\n",
            "Lemmas: ['confront', 'face', 'present']\n",
            "##### Synset name :  present.v.12 #####\n",
            "POS : verb.communication\n",
            "Definition: formally present a debutante, a representative of a country, etc.\n",
            "Lemmas: ['present']\n",
            "##### Synset name :  salute.v.06 #####\n",
            "POS : verb.communication\n",
            "Definition: recognize with a gesture prescribed by a military regulation; assume a prescribed position\n",
            "Lemmas: ['salute', 'present']\n",
            "##### Synset name :  present.a.01 #####\n",
            "POS : adj.all\n",
            "Definition: temporal sense; intermediate between past and future; now existing or happening or in consideration\n",
            "Lemmas: ['present']\n",
            "##### Synset name :  present.a.02 #####\n",
            "POS : adj.all\n",
            "Definition: being or existing in a specified place\n",
            "Lemmas: ['present']\n"
          ]
        }
      ]
    },
    {
      "cell_type": "markdown",
      "source": [
        "- WordNet => 어떤 어휘나 다른 어휘 간의 관계를 유사도로 나타냄: path_similarity() 메서드"
      ],
      "metadata": {
        "id": "v5niu5qhETCa"
      }
    },
    {
      "cell_type": "code",
      "source": [
        "# synset 객체를 단어별로 생성합니다.\n",
        "tree = wn.synset('tree.n.01')\n",
        "lion = wn.synset('lion.n.01')\n",
        "tiger = wn.synset('tiger.n.02')\n",
        "cat = wn.synset('cat.n.01')\n",
        "dog = wn.synset('dog.n.01')\n",
        "\n",
        "entities = [tree, lion, tiger, cat, dog]\n",
        "similarities = []\n",
        "entity_names = [entity.name().split('.')[0] for entity in entities]\n",
        "\n",
        "# 단어별 synset을 반복하면서 다른 단어의 synset과 유사도를 측정합니다.\n",
        "for entity in entities:\n",
        "    similarity = [round(entity.path_similarity(compared_entity), 2)\n",
        "                  for compared_entity in entities]\n",
        "    similarities.append(similarity)\n",
        "\n",
        "# 개별 단어별 synset과 다른 단어의 synset과의 유사도를 DataFrame 형태로 저장합니다.\n",
        "similarity_df = pd.DataFrame(similarities, columns=entity_names, index=entity_names)\n",
        "similarity_df"
      ],
      "metadata": {
        "colab": {
          "base_uri": "https://localhost:8080/",
          "height": 206
        },
        "id": "cacH3ocHFKgq",
        "outputId": "29103840-e462-4c25-9f0b-cb1e870c90ef"
      },
      "execution_count": null,
      "outputs": [
        {
          "output_type": "execute_result",
          "data": {
            "text/plain": [
              "       tree  lion  tiger   cat   dog\n",
              "tree   1.00  0.07   0.07  0.08  0.12\n",
              "lion   0.07  1.00   0.33  0.25  0.17\n",
              "tiger  0.07  0.33   1.00  0.25  0.17\n",
              "cat    0.08  0.25   0.25  1.00  0.20\n",
              "dog    0.12  0.17   0.17  0.20  1.00"
            ],
            "text/html": [
              "\n",
              "  <div id=\"df-23aca2f1-1322-4dd4-a496-54ee63a0d1ba\" class=\"colab-df-container\">\n",
              "    <div>\n",
              "<style scoped>\n",
              "    .dataframe tbody tr th:only-of-type {\n",
              "        vertical-align: middle;\n",
              "    }\n",
              "\n",
              "    .dataframe tbody tr th {\n",
              "        vertical-align: top;\n",
              "    }\n",
              "\n",
              "    .dataframe thead th {\n",
              "        text-align: right;\n",
              "    }\n",
              "</style>\n",
              "<table border=\"1\" class=\"dataframe\">\n",
              "  <thead>\n",
              "    <tr style=\"text-align: right;\">\n",
              "      <th></th>\n",
              "      <th>tree</th>\n",
              "      <th>lion</th>\n",
              "      <th>tiger</th>\n",
              "      <th>cat</th>\n",
              "      <th>dog</th>\n",
              "    </tr>\n",
              "  </thead>\n",
              "  <tbody>\n",
              "    <tr>\n",
              "      <th>tree</th>\n",
              "      <td>1.00</td>\n",
              "      <td>0.07</td>\n",
              "      <td>0.07</td>\n",
              "      <td>0.08</td>\n",
              "      <td>0.12</td>\n",
              "    </tr>\n",
              "    <tr>\n",
              "      <th>lion</th>\n",
              "      <td>0.07</td>\n",
              "      <td>1.00</td>\n",
              "      <td>0.33</td>\n",
              "      <td>0.25</td>\n",
              "      <td>0.17</td>\n",
              "    </tr>\n",
              "    <tr>\n",
              "      <th>tiger</th>\n",
              "      <td>0.07</td>\n",
              "      <td>0.33</td>\n",
              "      <td>1.00</td>\n",
              "      <td>0.25</td>\n",
              "      <td>0.17</td>\n",
              "    </tr>\n",
              "    <tr>\n",
              "      <th>cat</th>\n",
              "      <td>0.08</td>\n",
              "      <td>0.25</td>\n",
              "      <td>0.25</td>\n",
              "      <td>1.00</td>\n",
              "      <td>0.20</td>\n",
              "    </tr>\n",
              "    <tr>\n",
              "      <th>dog</th>\n",
              "      <td>0.12</td>\n",
              "      <td>0.17</td>\n",
              "      <td>0.17</td>\n",
              "      <td>0.20</td>\n",
              "      <td>1.00</td>\n",
              "    </tr>\n",
              "  </tbody>\n",
              "</table>\n",
              "</div>\n",
              "    <div class=\"colab-df-buttons\">\n",
              "\n",
              "  <div class=\"colab-df-container\">\n",
              "    <button class=\"colab-df-convert\" onclick=\"convertToInteractive('df-23aca2f1-1322-4dd4-a496-54ee63a0d1ba')\"\n",
              "            title=\"Convert this dataframe to an interactive table.\"\n",
              "            style=\"display:none;\">\n",
              "\n",
              "  <svg xmlns=\"http://www.w3.org/2000/svg\" height=\"24px\" viewBox=\"0 -960 960 960\">\n",
              "    <path d=\"M120-120v-720h720v720H120Zm60-500h600v-160H180v160Zm220 220h160v-160H400v160Zm0 220h160v-160H400v160ZM180-400h160v-160H180v160Zm440 0h160v-160H620v160ZM180-180h160v-160H180v160Zm440 0h160v-160H620v160Z\"/>\n",
              "  </svg>\n",
              "    </button>\n",
              "\n",
              "  <style>\n",
              "    .colab-df-container {\n",
              "      display:flex;\n",
              "      gap: 12px;\n",
              "    }\n",
              "\n",
              "    .colab-df-convert {\n",
              "      background-color: #E8F0FE;\n",
              "      border: none;\n",
              "      border-radius: 50%;\n",
              "      cursor: pointer;\n",
              "      display: none;\n",
              "      fill: #1967D2;\n",
              "      height: 32px;\n",
              "      padding: 0 0 0 0;\n",
              "      width: 32px;\n",
              "    }\n",
              "\n",
              "    .colab-df-convert:hover {\n",
              "      background-color: #E2EBFA;\n",
              "      box-shadow: 0px 1px 2px rgba(60, 64, 67, 0.3), 0px 1px 3px 1px rgba(60, 64, 67, 0.15);\n",
              "      fill: #174EA6;\n",
              "    }\n",
              "\n",
              "    .colab-df-buttons div {\n",
              "      margin-bottom: 4px;\n",
              "    }\n",
              "\n",
              "    [theme=dark] .colab-df-convert {\n",
              "      background-color: #3B4455;\n",
              "      fill: #D2E3FC;\n",
              "    }\n",
              "\n",
              "    [theme=dark] .colab-df-convert:hover {\n",
              "      background-color: #434B5C;\n",
              "      box-shadow: 0px 1px 3px 1px rgba(0, 0, 0, 0.15);\n",
              "      filter: drop-shadow(0px 1px 2px rgba(0, 0, 0, 0.3));\n",
              "      fill: #FFFFFF;\n",
              "    }\n",
              "  </style>\n",
              "\n",
              "    <script>\n",
              "      const buttonEl =\n",
              "        document.querySelector('#df-23aca2f1-1322-4dd4-a496-54ee63a0d1ba button.colab-df-convert');\n",
              "      buttonEl.style.display =\n",
              "        google.colab.kernel.accessAllowed ? 'block' : 'none';\n",
              "\n",
              "      async function convertToInteractive(key) {\n",
              "        const element = document.querySelector('#df-23aca2f1-1322-4dd4-a496-54ee63a0d1ba');\n",
              "        const dataTable =\n",
              "          await google.colab.kernel.invokeFunction('convertToInteractive',\n",
              "                                                    [key], {});\n",
              "        if (!dataTable) return;\n",
              "\n",
              "        const docLinkHtml = 'Like what you see? Visit the ' +\n",
              "          '<a target=\"_blank\" href=https://colab.research.google.com/notebooks/data_table.ipynb>data table notebook</a>'\n",
              "          + ' to learn more about interactive tables.';\n",
              "        element.innerHTML = '';\n",
              "        dataTable['output_type'] = 'display_data';\n",
              "        await google.colab.output.renderOutput(dataTable, element);\n",
              "        const docLink = document.createElement('div');\n",
              "        docLink.innerHTML = docLinkHtml;\n",
              "        element.appendChild(docLink);\n",
              "      }\n",
              "    </script>\n",
              "  </div>\n",
              "\n",
              "\n",
              "<div id=\"df-d2a2a072-0616-4542-8a76-381b6d5f773d\">\n",
              "  <button class=\"colab-df-quickchart\" onclick=\"quickchart('df-d2a2a072-0616-4542-8a76-381b6d5f773d')\"\n",
              "            title=\"Suggest charts\"\n",
              "            style=\"display:none;\">\n",
              "\n",
              "<svg xmlns=\"http://www.w3.org/2000/svg\" height=\"24px\"viewBox=\"0 0 24 24\"\n",
              "     width=\"24px\">\n",
              "    <g>\n",
              "        <path d=\"M19 3H5c-1.1 0-2 .9-2 2v14c0 1.1.9 2 2 2h14c1.1 0 2-.9 2-2V5c0-1.1-.9-2-2-2zM9 17H7v-7h2v7zm4 0h-2V7h2v10zm4 0h-2v-4h2v4z\"/>\n",
              "    </g>\n",
              "</svg>\n",
              "  </button>\n",
              "\n",
              "<style>\n",
              "  .colab-df-quickchart {\n",
              "      --bg-color: #E8F0FE;\n",
              "      --fill-color: #1967D2;\n",
              "      --hover-bg-color: #E2EBFA;\n",
              "      --hover-fill-color: #174EA6;\n",
              "      --disabled-fill-color: #AAA;\n",
              "      --disabled-bg-color: #DDD;\n",
              "  }\n",
              "\n",
              "  [theme=dark] .colab-df-quickchart {\n",
              "      --bg-color: #3B4455;\n",
              "      --fill-color: #D2E3FC;\n",
              "      --hover-bg-color: #434B5C;\n",
              "      --hover-fill-color: #FFFFFF;\n",
              "      --disabled-bg-color: #3B4455;\n",
              "      --disabled-fill-color: #666;\n",
              "  }\n",
              "\n",
              "  .colab-df-quickchart {\n",
              "    background-color: var(--bg-color);\n",
              "    border: none;\n",
              "    border-radius: 50%;\n",
              "    cursor: pointer;\n",
              "    display: none;\n",
              "    fill: var(--fill-color);\n",
              "    height: 32px;\n",
              "    padding: 0;\n",
              "    width: 32px;\n",
              "  }\n",
              "\n",
              "  .colab-df-quickchart:hover {\n",
              "    background-color: var(--hover-bg-color);\n",
              "    box-shadow: 0 1px 2px rgba(60, 64, 67, 0.3), 0 1px 3px 1px rgba(60, 64, 67, 0.15);\n",
              "    fill: var(--button-hover-fill-color);\n",
              "  }\n",
              "\n",
              "  .colab-df-quickchart-complete:disabled,\n",
              "  .colab-df-quickchart-complete:disabled:hover {\n",
              "    background-color: var(--disabled-bg-color);\n",
              "    fill: var(--disabled-fill-color);\n",
              "    box-shadow: none;\n",
              "  }\n",
              "\n",
              "  .colab-df-spinner {\n",
              "    border: 2px solid var(--fill-color);\n",
              "    border-color: transparent;\n",
              "    border-bottom-color: var(--fill-color);\n",
              "    animation:\n",
              "      spin 1s steps(1) infinite;\n",
              "  }\n",
              "\n",
              "  @keyframes spin {\n",
              "    0% {\n",
              "      border-color: transparent;\n",
              "      border-bottom-color: var(--fill-color);\n",
              "      border-left-color: var(--fill-color);\n",
              "    }\n",
              "    20% {\n",
              "      border-color: transparent;\n",
              "      border-left-color: var(--fill-color);\n",
              "      border-top-color: var(--fill-color);\n",
              "    }\n",
              "    30% {\n",
              "      border-color: transparent;\n",
              "      border-left-color: var(--fill-color);\n",
              "      border-top-color: var(--fill-color);\n",
              "      border-right-color: var(--fill-color);\n",
              "    }\n",
              "    40% {\n",
              "      border-color: transparent;\n",
              "      border-right-color: var(--fill-color);\n",
              "      border-top-color: var(--fill-color);\n",
              "    }\n",
              "    60% {\n",
              "      border-color: transparent;\n",
              "      border-right-color: var(--fill-color);\n",
              "    }\n",
              "    80% {\n",
              "      border-color: transparent;\n",
              "      border-right-color: var(--fill-color);\n",
              "      border-bottom-color: var(--fill-color);\n",
              "    }\n",
              "    90% {\n",
              "      border-color: transparent;\n",
              "      border-bottom-color: var(--fill-color);\n",
              "    }\n",
              "  }\n",
              "</style>\n",
              "\n",
              "  <script>\n",
              "    async function quickchart(key) {\n",
              "      const quickchartButtonEl =\n",
              "        document.querySelector('#' + key + ' button');\n",
              "      quickchartButtonEl.disabled = true;  // To prevent multiple clicks.\n",
              "      quickchartButtonEl.classList.add('colab-df-spinner');\n",
              "      try {\n",
              "        const charts = await google.colab.kernel.invokeFunction(\n",
              "            'suggestCharts', [key], {});\n",
              "      } catch (error) {\n",
              "        console.error('Error during call to suggestCharts:', error);\n",
              "      }\n",
              "      quickchartButtonEl.classList.remove('colab-df-spinner');\n",
              "      quickchartButtonEl.classList.add('colab-df-quickchart-complete');\n",
              "    }\n",
              "    (() => {\n",
              "      let quickchartButtonEl =\n",
              "        document.querySelector('#df-d2a2a072-0616-4542-8a76-381b6d5f773d button');\n",
              "      quickchartButtonEl.style.display =\n",
              "        google.colab.kernel.accessAllowed ? 'block' : 'none';\n",
              "    })();\n",
              "  </script>\n",
              "</div>\n",
              "\n",
              "  <div id=\"id_675320a5-e546-4faa-b8d0-6bc99016b040\">\n",
              "    <style>\n",
              "      .colab-df-generate {\n",
              "        background-color: #E8F0FE;\n",
              "        border: none;\n",
              "        border-radius: 50%;\n",
              "        cursor: pointer;\n",
              "        display: none;\n",
              "        fill: #1967D2;\n",
              "        height: 32px;\n",
              "        padding: 0 0 0 0;\n",
              "        width: 32px;\n",
              "      }\n",
              "\n",
              "      .colab-df-generate:hover {\n",
              "        background-color: #E2EBFA;\n",
              "        box-shadow: 0px 1px 2px rgba(60, 64, 67, 0.3), 0px 1px 3px 1px rgba(60, 64, 67, 0.15);\n",
              "        fill: #174EA6;\n",
              "      }\n",
              "\n",
              "      [theme=dark] .colab-df-generate {\n",
              "        background-color: #3B4455;\n",
              "        fill: #D2E3FC;\n",
              "      }\n",
              "\n",
              "      [theme=dark] .colab-df-generate:hover {\n",
              "        background-color: #434B5C;\n",
              "        box-shadow: 0px 1px 3px 1px rgba(0, 0, 0, 0.15);\n",
              "        filter: drop-shadow(0px 1px 2px rgba(0, 0, 0, 0.3));\n",
              "        fill: #FFFFFF;\n",
              "      }\n",
              "    </style>\n",
              "    <button class=\"colab-df-generate\" onclick=\"generateWithVariable('similarity_df')\"\n",
              "            title=\"Generate code using this dataframe.\"\n",
              "            style=\"display:none;\">\n",
              "\n",
              "  <svg xmlns=\"http://www.w3.org/2000/svg\" height=\"24px\"viewBox=\"0 0 24 24\"\n",
              "       width=\"24px\">\n",
              "    <path d=\"M7,19H8.4L18.45,9,17,7.55,7,17.6ZM5,21V16.75L18.45,3.32a2,2,0,0,1,2.83,0l1.4,1.43a1.91,1.91,0,0,1,.58,1.4,1.91,1.91,0,0,1-.58,1.4L9.25,21ZM18.45,9,17,7.55Zm-12,3A5.31,5.31,0,0,0,4.9,8.1,5.31,5.31,0,0,0,1,6.5,5.31,5.31,0,0,0,4.9,4.9,5.31,5.31,0,0,0,6.5,1,5.31,5.31,0,0,0,8.1,4.9,5.31,5.31,0,0,0,12,6.5,5.46,5.46,0,0,0,6.5,12Z\"/>\n",
              "  </svg>\n",
              "    </button>\n",
              "    <script>\n",
              "      (() => {\n",
              "      const buttonEl =\n",
              "        document.querySelector('#id_675320a5-e546-4faa-b8d0-6bc99016b040 button.colab-df-generate');\n",
              "      buttonEl.style.display =\n",
              "        google.colab.kernel.accessAllowed ? 'block' : 'none';\n",
              "\n",
              "      buttonEl.onclick = () => {\n",
              "        google.colab.notebook.generateWithVariable('similarity_df');\n",
              "      }\n",
              "      })();\n",
              "    </script>\n",
              "  </div>\n",
              "\n",
              "    </div>\n",
              "  </div>\n"
            ],
            "application/vnd.google.colaboratory.intrinsic+json": {
              "type": "dataframe",
              "variable_name": "similarity_df",
              "summary": "{\n  \"name\": \"similarity_df\",\n  \"rows\": 5,\n  \"fields\": [\n    {\n      \"column\": \"tree\",\n      \"properties\": {\n        \"dtype\": \"number\",\n        \"std\": 0.40971941618624813,\n        \"min\": 0.07,\n        \"max\": 1.0,\n        \"num_unique_values\": 4,\n        \"samples\": [\n          0.07,\n          0.12,\n          1.0\n        ],\n        \"semantic_type\": \"\",\n        \"description\": \"\"\n      }\n    },\n    {\n      \"column\": \"lion\",\n      \"properties\": {\n        \"dtype\": \"number\",\n        \"std\": 0.3683476618630828,\n        \"min\": 0.07,\n        \"max\": 1.0,\n        \"num_unique_values\": 5,\n        \"samples\": [\n          1.0,\n          0.17,\n          0.33\n        ],\n        \"semantic_type\": \"\",\n        \"description\": \"\"\n      }\n    },\n    {\n      \"column\": \"tiger\",\n      \"properties\": {\n        \"dtype\": \"number\",\n        \"std\": 0.3683476618630828,\n        \"min\": 0.07,\n        \"max\": 1.0,\n        \"num_unique_values\": 5,\n        \"samples\": [\n          0.33,\n          0.17,\n          1.0\n        ],\n        \"semantic_type\": \"\",\n        \"description\": \"\"\n      }\n    },\n    {\n      \"column\": \"cat\",\n      \"properties\": {\n        \"dtype\": \"number\",\n        \"std\": 0.36664696916789047,\n        \"min\": 0.08,\n        \"max\": 1.0,\n        \"num_unique_values\": 4,\n        \"samples\": [\n          0.25,\n          0.2,\n          0.08\n        ],\n        \"semantic_type\": \"\",\n        \"description\": \"\"\n      }\n    },\n    {\n      \"column\": \"dog\",\n      \"properties\": {\n        \"dtype\": \"number\",\n        \"std\": 0.3745263675630862,\n        \"min\": 0.12,\n        \"max\": 1.0,\n        \"num_unique_values\": 4,\n        \"samples\": [\n          0.17,\n          1.0,\n          0.12\n        ],\n        \"semantic_type\": \"\",\n        \"description\": \"\"\n      }\n    }\n  ]\n}"
            }
          },
          "metadata": {},
          "execution_count": 15
        }
      ]
    },
    {
      "cell_type": "markdown",
      "source": [
        "- lion은 tree와의 유사도가 0.07로 가장 적고, tiger와는 유사도가 0.33으로 가장 큼.\n",
        "- SentiWordNet 모듈의 senti_synsets()는 Senti_Synset 클래스를 리스트 형태로 반환"
      ],
      "metadata": {
        "id": "p_GR-phyFM3Y"
      }
    },
    {
      "cell_type": "code",
      "source": [
        "import nltk\n",
        "from nltk.corpus import sentiwordnet as swn\n",
        "\n",
        "senti_synsets = list(swn.senti_synsets('slow'))\n",
        "print('senti_synsets() 반환 type :', type(senti_synsets))\n",
        "print('senti_synsets() 반환 값 갯수:', len(senti_synsets))\n",
        "print('senti_synsets() 반환 값 :', senti_synsets)"
      ],
      "metadata": {
        "colab": {
          "base_uri": "https://localhost:8080/"
        },
        "id": "MVFx6LykFoOY",
        "outputId": "82d47e60-2895-4952-c613-bc4a871f8794"
      },
      "execution_count": null,
      "outputs": [
        {
          "output_type": "stream",
          "name": "stdout",
          "text": [
            "senti_synsets() 반환 type : <class 'list'>\n",
            "senti_synsets() 반환 값 갯수: 11\n",
            "senti_synsets() 반환 값 : [SentiSynset('decelerate.v.01'), SentiSynset('slow.v.02'), SentiSynset('slow.v.03'), SentiSynset('slow.a.01'), SentiSynset('slow.a.02'), SentiSynset('dense.s.04'), SentiSynset('slow.a.04'), SentiSynset('boring.s.01'), SentiSynset('dull.s.08'), SentiSynset('slowly.r.01'), SentiSynset('behind.r.03')]\n"
          ]
        }
      ]
    },
    {
      "cell_type": "code",
      "source": [
        "import nltk\n",
        "from nltk.corpus import sentiwordnet as swn\n",
        "\n",
        "father = swn.senti_synset('father.n.01')\n",
        "print('father 긍정감성 지수:', father.pos_score())\n",
        "print('father 부정감성 지수:', father.neg_score())\n",
        "print('father 객관성 지수:', father.obj_score())\n",
        "print('\\n')\n",
        "fabulous = swn.senti_synset('fabulous.a.01')\n",
        "print('fabulous 긍정감성 지수:', fabulous.pos_score())\n",
        "print('fabulous 부정감성 지수:', fabulous.neg_score())"
      ],
      "metadata": {
        "colab": {
          "base_uri": "https://localhost:8080/"
        },
        "id": "wOOtUAj0Gc10",
        "outputId": "b1553faf-e50d-4837-91b5-2abc029116b5"
      },
      "execution_count": null,
      "outputs": [
        {
          "output_type": "stream",
          "name": "stdout",
          "text": [
            "father 긍정감성 지수: 0.0\n",
            "father 부정감성 지수: 0.0\n",
            "father 객관성 지수: 1.0\n",
            "\n",
            "\n",
            "fabulous 긍정감성 지수: 0.875\n",
            "fabulous 부정감성 지수: 0.125\n"
          ]
        }
      ]
    },
    {
      "cell_type": "markdown",
      "source": [
        "**SentiWordNet을 이용한 영화 감상평 감정 분석**\n",
        "\n",
        "1. 문서(Document)를 문장(Sentence) 단위로 분해\n",
        "2. 다시 문장을 단어(Word) 단위로 토큰화하고 품사 태깅\n",
        "3. 품사 태깅된 단어 기반으로 synset 객체와 senti_synset 객체를 생성\n",
        "4. senti_synset 객체에서 긍정 감성/부정 감성 지수를 구하고 이를 모두 합산해 특정 임계치 값 이상일 때 긍정 감성, 그렇지 않을 때는 부정 감성으로 결정"
      ],
      "metadata": {
        "id": "D8LngXUNGhLZ"
      }
    },
    {
      "cell_type": "code",
      "source": [
        "from nltk.corpus import wordnet as wn\n",
        "\n",
        "# 간단한 NLTK PennTreebank Tag를 기반으로 WordNet 기반의 품사 Tag로 변환\n",
        "def penn_to_wn(tag):\n",
        "    if tag.startswith('J'):\n",
        "       return wn.ADJ\n",
        "    elif tag.startswith('N'):\n",
        "       return wn.NOUN\n",
        "    elif tag.startswith('R'):\n",
        "       return wn.ADV\n",
        "    elif tag.startswith('V'):\n",
        "       return wn.VERB"
      ],
      "metadata": {
        "id": "0w-yFjXmHr_C"
      },
      "execution_count": null,
      "outputs": []
    },
    {
      "cell_type": "code",
      "source": [
        "from nltk.stem import WordNetLemmatizer\n",
        "from nltk.corpus import sentiwordnet as swn\n",
        "from nltk import sent_tokenize, word_tokenize, pos_tag\n",
        "\n",
        "def swn_polarity(text):\n",
        "    # 감성 지수 초기화\n",
        "    sentiment = 0.0\n",
        "    tokens_count = 0\n",
        "\n",
        "    lemmatizer = WordNetLemmatizer()\n",
        "    raw_sentences = sent_tokenize(text)\n",
        "    # 분해된 문장별로 단어 토큰 -> 품사 태깅 후에 SentiSynset 생성 -> 감성 지수 합산\n",
        "    for raw_sentence in raw_sentences:\n",
        "        # NTLK 기반의 품사 태깅 문장 추출\n",
        "        tagged_sentence = pos_tag(word_tokenize(raw_sentence))\n",
        "        for word, tag in tagged_sentence:\n",
        "\n",
        "            # WordNet 기반 품사 태깅과 어근 추출\n",
        "            wn_tag = penn_to_wn(tag)\n",
        "            if wn_tag not in (wn.NOUN, wn.ADJ, wn.ADV):\n",
        "                continue\n",
        "            lemma = lemmatizer.lemmatize(word, pos=wn_tag)\n",
        "            if not lemma:\n",
        "                continue\n",
        "            # 어근을 추출한 단어와 WordNet 기반 품사 태깅을 입력해 Synset 객체를 생성.\n",
        "            synsets = wn.synsets(lemma, pos=wn_tag)\n",
        "            if not synsets:\n",
        "                continue\n",
        "            # sentiwordnet의 감성 단어 분석으로 감성 synset 추출\n",
        "            # 모든 단어에 대해 긍정 감성 지수는 +로 부정 감성 지수는 -로 합산해 감성 지수 계산.\n",
        "            synset = synsets[0]\n",
        "            swn_synset = swn.senti_synset(synset.name())\n",
        "            sentiment += (swn_synset.pos_score() - swn_synset.neg_score())\n",
        "            tokens_count += 1\n",
        "\n",
        "    if not tokens_count:\n",
        "        return 0\n",
        "\n",
        "    # 총 score가 0 이상일 경우 긍정(Positive) 1, 그렇지 않을 경우 부정(Negative) 0 반환\n",
        "    if sentiment >= 0:\n",
        "        return 1\n",
        "\n",
        "    return 0"
      ],
      "metadata": {
        "id": "11IQRYFxIgrN"
      },
      "execution_count": null,
      "outputs": []
    },
    {
      "cell_type": "code",
      "source": [
        "review_df['preds'] = review_df['review'].apply(lambda x: swn_polarity(x))\n",
        "y_target = review_df['sentiment'].values\n",
        "preds = review_df['preds'].values"
      ],
      "metadata": {
        "id": "7giaXIxOKG2m"
      },
      "execution_count": null,
      "outputs": []
    },
    {
      "cell_type": "code",
      "source": [
        "from sklearn.metrics import accuracy_score, confusion_matrix, precision_score\n",
        "from sklearn.metrics import recall_score, f1_score, roc_auc_score\n",
        "\n",
        "print(confusion_matrix(y_target, preds))\n",
        "print(\"정확도:\", accuracy_score(y_target, preds))\n",
        "print(\"정밀도:\", precision_score(y_target, preds))\n",
        "print(\"재현율:\", recall_score(y_target, preds))"
      ],
      "metadata": {
        "colab": {
          "base_uri": "https://localhost:8080/"
        },
        "id": "gsfaWUHdKX97",
        "outputId": "463e85ba-24e3-4bd9-a023-fa3c5f27a481"
      },
      "execution_count": null,
      "outputs": [
        {
          "output_type": "stream",
          "name": "stdout",
          "text": [
            "[[7669 4831]\n",
            " [3635 8865]]\n",
            "정확도: 0.66136\n",
            "정밀도: 0.6472692757009346\n",
            "재현율: 0.7092\n"
          ]
        }
      ]
    },
    {
      "cell_type": "markdown",
      "source": [
        "\n",
        "\n",
        "> VADER를 이용한 감성 분석\n",
        "\n"
      ],
      "metadata": {
        "id": "4LC8tD1PKZzw"
      }
    },
    {
      "cell_type": "code",
      "source": [
        "from nltk.sentiment.vader import SentimentIntensityAnalyzer\n",
        "\n",
        "senti_analyzer = SentimentIntensityAnalyzer()\n",
        "senti_scores = senti_analyzer.polarity_scores(review_df['review'][0])\n",
        "print(senti_scores)"
      ],
      "metadata": {
        "colab": {
          "base_uri": "https://localhost:8080/"
        },
        "id": "fFWGXQJBK34E",
        "outputId": "ffbb355e-f5e4-4087-9a3e-48e3b5a3c34d"
      },
      "execution_count": null,
      "outputs": [
        {
          "output_type": "stream",
          "name": "stdout",
          "text": [
            "{'neg': 0.13, 'neu': 0.743, 'pos': 0.127, 'compound': -0.7943}\n"
          ]
        }
      ]
    },
    {
      "cell_type": "markdown",
      "source": [
        "- SentimentIntensityAnalyzer 객체 생성 후 문서별로 polarity_scores() 메서드 호출해 감성 점수 구함\n",
        "- 긍정: 감성 점수가 특정 임계값 이상\n",
        "- 부정: 감성 점수가 특정 임계값 미만\n",
        "- polarity_scores(): 딕셔너리 형태의 감성 점수 반환"
      ],
      "metadata": {
        "id": "vXgI6drfLDe4"
      }
    },
    {
      "cell_type": "code",
      "source": [
        "def vader_polarity(review, threshold=0.1):\n",
        "    analyzer = SentimentIntensityAnalyzer()\n",
        "    scores = analyzer.polarity_scores(review)\n",
        "\n",
        "    # compound 값에 기반해 threshold 입력값보다 크면 1, 그렇지 않으면 0을 반환\n",
        "    agg_score = scores['compound']\n",
        "    final_sentiment = 1 if agg_score >= threshold else 0\n",
        "    return final_sentiment\n",
        "\n",
        "# apply lambda 식을 이용해 레코드별로 vader_polarity()를 수행하고 결과를 'vader_preds'에 저장\n",
        "review_df['vader_preds'] = review_df['review'].apply(lambda x: vader_polarity(x, 0.1))\n",
        "\n",
        "y_target = review_df['sentiment'].values\n",
        "vader_preds = review_df['vader_preds'].values\n",
        "\n",
        "print(confusion_matrix(y_target, vader_preds))\n",
        "print(\"정확도:\", np.round(accuracy_score(y_target, vader_preds), 4))\n",
        "print(\"정밀도:\", np.round(precision_score(y_target, vader_preds), 4))\n",
        "print(\"재현율:\", np.round(recall_score(y_target, vader_preds), 4))"
      ],
      "metadata": {
        "colab": {
          "base_uri": "https://localhost:8080/"
        },
        "id": "VRnXyJkGLd8Z",
        "outputId": "f781a5be-a4e9-47ea-9dba-bb5303c93401"
      },
      "execution_count": null,
      "outputs": [
        {
          "output_type": "stream",
          "name": "stdout",
          "text": [
            "[[ 6747  5753]\n",
            " [ 1858 10642]]\n",
            "정확도: 0.6956\n",
            "정밀도: 0.6491\n",
            "재현율: 0.8514\n"
          ]
        }
      ]
    },
    {
      "cell_type": "markdown",
      "source": [
        "![8_9.PNG](data:image/png;base64,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)"
      ],
      "metadata": {
        "id": "XBa5czl0Mx4d"
      }
    },
    {
      "cell_type": "markdown",
      "source": [
        "\n",
        "\n",
        "---\n",
        "\n"
      ],
      "metadata": {
        "id": "0-frEZV2NbfV"
      }
    },
    {
      "cell_type": "markdown",
      "source": [
        "#### 06 토픽 모델링(Topic Modeling) - 20 뉴스그룹\n",
        "\n",
        "- **토픽 모델링(Topic Modeling)**: 문서 집합에 숨어 있는 주제를 찾아내는 것 => 머신러닝 기반으로 숨겨진 주제를 효과적으로 표현할 수 있는 중심 단어를 함축적으로 추출\n",
        "- LSA(Latent Semantic Analysis)\n",
        "- LDA(Latent Dirichlet Allocation)"
      ],
      "metadata": {
        "id": "YYVyd96oM5CQ"
      }
    },
    {
      "cell_type": "code",
      "source": [
        "from sklearn.datasets import fetch_20newsgroups\n",
        "from sklearn.feature_extraction.text import CountVectorizer\n",
        "from sklearn.decomposition import LatentDirichletAllocation\n",
        "\n",
        "# 모터사이클, 야구, 그래픽스, 윈도우즈, 중동, 기독교, 전자공학, 의학 8개 주제를 추출.\n",
        "cats = ['rec.motorcycles', 'rec.sport.baseball', 'comp.graphics', 'comp.windows.x',\n",
        "        'talk.politics.mideast', 'soc.religion.christian', 'sci.electronics', 'sci.med']\n",
        "\n",
        "# 위에서 cats 변수로 기재된 카테고리만 추출. fetch_20newsgroups( )의 categories에 cats 입력\n",
        "news_df = fetch_20newsgroups(subset='all', remove=('headers', 'footers', 'quotes'),\n",
        "                             categories=cats, random_state=0)\n",
        "\n",
        "# LDA는 Count 기반의 벡터화만 적용합니다.\n",
        "count_vect = CountVectorizer(max_df=0.95, max_features=1000, min_df=2, stop_words='english',\n",
        "                             ngram_range=(1, 2))\n",
        "feat_vect = count_vect.fit_transform(news_df.data)\n",
        "print('CountVectorizer Shape:', feat_vect.shape)"
      ],
      "metadata": {
        "colab": {
          "base_uri": "https://localhost:8080/"
        },
        "id": "vqKHk29lNawk",
        "outputId": "8ba0233c-c077-4fe2-c2f5-8fe8acb6b671"
      },
      "execution_count": null,
      "outputs": [
        {
          "output_type": "stream",
          "name": "stdout",
          "text": [
            "CountVectorizer Shape: (7862, 1000)\n"
          ]
        }
      ]
    },
    {
      "cell_type": "code",
      "source": [
        "lda = LatentDirichletAllocation(n_components=8, random_state=0)\n",
        "lda.fit(feat_vect)"
      ],
      "metadata": {
        "colab": {
          "base_uri": "https://localhost:8080/",
          "height": 80
        },
        "id": "D4Am6Ej_PG3v",
        "outputId": "0a54f855-0641-4866-e02a-6caf6805d698"
      },
      "execution_count": null,
      "outputs": [
        {
          "output_type": "execute_result",
          "data": {
            "text/plain": [
              "LatentDirichletAllocation(n_components=8, random_state=0)"
            ],
            "text/html": [
              "<style>#sk-container-id-1 {\n",
              "  /* Definition of color scheme common for light and dark mode */\n",
              "  --sklearn-color-text: #000;\n",
              "  --sklearn-color-text-muted: #666;\n",
              "  --sklearn-color-line: gray;\n",
              "  /* Definition of color scheme for unfitted estimators */\n",
              "  --sklearn-color-unfitted-level-0: #fff5e6;\n",
              "  --sklearn-color-unfitted-level-1: #f6e4d2;\n",
              "  --sklearn-color-unfitted-level-2: #ffe0b3;\n",
              "  --sklearn-color-unfitted-level-3: chocolate;\n",
              "  /* Definition of color scheme for fitted estimators */\n",
              "  --sklearn-color-fitted-level-0: #f0f8ff;\n",
              "  --sklearn-color-fitted-level-1: #d4ebff;\n",
              "  --sklearn-color-fitted-level-2: #b3dbfd;\n",
              "  --sklearn-color-fitted-level-3: cornflowerblue;\n",
              "\n",
              "  /* Specific color for light theme */\n",
              "  --sklearn-color-text-on-default-background: var(--sg-text-color, var(--theme-code-foreground, var(--jp-content-font-color1, black)));\n",
              "  --sklearn-color-background: var(--sg-background-color, var(--theme-background, var(--jp-layout-color0, white)));\n",
              "  --sklearn-color-border-box: var(--sg-text-color, var(--theme-code-foreground, var(--jp-content-font-color1, black)));\n",
              "  --sklearn-color-icon: #696969;\n",
              "\n",
              "  @media (prefers-color-scheme: dark) {\n",
              "    /* Redefinition of color scheme for dark theme */\n",
              "    --sklearn-color-text-on-default-background: var(--sg-text-color, var(--theme-code-foreground, var(--jp-content-font-color1, white)));\n",
              "    --sklearn-color-background: var(--sg-background-color, var(--theme-background, var(--jp-layout-color0, #111)));\n",
              "    --sklearn-color-border-box: var(--sg-text-color, var(--theme-code-foreground, var(--jp-content-font-color1, white)));\n",
              "    --sklearn-color-icon: #878787;\n",
              "  }\n",
              "}\n",
              "\n",
              "#sk-container-id-1 {\n",
              "  color: var(--sklearn-color-text);\n",
              "}\n",
              "\n",
              "#sk-container-id-1 pre {\n",
              "  padding: 0;\n",
              "}\n",
              "\n",
              "#sk-container-id-1 input.sk-hidden--visually {\n",
              "  border: 0;\n",
              "  clip: rect(1px 1px 1px 1px);\n",
              "  clip: rect(1px, 1px, 1px, 1px);\n",
              "  height: 1px;\n",
              "  margin: -1px;\n",
              "  overflow: hidden;\n",
              "  padding: 0;\n",
              "  position: absolute;\n",
              "  width: 1px;\n",
              "}\n",
              "\n",
              "#sk-container-id-1 div.sk-dashed-wrapped {\n",
              "  border: 1px dashed var(--sklearn-color-line);\n",
              "  margin: 0 0.4em 0.5em 0.4em;\n",
              "  box-sizing: border-box;\n",
              "  padding-bottom: 0.4em;\n",
              "  background-color: var(--sklearn-color-background);\n",
              "}\n",
              "\n",
              "#sk-container-id-1 div.sk-container {\n",
              "  /* jupyter's `normalize.less` sets `[hidden] { display: none; }`\n",
              "     but bootstrap.min.css set `[hidden] { display: none !important; }`\n",
              "     so we also need the `!important` here to be able to override the\n",
              "     default hidden behavior on the sphinx rendered scikit-learn.org.\n",
              "     See: https://github.com/scikit-learn/scikit-learn/issues/21755 */\n",
              "  display: inline-block !important;\n",
              "  position: relative;\n",
              "}\n",
              "\n",
              "#sk-container-id-1 div.sk-text-repr-fallback {\n",
              "  display: none;\n",
              "}\n",
              "\n",
              "div.sk-parallel-item,\n",
              "div.sk-serial,\n",
              "div.sk-item {\n",
              "  /* draw centered vertical line to link estimators */\n",
              "  background-image: linear-gradient(var(--sklearn-color-text-on-default-background), var(--sklearn-color-text-on-default-background));\n",
              "  background-size: 2px 100%;\n",
              "  background-repeat: no-repeat;\n",
              "  background-position: center center;\n",
              "}\n",
              "\n",
              "/* Parallel-specific style estimator block */\n",
              "\n",
              "#sk-container-id-1 div.sk-parallel-item::after {\n",
              "  content: \"\";\n",
              "  width: 100%;\n",
              "  border-bottom: 2px solid var(--sklearn-color-text-on-default-background);\n",
              "  flex-grow: 1;\n",
              "}\n",
              "\n",
              "#sk-container-id-1 div.sk-parallel {\n",
              "  display: flex;\n",
              "  align-items: stretch;\n",
              "  justify-content: center;\n",
              "  background-color: var(--sklearn-color-background);\n",
              "  position: relative;\n",
              "}\n",
              "\n",
              "#sk-container-id-1 div.sk-parallel-item {\n",
              "  display: flex;\n",
              "  flex-direction: column;\n",
              "}\n",
              "\n",
              "#sk-container-id-1 div.sk-parallel-item:first-child::after {\n",
              "  align-self: flex-end;\n",
              "  width: 50%;\n",
              "}\n",
              "\n",
              "#sk-container-id-1 div.sk-parallel-item:last-child::after {\n",
              "  align-self: flex-start;\n",
              "  width: 50%;\n",
              "}\n",
              "\n",
              "#sk-container-id-1 div.sk-parallel-item:only-child::after {\n",
              "  width: 0;\n",
              "}\n",
              "\n",
              "/* Serial-specific style estimator block */\n",
              "\n",
              "#sk-container-id-1 div.sk-serial {\n",
              "  display: flex;\n",
              "  flex-direction: column;\n",
              "  align-items: center;\n",
              "  background-color: var(--sklearn-color-background);\n",
              "  padding-right: 1em;\n",
              "  padding-left: 1em;\n",
              "}\n",
              "\n",
              "\n",
              "/* Toggleable style: style used for estimator/Pipeline/ColumnTransformer box that is\n",
              "clickable and can be expanded/collapsed.\n",
              "- Pipeline and ColumnTransformer use this feature and define the default style\n",
              "- Estimators will overwrite some part of the style using the `sk-estimator` class\n",
              "*/\n",
              "\n",
              "/* Pipeline and ColumnTransformer style (default) */\n",
              "\n",
              "#sk-container-id-1 div.sk-toggleable {\n",
              "  /* Default theme specific background. It is overwritten whether we have a\n",
              "  specific estimator or a Pipeline/ColumnTransformer */\n",
              "  background-color: var(--sklearn-color-background);\n",
              "}\n",
              "\n",
              "/* Toggleable label */\n",
              "#sk-container-id-1 label.sk-toggleable__label {\n",
              "  cursor: pointer;\n",
              "  display: flex;\n",
              "  width: 100%;\n",
              "  margin-bottom: 0;\n",
              "  padding: 0.5em;\n",
              "  box-sizing: border-box;\n",
              "  text-align: center;\n",
              "  align-items: start;\n",
              "  justify-content: space-between;\n",
              "  gap: 0.5em;\n",
              "}\n",
              "\n",
              "#sk-container-id-1 label.sk-toggleable__label .caption {\n",
              "  font-size: 0.6rem;\n",
              "  font-weight: lighter;\n",
              "  color: var(--sklearn-color-text-muted);\n",
              "}\n",
              "\n",
              "#sk-container-id-1 label.sk-toggleable__label-arrow:before {\n",
              "  /* Arrow on the left of the label */\n",
              "  content: \"▸\";\n",
              "  float: left;\n",
              "  margin-right: 0.25em;\n",
              "  color: var(--sklearn-color-icon);\n",
              "}\n",
              "\n",
              "#sk-container-id-1 label.sk-toggleable__label-arrow:hover:before {\n",
              "  color: var(--sklearn-color-text);\n",
              "}\n",
              "\n",
              "/* Toggleable content - dropdown */\n",
              "\n",
              "#sk-container-id-1 div.sk-toggleable__content {\n",
              "  max-height: 0;\n",
              "  max-width: 0;\n",
              "  overflow: hidden;\n",
              "  text-align: left;\n",
              "  /* unfitted */\n",
              "  background-color: var(--sklearn-color-unfitted-level-0);\n",
              "}\n",
              "\n",
              "#sk-container-id-1 div.sk-toggleable__content.fitted {\n",
              "  /* fitted */\n",
              "  background-color: var(--sklearn-color-fitted-level-0);\n",
              "}\n",
              "\n",
              "#sk-container-id-1 div.sk-toggleable__content pre {\n",
              "  margin: 0.2em;\n",
              "  border-radius: 0.25em;\n",
              "  color: var(--sklearn-color-text);\n",
              "  /* unfitted */\n",
              "  background-color: var(--sklearn-color-unfitted-level-0);\n",
              "}\n",
              "\n",
              "#sk-container-id-1 div.sk-toggleable__content.fitted pre {\n",
              "  /* unfitted */\n",
              "  background-color: var(--sklearn-color-fitted-level-0);\n",
              "}\n",
              "\n",
              "#sk-container-id-1 input.sk-toggleable__control:checked~div.sk-toggleable__content {\n",
              "  /* Expand drop-down */\n",
              "  max-height: 200px;\n",
              "  max-width: 100%;\n",
              "  overflow: auto;\n",
              "}\n",
              "\n",
              "#sk-container-id-1 input.sk-toggleable__control:checked~label.sk-toggleable__label-arrow:before {\n",
              "  content: \"▾\";\n",
              "}\n",
              "\n",
              "/* Pipeline/ColumnTransformer-specific style */\n",
              "\n",
              "#sk-container-id-1 div.sk-label input.sk-toggleable__control:checked~label.sk-toggleable__label {\n",
              "  color: var(--sklearn-color-text);\n",
              "  background-color: var(--sklearn-color-unfitted-level-2);\n",
              "}\n",
              "\n",
              "#sk-container-id-1 div.sk-label.fitted input.sk-toggleable__control:checked~label.sk-toggleable__label {\n",
              "  background-color: var(--sklearn-color-fitted-level-2);\n",
              "}\n",
              "\n",
              "/* Estimator-specific style */\n",
              "\n",
              "/* Colorize estimator box */\n",
              "#sk-container-id-1 div.sk-estimator input.sk-toggleable__control:checked~label.sk-toggleable__label {\n",
              "  /* unfitted */\n",
              "  background-color: var(--sklearn-color-unfitted-level-2);\n",
              "}\n",
              "\n",
              "#sk-container-id-1 div.sk-estimator.fitted input.sk-toggleable__control:checked~label.sk-toggleable__label {\n",
              "  /* fitted */\n",
              "  background-color: var(--sklearn-color-fitted-level-2);\n",
              "}\n",
              "\n",
              "#sk-container-id-1 div.sk-label label.sk-toggleable__label,\n",
              "#sk-container-id-1 div.sk-label label {\n",
              "  /* The background is the default theme color */\n",
              "  color: var(--sklearn-color-text-on-default-background);\n",
              "}\n",
              "\n",
              "/* On hover, darken the color of the background */\n",
              "#sk-container-id-1 div.sk-label:hover label.sk-toggleable__label {\n",
              "  color: var(--sklearn-color-text);\n",
              "  background-color: var(--sklearn-color-unfitted-level-2);\n",
              "}\n",
              "\n",
              "/* Label box, darken color on hover, fitted */\n",
              "#sk-container-id-1 div.sk-label.fitted:hover label.sk-toggleable__label.fitted {\n",
              "  color: var(--sklearn-color-text);\n",
              "  background-color: var(--sklearn-color-fitted-level-2);\n",
              "}\n",
              "\n",
              "/* Estimator label */\n",
              "\n",
              "#sk-container-id-1 div.sk-label label {\n",
              "  font-family: monospace;\n",
              "  font-weight: bold;\n",
              "  display: inline-block;\n",
              "  line-height: 1.2em;\n",
              "}\n",
              "\n",
              "#sk-container-id-1 div.sk-label-container {\n",
              "  text-align: center;\n",
              "}\n",
              "\n",
              "/* Estimator-specific */\n",
              "#sk-container-id-1 div.sk-estimator {\n",
              "  font-family: monospace;\n",
              "  border: 1px dotted var(--sklearn-color-border-box);\n",
              "  border-radius: 0.25em;\n",
              "  box-sizing: border-box;\n",
              "  margin-bottom: 0.5em;\n",
              "  /* unfitted */\n",
              "  background-color: var(--sklearn-color-unfitted-level-0);\n",
              "}\n",
              "\n",
              "#sk-container-id-1 div.sk-estimator.fitted {\n",
              "  /* fitted */\n",
              "  background-color: var(--sklearn-color-fitted-level-0);\n",
              "}\n",
              "\n",
              "/* on hover */\n",
              "#sk-container-id-1 div.sk-estimator:hover {\n",
              "  /* unfitted */\n",
              "  background-color: var(--sklearn-color-unfitted-level-2);\n",
              "}\n",
              "\n",
              "#sk-container-id-1 div.sk-estimator.fitted:hover {\n",
              "  /* fitted */\n",
              "  background-color: var(--sklearn-color-fitted-level-2);\n",
              "}\n",
              "\n",
              "/* Specification for estimator info (e.g. \"i\" and \"?\") */\n",
              "\n",
              "/* Common style for \"i\" and \"?\" */\n",
              "\n",
              ".sk-estimator-doc-link,\n",
              "a:link.sk-estimator-doc-link,\n",
              "a:visited.sk-estimator-doc-link {\n",
              "  float: right;\n",
              "  font-size: smaller;\n",
              "  line-height: 1em;\n",
              "  font-family: monospace;\n",
              "  background-color: var(--sklearn-color-background);\n",
              "  border-radius: 1em;\n",
              "  height: 1em;\n",
              "  width: 1em;\n",
              "  text-decoration: none !important;\n",
              "  margin-left: 0.5em;\n",
              "  text-align: center;\n",
              "  /* unfitted */\n",
              "  border: var(--sklearn-color-unfitted-level-1) 1pt solid;\n",
              "  color: var(--sklearn-color-unfitted-level-1);\n",
              "}\n",
              "\n",
              ".sk-estimator-doc-link.fitted,\n",
              "a:link.sk-estimator-doc-link.fitted,\n",
              "a:visited.sk-estimator-doc-link.fitted {\n",
              "  /* fitted */\n",
              "  border: var(--sklearn-color-fitted-level-1) 1pt solid;\n",
              "  color: var(--sklearn-color-fitted-level-1);\n",
              "}\n",
              "\n",
              "/* On hover */\n",
              "div.sk-estimator:hover .sk-estimator-doc-link:hover,\n",
              ".sk-estimator-doc-link:hover,\n",
              "div.sk-label-container:hover .sk-estimator-doc-link:hover,\n",
              ".sk-estimator-doc-link:hover {\n",
              "  /* unfitted */\n",
              "  background-color: var(--sklearn-color-unfitted-level-3);\n",
              "  color: var(--sklearn-color-background);\n",
              "  text-decoration: none;\n",
              "}\n",
              "\n",
              "div.sk-estimator.fitted:hover .sk-estimator-doc-link.fitted:hover,\n",
              ".sk-estimator-doc-link.fitted:hover,\n",
              "div.sk-label-container:hover .sk-estimator-doc-link.fitted:hover,\n",
              ".sk-estimator-doc-link.fitted:hover {\n",
              "  /* fitted */\n",
              "  background-color: var(--sklearn-color-fitted-level-3);\n",
              "  color: var(--sklearn-color-background);\n",
              "  text-decoration: none;\n",
              "}\n",
              "\n",
              "/* Span, style for the box shown on hovering the info icon */\n",
              ".sk-estimator-doc-link span {\n",
              "  display: none;\n",
              "  z-index: 9999;\n",
              "  position: relative;\n",
              "  font-weight: normal;\n",
              "  right: .2ex;\n",
              "  padding: .5ex;\n",
              "  margin: .5ex;\n",
              "  width: min-content;\n",
              "  min-width: 20ex;\n",
              "  max-width: 50ex;\n",
              "  color: var(--sklearn-color-text);\n",
              "  box-shadow: 2pt 2pt 4pt #999;\n",
              "  /* unfitted */\n",
              "  background: var(--sklearn-color-unfitted-level-0);\n",
              "  border: .5pt solid var(--sklearn-color-unfitted-level-3);\n",
              "}\n",
              "\n",
              ".sk-estimator-doc-link.fitted span {\n",
              "  /* fitted */\n",
              "  background: var(--sklearn-color-fitted-level-0);\n",
              "  border: var(--sklearn-color-fitted-level-3);\n",
              "}\n",
              "\n",
              ".sk-estimator-doc-link:hover span {\n",
              "  display: block;\n",
              "}\n",
              "\n",
              "/* \"?\"-specific style due to the `<a>` HTML tag */\n",
              "\n",
              "#sk-container-id-1 a.estimator_doc_link {\n",
              "  float: right;\n",
              "  font-size: 1rem;\n",
              "  line-height: 1em;\n",
              "  font-family: monospace;\n",
              "  background-color: var(--sklearn-color-background);\n",
              "  border-radius: 1rem;\n",
              "  height: 1rem;\n",
              "  width: 1rem;\n",
              "  text-decoration: none;\n",
              "  /* unfitted */\n",
              "  color: var(--sklearn-color-unfitted-level-1);\n",
              "  border: var(--sklearn-color-unfitted-level-1) 1pt solid;\n",
              "}\n",
              "\n",
              "#sk-container-id-1 a.estimator_doc_link.fitted {\n",
              "  /* fitted */\n",
              "  border: var(--sklearn-color-fitted-level-1) 1pt solid;\n",
              "  color: var(--sklearn-color-fitted-level-1);\n",
              "}\n",
              "\n",
              "/* On hover */\n",
              "#sk-container-id-1 a.estimator_doc_link:hover {\n",
              "  /* unfitted */\n",
              "  background-color: var(--sklearn-color-unfitted-level-3);\n",
              "  color: var(--sklearn-color-background);\n",
              "  text-decoration: none;\n",
              "}\n",
              "\n",
              "#sk-container-id-1 a.estimator_doc_link.fitted:hover {\n",
              "  /* fitted */\n",
              "  background-color: var(--sklearn-color-fitted-level-3);\n",
              "}\n",
              "</style><div id=\"sk-container-id-1\" class=\"sk-top-container\"><div class=\"sk-text-repr-fallback\"><pre>LatentDirichletAllocation(n_components=8, random_state=0)</pre><b>In a Jupyter environment, please rerun this cell to show the HTML representation or trust the notebook. <br />On GitHub, the HTML representation is unable to render, please try loading this page with nbviewer.org.</b></div><div class=\"sk-container\" hidden><div class=\"sk-item\"><div class=\"sk-estimator fitted sk-toggleable\"><input class=\"sk-toggleable__control sk-hidden--visually\" id=\"sk-estimator-id-1\" type=\"checkbox\" checked><label for=\"sk-estimator-id-1\" class=\"sk-toggleable__label fitted sk-toggleable__label-arrow\"><div><div>LatentDirichletAllocation</div></div><div><a class=\"sk-estimator-doc-link fitted\" rel=\"noreferrer\" target=\"_blank\" href=\"https://scikit-learn.org/1.6/modules/generated/sklearn.decomposition.LatentDirichletAllocation.html\">?<span>Documentation for LatentDirichletAllocation</span></a><span class=\"sk-estimator-doc-link fitted\">i<span>Fitted</span></span></div></label><div class=\"sk-toggleable__content fitted\"><pre>LatentDirichletAllocation(n_components=8, random_state=0)</pre></div> </div></div></div></div>"
            ]
          },
          "metadata": {},
          "execution_count": 27
        }
      ]
    },
    {
      "cell_type": "code",
      "source": [
        "print(lda.components_.shape)\n",
        "lda.components_"
      ],
      "metadata": {
        "colab": {
          "base_uri": "https://localhost:8080/"
        },
        "id": "AEw5Y79rPXZo",
        "outputId": "ebda0830-f9d3-4490-8ea1-d57359f49c99"
      },
      "execution_count": null,
      "outputs": [
        {
          "output_type": "stream",
          "name": "stdout",
          "text": [
            "(8, 1000)\n"
          ]
        },
        {
          "output_type": "execute_result",
          "data": {
            "text/plain": [
              "array([[2.69030238e+02, 1.87798026e+02, 7.09003824e+01, ...,\n",
              "        1.22710343e+01, 1.06329639e+02, 7.25995512e+01],\n",
              "       [1.25091799e-01, 2.46049106e+00, 1.25051902e-01, ...,\n",
              "        2.80071176e+02, 1.25089783e-01, 5.05669662e+01],\n",
              "       [1.33978420e+02, 1.25042012e-01, 9.98277256e+01, ...,\n",
              "        1.25092219e-01, 3.31078261e+01, 1.25028398e-01],\n",
              "       ...,\n",
              "       [2.98813886e+01, 1.88071366e+01, 1.14748730e+01, ...,\n",
              "        1.93022584e+01, 5.29368271e+00, 1.44478198e+01],\n",
              "       [1.25074899e-01, 1.25105300e-01, 1.25004235e-01, ...,\n",
              "        1.03576436e+02, 1.25100535e-01, 7.22276359e+01],\n",
              "       [1.25172284e-01, 1.03967760e+00, 1.25221075e-01, ...,\n",
              "        5.31740996e+01, 1.25025929e-01, 1.25062991e-01]])"
            ]
          },
          "metadata": {},
          "execution_count": 28
        }
      ]
    },
    {
      "cell_type": "markdown",
      "source": [
        "각 토픽별로 연관도가 높은 순으로 Word를 나열"
      ],
      "metadata": {
        "id": "l6h1axB-PvGD"
      }
    },
    {
      "cell_type": "code",
      "source": [
        "def display_topics(model, feature_names, no_top_words):\n",
        "    for topic_index, topic in enumerate(model.components_):\n",
        "        print('Topic #', topic_index)\n",
        "\n",
        "        # components_ array에서 가장 값이 큰 순으로 정렬했을 때, 그 값의 array 인덱스를 반환.\n",
        "        topic_word_indexes = topic.argsort()[::-1]\n",
        "        top_indexes = topic_word_indexes[:no_top_words]\n",
        "\n",
        "        # top_indexes 대상인 인덱스별로 feature_names에 해당하는 word feature 추출 후 join으로 concat\n",
        "        feature_concat = ' '.join([feature_names[i] for i in top_indexes])\n",
        "        print(feature_concat)\n",
        "\n",
        "# CountVectorizer 객체 내의 전체 word의 명칭을 get_features_names_out()를 통해 추출\n",
        "feature_names = count_vect.get_feature_names_out()\n",
        "\n",
        "# 토픽별 가장 연관도가 높은 word를 15개만 추출\n",
        "display_topics(lda, feature_names, 15)"
      ],
      "metadata": {
        "colab": {
          "base_uri": "https://localhost:8080/"
        },
        "id": "_G_T-YxUPh7Z",
        "outputId": "812bb262-f0d6-42ae-a753-e225e6b17673"
      },
      "execution_count": null,
      "outputs": [
        {
          "output_type": "stream",
          "name": "stdout",
          "text": [
            "Topic # 0\n",
            "10 year medical health 1993 20 12 disease cancer team patients research number new 11\n",
            "Topic # 1\n",
            "don just like know think good time ve does way really people want ll right\n",
            "Topic # 2\n",
            "image file jpeg output program gif images format files color entry use bit 03 02\n",
            "Topic # 3\n",
            "armenian armenians turkish people said turkey armenia government genocide turks muslim russian greek azerbaijan killed\n",
            "Topic # 4\n",
            "israel jews dos jewish israeli dos dos arab state people arabs palestinian adl ed anti peace\n",
            "Topic # 5\n",
            "edu com available graphics ftp window use mail data motif software version pub information server\n",
            "Topic # 6\n",
            "god people jesus church believe say christ does christian think christians did know bible man\n",
            "Topic # 7\n",
            "thanks use using does help like display need problem know server screen windows window program\n"
          ]
        }
      ]
    }
  ],
  "metadata": {
    "colab": {
      "provenance": [],
      "include_colab_link": true
    },
    "kernelspec": {
      "display_name": "Python 3",
      "name": "python3"
    },
    "language_info": {
      "name": "python"
    }
  },
  "nbformat": 4,
  "nbformat_minor": 0
}